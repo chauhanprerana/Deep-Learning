{
  "nbformat": 4,
  "nbformat_minor": 0,
  "metadata": {
    "colab": {
      "name": "NLP Word2Vec.ipynb",
      "provenance": [],
      "collapsed_sections": []
    },
    "kernelspec": {
      "name": "python3",
      "display_name": "Python 3"
    }
  },
  "cells": [
    {
      "cell_type": "code",
      "metadata": {
        "colab": {
          "base_uri": "https://localhost:8080/"
        },
        "id": "anSOLA9S_sZ3",
        "outputId": "a193e0da-60b7-49a7-a301-6d9abeda0021"
      },
      "source": [
        "# Import Libraries\r\n",
        "\r\n",
        "import nltk\r\n",
        "nltk.download('punkt')\r\n",
        "nltk.download('stopwords')\r\n",
        "from gensim.models import Word2Vec\r\n",
        "from nltk.corpus import stopwords\r\n",
        "import re"
      ],
      "execution_count": 57,
      "outputs": [
        {
          "output_type": "stream",
          "text": [
            "[nltk_data] Downloading package punkt to /root/nltk_data...\n",
            "[nltk_data]   Package punkt is already up-to-date!\n",
            "[nltk_data] Downloading package stopwords to /root/nltk_data...\n",
            "[nltk_data]   Package stopwords is already up-to-date!\n"
          ],
          "name": "stdout"
        }
      ]
    },
    {
      "cell_type": "code",
      "metadata": {
        "id": "RyvJ8t98_k4v"
      },
      "source": [
        "paragraph = \"\"\"I have three visions for India. In 3000 years of our history, people from all over \r\n",
        "               the world have come and invaded us, captured our lands, conquered our minds. \r\n",
        "               From Alexander onwards, the Greeks, the Turks, the Moguls, the Portuguese, the British,\r\n",
        "               the French, the Dutch, all of them came and looted us, took over what was ours. \r\n",
        "               Yet we have not done this to any other nation. We have not conquered anyone. \r\n",
        "               We have not grabbed their land, their culture, \r\n",
        "               their history and tried to enforce our way of life on them. \r\n",
        "               Why? Because we respect the freedom of others.That is why my \r\n",
        "               first vision is that of freedom. I believe that India got its first vision of \r\n",
        "               this in 1857, when we started the War of Independence. It is this freedom that\r\n",
        "               we must protect and nurture and build on. If we are not free, no one will respect us.\r\n",
        "               My second vision for India’s development. For fifty years we have been a developing nation.\r\n",
        "               It is time we see ourselves as a developed nation. We are among the top 5 nations of the world\r\n",
        "               in terms of GDP. We have a 10 percent growth rate in most areas. Our poverty levels are falling.\r\n",
        "               Our achievements are being globally recognised today. Yet we lack the self-confidence to\r\n",
        "               see ourselves as a developed nation, self-reliant and self-assured. Isn’t this incorrect?\r\n",
        "               I have a third vision. India must stand up to the world. Because I believe that unless India \r\n",
        "               stands up to the world, no one will respect us. Only strength respects strength. We must be \r\n",
        "               strong not only as a military power but also as an economic power. Both must go hand-in-hand. \r\n",
        "               My good fortune was to have worked with three great minds. Dr. Vikram Sarabhai of the Dept. of \r\n",
        "               space, Professor Satish Dhawan, who succeeded him and Dr. Brahm Prakash, father of nuclear material.\r\n",
        "               I was lucky to have worked with all three of them closely and consider this the great opportunity of my life. \r\n",
        "               I see four milestones in my career\"\"\""
      ],
      "execution_count": 58,
      "outputs": []
    },
    {
      "cell_type": "code",
      "metadata": {
        "id": "layaqdXJ_yyI"
      },
      "source": [
        "# Preprocessing the data\r\n",
        "\r\n",
        "text = re.sub(r'\\[[0-9]*\\]',' ',paragraph)   # digits\r\n",
        "text = re.sub(r'\\s+',' ',text)               # spaces[ \\t\\n\\r\\f\\v]\r\n",
        "text = text.lower()                          # lowercase\r\n",
        "text = re.sub(r'\\d',' ',text)                # decimal digit\r\n",
        "text = re.sub(r'\\s+',' ',text)               # spaces[ \\t\\n\\r\\f\\v]"
      ],
      "execution_count": 59,
      "outputs": []
    },
    {
      "cell_type": "code",
      "metadata": {
        "id": "KIXAq13e_3K6"
      },
      "source": [
        "# Preparing the dataset\r\n",
        "\r\n",
        "sentences = nltk.sent_tokenize(text)\r\n",
        "\r\n",
        "sentences = [nltk.word_tokenize(sentence) for sentence in sentences]\r\n",
        "\r\n",
        "for i in range(len(sentences)):\r\n",
        "    sentences[i] = [word for word in sentences[i] if word not in stopwords.words('english')]"
      ],
      "execution_count": 60,
      "outputs": []
    },
    {
      "cell_type": "code",
      "metadata": {
        "colab": {
          "base_uri": "https://localhost:8080/"
        },
        "id": "6AUXtaDhMK9C",
        "outputId": "cde0e249-5b1f-42c0-a99d-2a339a63f7e1"
      },
      "source": [
        "sentences"
      ],
      "execution_count": 61,
      "outputs": [
        {
          "output_type": "execute_result",
          "data": {
            "text/plain": [
              "[['three', 'visions', 'india', '.'],\n",
              " ['years',\n",
              "  'history',\n",
              "  ',',\n",
              "  'people',\n",
              "  'world',\n",
              "  'come',\n",
              "  'invaded',\n",
              "  'us',\n",
              "  ',',\n",
              "  'captured',\n",
              "  'lands',\n",
              "  ',',\n",
              "  'conquered',\n",
              "  'minds',\n",
              "  '.'],\n",
              " ['alexander',\n",
              "  'onwards',\n",
              "  ',',\n",
              "  'greeks',\n",
              "  ',',\n",
              "  'turks',\n",
              "  ',',\n",
              "  'moguls',\n",
              "  ',',\n",
              "  'portuguese',\n",
              "  ',',\n",
              "  'british',\n",
              "  ',',\n",
              "  'french',\n",
              "  ',',\n",
              "  'dutch',\n",
              "  ',',\n",
              "  'came',\n",
              "  'looted',\n",
              "  'us',\n",
              "  ',',\n",
              "  'took',\n",
              "  '.'],\n",
              " ['yet', 'done', 'nation', '.'],\n",
              " ['conquered', 'anyone', '.'],\n",
              " ['grabbed',\n",
              "  'land',\n",
              "  ',',\n",
              "  'culture',\n",
              "  ',',\n",
              "  'history',\n",
              "  'tried',\n",
              "  'enforce',\n",
              "  'way',\n",
              "  'life',\n",
              "  '.'],\n",
              " ['?'],\n",
              " ['respect', 'freedom', 'others.that', 'first', 'vision', 'freedom', '.'],\n",
              " ['believe',\n",
              "  'india',\n",
              "  'got',\n",
              "  'first',\n",
              "  'vision',\n",
              "  ',',\n",
              "  'started',\n",
              "  'war',\n",
              "  'independence',\n",
              "  '.'],\n",
              " ['freedom', 'must', 'protect', 'nurture', 'build', '.'],\n",
              " ['free', ',', 'one', 'respect', 'us', '.'],\n",
              " ['second', 'vision', 'india', '’', 'development', '.'],\n",
              " ['fifty', 'years', 'developing', 'nation', '.'],\n",
              " ['time', 'see', 'developed', 'nation', '.'],\n",
              " ['among', 'top', 'nations', 'world', 'terms', 'gdp', '.'],\n",
              " ['percent', 'growth', 'rate', 'areas', '.'],\n",
              " ['poverty', 'levels', 'falling', '.'],\n",
              " ['achievements', 'globally', 'recognised', 'today', '.'],\n",
              " ['yet',\n",
              "  'lack',\n",
              "  'self-confidence',\n",
              "  'see',\n",
              "  'developed',\n",
              "  'nation',\n",
              "  ',',\n",
              "  'self-reliant',\n",
              "  'self-assured',\n",
              "  '.'],\n",
              " ['’', 'incorrect', '?'],\n",
              " ['third', 'vision', '.'],\n",
              " ['india', 'must', 'stand', 'world', '.'],\n",
              " ['believe',\n",
              "  'unless',\n",
              "  'india',\n",
              "  'stands',\n",
              "  'world',\n",
              "  ',',\n",
              "  'one',\n",
              "  'respect',\n",
              "  'us',\n",
              "  '.'],\n",
              " ['strength', 'respects', 'strength', '.'],\n",
              " ['must', 'strong', 'military', 'power', 'also', 'economic', 'power', '.'],\n",
              " ['must', 'go', 'hand-in-hand', '.'],\n",
              " ['good', 'fortune', 'worked', 'three', 'great', 'minds', '.'],\n",
              " ['dr.', 'vikram', 'sarabhai', 'dept', '.'],\n",
              " ['space',\n",
              "  ',',\n",
              "  'professor',\n",
              "  'satish',\n",
              "  'dhawan',\n",
              "  ',',\n",
              "  'succeeded',\n",
              "  'dr.',\n",
              "  'brahm',\n",
              "  'prakash',\n",
              "  ',',\n",
              "  'father',\n",
              "  'nuclear',\n",
              "  'material',\n",
              "  '.'],\n",
              " ['lucky',\n",
              "  'worked',\n",
              "  'three',\n",
              "  'closely',\n",
              "  'consider',\n",
              "  'great',\n",
              "  'opportunity',\n",
              "  'life',\n",
              "  '.'],\n",
              " ['see', 'four', 'milestones', 'career']]"
            ]
          },
          "metadata": {
            "tags": []
          },
          "execution_count": 61
        }
      ]
    },
    {
      "cell_type": "code",
      "metadata": {
        "id": "Y8HVC-71_6SE"
      },
      "source": [
        "# Training the Word2Vec model\r\n",
        "\r\n",
        "model = Word2Vec(sentences, min_count=1) # skip words with one count\r\n",
        "words = model.wv.vocab"
      ],
      "execution_count": 62,
      "outputs": []
    },
    {
      "cell_type": "code",
      "metadata": {
        "colab": {
          "base_uri": "https://localhost:8080/"
        },
        "id": "ENwVdC6wBS6Y",
        "outputId": "2b796280-aeca-4afe-fb15-1541e99c1237"
      },
      "source": [
        "words"
      ],
      "execution_count": 63,
      "outputs": [
        {
          "output_type": "execute_result",
          "data": {
            "text/plain": [
              "{',': <gensim.models.keyedvectors.Vocab at 0x7f8b5b4ef0b8>,\n",
              " '.': <gensim.models.keyedvectors.Vocab at 0x7f8b5b4ef048>,\n",
              " '?': <gensim.models.keyedvectors.Vocab at 0x7f8b5b4eeef0>,\n",
              " 'achievements': <gensim.models.keyedvectors.Vocab at 0x7f8b5b4f46a0>,\n",
              " 'alexander': <gensim.models.keyedvectors.Vocab at 0x7f8b5b4ef630>,\n",
              " 'also': <gensim.models.keyedvectors.Vocab at 0x7f8b5b4f4128>,\n",
              " 'among': <gensim.models.keyedvectors.Vocab at 0x7f8b5bd424a8>,\n",
              " 'anyone': <gensim.models.keyedvectors.Vocab at 0x7f8b5b4eed30>,\n",
              " 'areas': <gensim.models.keyedvectors.Vocab at 0x7f8b5bd42ba8>,\n",
              " 'believe': <gensim.models.keyedvectors.Vocab at 0x7f8b5b4ee550>,\n",
              " 'brahm': <gensim.models.keyedvectors.Vocab at 0x7f8b5b4f4cf8>,\n",
              " 'british': <gensim.models.keyedvectors.Vocab at 0x7f8b5b4eedd8>,\n",
              " 'build': <gensim.models.keyedvectors.Vocab at 0x7f8b5b4ee048>,\n",
              " 'came': <gensim.models.keyedvectors.Vocab at 0x7f8b5b4ee780>,\n",
              " 'captured': <gensim.models.keyedvectors.Vocab at 0x7f8b5b4ef5f8>,\n",
              " 'career': <gensim.models.keyedvectors.Vocab at 0x7f8b5b4f31d0>,\n",
              " 'closely': <gensim.models.keyedvectors.Vocab at 0x7f8b5b4f4da0>,\n",
              " 'come': <gensim.models.keyedvectors.Vocab at 0x7f8b5b4effd0>,\n",
              " 'conquered': <gensim.models.keyedvectors.Vocab at 0x7f8b5b4ef7f0>,\n",
              " 'consider': <gensim.models.keyedvectors.Vocab at 0x7f8b5b4f4ef0>,\n",
              " 'culture': <gensim.models.keyedvectors.Vocab at 0x7f8b5b4eeba8>,\n",
              " 'dept': <gensim.models.keyedvectors.Vocab at 0x7f8b5b4f4518>,\n",
              " 'developed': <gensim.models.keyedvectors.Vocab at 0x7f8b5bd42908>,\n",
              " 'developing': <gensim.models.keyedvectors.Vocab at 0x7f8b5b4ee748>,\n",
              " 'development': <gensim.models.keyedvectors.Vocab at 0x7f8b5b4ee6a0>,\n",
              " 'dhawan': <gensim.models.keyedvectors.Vocab at 0x7f8b5b4f4f28>,\n",
              " 'done': <gensim.models.keyedvectors.Vocab at 0x7f8b5b4ee7b8>,\n",
              " 'dr.': <gensim.models.keyedvectors.Vocab at 0x7f8b5b4f40f0>,\n",
              " 'dutch': <gensim.models.keyedvectors.Vocab at 0x7f8b5b4eea90>,\n",
              " 'economic': <gensim.models.keyedvectors.Vocab at 0x7f8b5b4f41d0>,\n",
              " 'enforce': <gensim.models.keyedvectors.Vocab at 0x7f8b5b4eef28>,\n",
              " 'falling': <gensim.models.keyedvectors.Vocab at 0x7f8b5b4f4ba8>,\n",
              " 'father': <gensim.models.keyedvectors.Vocab at 0x7f8b5b4f4eb8>,\n",
              " 'fifty': <gensim.models.keyedvectors.Vocab at 0x7f8b5b4eea20>,\n",
              " 'first': <gensim.models.keyedvectors.Vocab at 0x7f8b5b4ee3c8>,\n",
              " 'fortune': <gensim.models.keyedvectors.Vocab at 0x7f8b5b4f4fd0>,\n",
              " 'four': <gensim.models.keyedvectors.Vocab at 0x7f8b5b4f4f98>,\n",
              " 'free': <gensim.models.keyedvectors.Vocab at 0x7f8b5b4ee4e0>,\n",
              " 'freedom': <gensim.models.keyedvectors.Vocab at 0x7f8b5b4eeb38>,\n",
              " 'french': <gensim.models.keyedvectors.Vocab at 0x7f8b5b4eeda0>,\n",
              " 'gdp': <gensim.models.keyedvectors.Vocab at 0x7f8b5bd42e10>,\n",
              " 'globally': <gensim.models.keyedvectors.Vocab at 0x7f8b5b4f4710>,\n",
              " 'go': <gensim.models.keyedvectors.Vocab at 0x7f8b5b4f4e10>,\n",
              " 'good': <gensim.models.keyedvectors.Vocab at 0x7f8b5b4f4c88>,\n",
              " 'got': <gensim.models.keyedvectors.Vocab at 0x7f8b5b4ee2e8>,\n",
              " 'grabbed': <gensim.models.keyedvectors.Vocab at 0x7f8b5b4eec18>,\n",
              " 'great': <gensim.models.keyedvectors.Vocab at 0x7f8b5b4f4160>,\n",
              " 'greeks': <gensim.models.keyedvectors.Vocab at 0x7f8b5b4efd30>,\n",
              " 'growth': <gensim.models.keyedvectors.Vocab at 0x7f8b5bd423c8>,\n",
              " 'hand-in-hand': <gensim.models.keyedvectors.Vocab at 0x7f8b5b4f4c50>,\n",
              " 'history': <gensim.models.keyedvectors.Vocab at 0x7f8b5b4efbe0>,\n",
              " 'incorrect': <gensim.models.keyedvectors.Vocab at 0x7f8b5b4f4630>,\n",
              " 'independence': <gensim.models.keyedvectors.Vocab at 0x7f8b5b4ee320>,\n",
              " 'india': <gensim.models.keyedvectors.Vocab at 0x7f8b5b4ef128>,\n",
              " 'invaded': <gensim.models.keyedvectors.Vocab at 0x7f8b5b4ef1d0>,\n",
              " 'lack': <gensim.models.keyedvectors.Vocab at 0x7f8b5b4f4940>,\n",
              " 'land': <gensim.models.keyedvectors.Vocab at 0x7f8b5b4ee7f0>,\n",
              " 'lands': <gensim.models.keyedvectors.Vocab at 0x7f8b5b4ef668>,\n",
              " 'levels': <gensim.models.keyedvectors.Vocab at 0x7f8b5bd420b8>,\n",
              " 'life': <gensim.models.keyedvectors.Vocab at 0x7f8b5b4eef98>,\n",
              " 'looted': <gensim.models.keyedvectors.Vocab at 0x7f8b5b4eec50>,\n",
              " 'lucky': <gensim.models.keyedvectors.Vocab at 0x7f8b5b4f4c18>,\n",
              " 'material': <gensim.models.keyedvectors.Vocab at 0x7f8b5b4f43c8>,\n",
              " 'milestones': <gensim.models.keyedvectors.Vocab at 0x7f8b5b4f3550>,\n",
              " 'military': <gensim.models.keyedvectors.Vocab at 0x7f8b5b4f4978>,\n",
              " 'minds': <gensim.models.keyedvectors.Vocab at 0x7f8b5b4efdd8>,\n",
              " 'moguls': <gensim.models.keyedvectors.Vocab at 0x7f8b5b4efe80>,\n",
              " 'must': <gensim.models.keyedvectors.Vocab at 0x7f8b5b4ee630>,\n",
              " 'nation': <gensim.models.keyedvectors.Vocab at 0x7f8b5b4eee48>,\n",
              " 'nations': <gensim.models.keyedvectors.Vocab at 0x7f8b5bd422e8>,\n",
              " 'nuclear': <gensim.models.keyedvectors.Vocab at 0x7f8b5b4f4f60>,\n",
              " 'nurture': <gensim.models.keyedvectors.Vocab at 0x7f8b5b4ee710>,\n",
              " 'one': <gensim.models.keyedvectors.Vocab at 0x7f8b5b4ee470>,\n",
              " 'onwards': <gensim.models.keyedvectors.Vocab at 0x7f8b5b4ef9b0>,\n",
              " 'opportunity': <gensim.models.keyedvectors.Vocab at 0x7f8b5b4f4048>,\n",
              " 'others.that': <gensim.models.keyedvectors.Vocab at 0x7f8b5b4ee2b0>,\n",
              " 'people': <gensim.models.keyedvectors.Vocab at 0x7f8b5b4efd68>,\n",
              " 'percent': <gensim.models.keyedvectors.Vocab at 0x7f8b5bd42518>,\n",
              " 'portuguese': <gensim.models.keyedvectors.Vocab at 0x7f8b5b4ef940>,\n",
              " 'poverty': <gensim.models.keyedvectors.Vocab at 0x7f8b5bd42278>,\n",
              " 'power': <gensim.models.keyedvectors.Vocab at 0x7f8b5b4f4860>,\n",
              " 'prakash': <gensim.models.keyedvectors.Vocab at 0x7f8b5b4f4dd8>,\n",
              " 'professor': <gensim.models.keyedvectors.Vocab at 0x7f8b5b4f4d68>,\n",
              " 'protect': <gensim.models.keyedvectors.Vocab at 0x7f8b5b4ee128>,\n",
              " 'rate': <gensim.models.keyedvectors.Vocab at 0x7f8b5bd42d30>,\n",
              " 'recognised': <gensim.models.keyedvectors.Vocab at 0x7f8b5b4f4b38>,\n",
              " 'respect': <gensim.models.keyedvectors.Vocab at 0x7f8b5b4eeb70>,\n",
              " 'respects': <gensim.models.keyedvectors.Vocab at 0x7f8b5b4f4390>,\n",
              " 'sarabhai': <gensim.models.keyedvectors.Vocab at 0x7f8b5b4f42b0>,\n",
              " 'satish': <gensim.models.keyedvectors.Vocab at 0x7f8b5b4f4e80>,\n",
              " 'second': <gensim.models.keyedvectors.Vocab at 0x7f8b5b4ee438>,\n",
              " 'see': <gensim.models.keyedvectors.Vocab at 0x7f8b5b4ee588>,\n",
              " 'self-assured': <gensim.models.keyedvectors.Vocab at 0x7f8b5b4f4470>,\n",
              " 'self-confidence': <gensim.models.keyedvectors.Vocab at 0x7f8b5b4f4b00>,\n",
              " 'self-reliant': <gensim.models.keyedvectors.Vocab at 0x7f8b5b4f49e8>,\n",
              " 'space': <gensim.models.keyedvectors.Vocab at 0x7f8b5b4f4cc0>,\n",
              " 'stand': <gensim.models.keyedvectors.Vocab at 0x7f8b5b4f47b8>,\n",
              " 'stands': <gensim.models.keyedvectors.Vocab at 0x7f8b5b4f4908>,\n",
              " 'started': <gensim.models.keyedvectors.Vocab at 0x7f8b5b4ee1d0>,\n",
              " 'strength': <gensim.models.keyedvectors.Vocab at 0x7f8b5b4f4748>,\n",
              " 'strong': <gensim.models.keyedvectors.Vocab at 0x7f8b5b4f4d30>,\n",
              " 'succeeded': <gensim.models.keyedvectors.Vocab at 0x7f8b5b4f4e48>,\n",
              " 'terms': <gensim.models.keyedvectors.Vocab at 0x7f8b5bd426a0>,\n",
              " 'third': <gensim.models.keyedvectors.Vocab at 0x7f8b5b4f44e0>,\n",
              " 'three': <gensim.models.keyedvectors.Vocab at 0x7f8b5b4efeb8>,\n",
              " 'time': <gensim.models.keyedvectors.Vocab at 0x7f8b5b4ee8d0>,\n",
              " 'today': <gensim.models.keyedvectors.Vocab at 0x7f8b5b4f4898>,\n",
              " 'took': <gensim.models.keyedvectors.Vocab at 0x7f8b5b4ee4a8>,\n",
              " 'top': <gensim.models.keyedvectors.Vocab at 0x7f8b5bd42eb8>,\n",
              " 'tried': <gensim.models.keyedvectors.Vocab at 0x7f8b5b4ee860>,\n",
              " 'turks': <gensim.models.keyedvectors.Vocab at 0x7f8b5b4ef908>,\n",
              " 'unless': <gensim.models.keyedvectors.Vocab at 0x7f8b5b4f47f0>,\n",
              " 'us': <gensim.models.keyedvectors.Vocab at 0x7f8b5b4ef6d8>,\n",
              " 'vikram': <gensim.models.keyedvectors.Vocab at 0x7f8b5b4f4a20>,\n",
              " 'vision': <gensim.models.keyedvectors.Vocab at 0x7f8b5b4ee080>,\n",
              " 'visions': <gensim.models.keyedvectors.Vocab at 0x7f8b5b4efcc0>,\n",
              " 'war': <gensim.models.keyedvectors.Vocab at 0x7f8b5b4ee358>,\n",
              " 'way': <gensim.models.keyedvectors.Vocab at 0x7f8b5b4eecc0>,\n",
              " 'worked': <gensim.models.keyedvectors.Vocab at 0x7f8b5b4f4be0>,\n",
              " 'world': <gensim.models.keyedvectors.Vocab at 0x7f8b5b4ef240>,\n",
              " 'years': <gensim.models.keyedvectors.Vocab at 0x7f8b5b4eff28>,\n",
              " 'yet': <gensim.models.keyedvectors.Vocab at 0x7f8b5b4ee978>,\n",
              " '’': <gensim.models.keyedvectors.Vocab at 0x7f8b5b4ee278>}"
            ]
          },
          "metadata": {
            "tags": []
          },
          "execution_count": 63
        }
      ]
    },
    {
      "cell_type": "code",
      "metadata": {
        "id": "APZYvns6_-gl"
      },
      "source": [
        "# Finding Word Vectors\r\n",
        "vector = model.wv['freedom'] # vector of word 'freedom'"
      ],
      "execution_count": 64,
      "outputs": []
    },
    {
      "cell_type": "code",
      "metadata": {
        "colab": {
          "base_uri": "https://localhost:8080/"
        },
        "id": "KMegu5HxBYqJ",
        "outputId": "2d0df1fe-7476-4f75-bda1-ed0c0e4b97ae"
      },
      "source": [
        "vector"
      ],
      "execution_count": 65,
      "outputs": [
        {
          "output_type": "execute_result",
          "data": {
            "text/plain": [
              "array([ 3.3237652e-03,  7.2465558e-04, -2.2767293e-03,  2.0889642e-03,\n",
              "        1.6879098e-03,  9.3927170e-04, -1.6577106e-03, -1.0044962e-03,\n",
              "        3.5106558e-03, -4.0298877e-03,  2.3669535e-03,  1.4107572e-03,\n",
              "       -4.9038436e-03, -1.2618663e-03, -1.1704951e-03, -4.5484374e-03,\n",
              "        1.6499594e-03, -2.0839181e-03, -4.2809243e-03, -4.7359206e-03,\n",
              "       -3.6378947e-04,  1.6180013e-04, -1.8658833e-05, -2.9162035e-04,\n",
              "       -2.7198805e-03, -3.4834279e-03,  3.3351523e-03,  6.6611072e-05,\n",
              "        2.2150672e-03,  2.6589893e-03,  3.7553168e-03, -6.3196855e-04,\n",
              "       -3.6788953e-03, -4.8778855e-04, -5.8247148e-05,  2.9022463e-03,\n",
              "        4.5313644e-03, -2.8747558e-03,  1.5182265e-03, -1.8537131e-03,\n",
              "        2.4257002e-03, -2.0584629e-03,  4.5616077e-03, -9.1602921e-04,\n",
              "        2.5801973e-03, -3.5537407e-03,  3.3652615e-03, -3.6731668e-04,\n",
              "        3.5990370e-04, -1.6819399e-03, -4.1432292e-03,  3.8159834e-03,\n",
              "       -1.0654187e-03, -3.5081161e-03,  4.6067652e-03,  4.6915677e-03,\n",
              "       -7.5401674e-04, -1.5993406e-03, -4.1035605e-03, -3.4631051e-03,\n",
              "       -4.3476145e-03, -3.3970519e-03, -1.8643488e-03, -4.8427302e-03,\n",
              "       -3.5711781e-03, -3.1708363e-03, -1.4172194e-03, -1.3412214e-03,\n",
              "        4.0901643e-03,  1.1420307e-03,  1.0702750e-03,  1.7436099e-03,\n",
              "       -3.1341260e-04,  3.3859340e-03, -1.7536754e-03,  1.3607874e-04,\n",
              "       -2.4994859e-03, -4.7079977e-03, -3.5215425e-03,  4.4053178e-03,\n",
              "        1.2658683e-03,  3.6387166e-03, -1.4984304e-03, -4.2058635e-03,\n",
              "        3.2440137e-05, -1.9755303e-03,  3.4340588e-05, -2.2624710e-03,\n",
              "       -2.2200297e-03, -4.3389718e-03,  2.6983712e-03, -2.1968116e-03,\n",
              "       -4.0329955e-04, -2.3983300e-03,  1.3773688e-03,  3.9345544e-04,\n",
              "        2.2691772e-03, -2.4490412e-03,  1.6196133e-03,  4.4697667e-03],\n",
              "      dtype=float32)"
            ]
          },
          "metadata": {
            "tags": []
          },
          "execution_count": 65
        }
      ]
    },
    {
      "cell_type": "code",
      "metadata": {
        "id": "4OBy-3T8ABub"
      },
      "source": [
        "# Most similar words\r\n",
        "similar = model.wv.most_similar('freedom')"
      ],
      "execution_count": 66,
      "outputs": []
    },
    {
      "cell_type": "code",
      "metadata": {
        "colab": {
          "base_uri": "https://localhost:8080/"
        },
        "id": "e5U8ZRUDBcoa",
        "outputId": "f526bf21-91d6-4915-de51-444dcb479094"
      },
      "source": [
        "similar"
      ],
      "execution_count": 67,
      "outputs": [
        {
          "output_type": "execute_result",
          "data": {
            "text/plain": [
              "[('military', 0.27025869488716125),\n",
              " ('sarabhai', 0.20547804236412048),\n",
              " ('levels', 0.20431926846504211),\n",
              " ('terms', 0.2010682374238968),\n",
              " ('onwards', 0.18875710666179657),\n",
              " ('vision', 0.15392443537712097),\n",
              " ('years', 0.1466137021780014),\n",
              " ('good', 0.14649084210395813),\n",
              " ('see', 0.1432378590106964),\n",
              " ('top', 0.1283513307571411)]"
            ]
          },
          "metadata": {
            "tags": []
          },
          "execution_count": 67
        }
      ]
    }
  ]
}