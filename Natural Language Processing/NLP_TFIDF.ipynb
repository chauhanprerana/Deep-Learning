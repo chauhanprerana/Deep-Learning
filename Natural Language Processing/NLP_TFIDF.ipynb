{
  "nbformat": 4,
  "nbformat_minor": 0,
  "metadata": {
    "colab": {
      "name": "NLP TFIDF.ipynb",
      "provenance": [],
      "collapsed_sections": []
    },
    "kernelspec": {
      "name": "python3",
      "display_name": "Python 3"
    }
  },
  "cells": [
    {
      "cell_type": "markdown",
      "metadata": {
        "id": "uEZFr2BV5ELE"
      },
      "source": [
        "### **Term Frequency and Inverse Document Frequency - TFIDF**"
      ]
    },
    {
      "cell_type": "code",
      "metadata": {
        "colab": {
          "base_uri": "https://localhost:8080/"
        },
        "id": "cthSJ9zBxjYh",
        "outputId": "ce5c1a71-1d01-4d9c-ca90-2936be28fd9c"
      },
      "source": [
        "# Import NLTK\r\n",
        "\r\n",
        "import nltk\r\n",
        "#nltk.download()\r\n",
        "from nltk.stem import PorterStemmer\r\n",
        "from nltk.corpus import stopwords\r\n",
        "nltk.download('punkt')\r\n",
        "nltk.download('stopwords')\r\n",
        "nltk.download('wordnet')\r\n",
        "from nltk.stem import WordNetLemmatizer\r\n",
        "import re"
      ],
      "execution_count": 9,
      "outputs": [
        {
          "output_type": "stream",
          "text": [
            "[nltk_data] Downloading package punkt to /root/nltk_data...\n",
            "[nltk_data]   Package punkt is already up-to-date!\n",
            "[nltk_data] Downloading package stopwords to /root/nltk_data...\n",
            "[nltk_data]   Package stopwords is already up-to-date!\n",
            "[nltk_data] Downloading package wordnet to /root/nltk_data...\n",
            "[nltk_data]   Package wordnet is already up-to-date!\n"
          ],
          "name": "stdout"
        }
      ]
    },
    {
      "cell_type": "code",
      "metadata": {
        "id": "SH2cwDNz5WnJ"
      },
      "source": [
        "paragraph =  \"\"\"I have three visions for India. In 3000 years of our history, people from all over \r\n",
        "               the world have come and invaded us, captured our lands, conquered our minds. \r\n",
        "               From Alexander onwards, the Greeks, the Turks, the Moguls, the Portuguese, the British,\r\n",
        "               the French, the Dutch, all of them came and looted us, took over what was ours. \r\n",
        "               Yet we have not done this to any other nation. We have not conquered anyone. \r\n",
        "               We have not grabbed their land, their culture, \r\n",
        "               their history and tried to enforce our way of life on them. \r\n",
        "               Why? Because we respect the freedom of others.That is why my \r\n",
        "               first vision is that of freedom. I believe that India got its first vision of \r\n",
        "               this in 1857, when we started the War of Independence. It is this freedom that\r\n",
        "               we must protect and nurture and build on. If we are not free, no one will respect us.\r\n",
        "               My second vision for India’s development. For fifty years we have been a developing nation.\r\n",
        "               It is time we see ourselves as a developed nation. We are among the top 5 nations of the world\r\n",
        "               in terms of GDP. We have a 10 percent growth rate in most areas. Our poverty levels are falling.\r\n",
        "               Our achievements are being globally recognised today. Yet we lack the self-confidence to\r\n",
        "               see ourselves as a developed nation, self-reliant and self-assured. Isn’t this incorrect?\r\n",
        "               I have a third vision. India must stand up to the world. Because I believe that unless India \r\n",
        "               stands up to the world, no one will respect us. Only strength respects strength. We must be \r\n",
        "               strong not only as a military power but also as an economic power. Both must go hand-in-hand. \r\n",
        "               My good fortune was to have worked with three great minds. Dr. Vikram Sarabhai of the Dept. of \r\n",
        "               space, Professor Satish Dhawan, who succeeded him and Dr. Brahm Prakash, father of nuclear material.\r\n",
        "               I was lucky to have worked with all three of them closely and consider this the great opportunity of my life. \r\n",
        "               I see four milestones in my career\"\"\""
      ],
      "execution_count": 10,
      "outputs": []
    },
    {
      "cell_type": "code",
      "metadata": {
        "id": "pwJdhnXU5cfN"
      },
      "source": [
        "# Cleaning the texts\r\n",
        "\r\n",
        "wordnet=WordNetLemmatizer()\r\n",
        "sentences = nltk.sent_tokenize(paragraph)\r\n",
        "corpus = []\r\n",
        "for i in range(len(sentences)):\r\n",
        "    review = re.sub('[^a-zA-Z]', ' ', sentences[i])\r\n",
        "    review = review.lower()\r\n",
        "    review = review.split()\r\n",
        "    review = [wordnet.lemmatize(word) for word in review if not word in set(stopwords.words('english'))]\r\n",
        "    review = ' '.join(review)\r\n",
        "    corpus.append(review)"
      ],
      "execution_count": 11,
      "outputs": []
    },
    {
      "cell_type": "code",
      "metadata": {
        "colab": {
          "base_uri": "https://localhost:8080/"
        },
        "id": "pZ610wA6982j",
        "outputId": "f1024d6d-b167-4b26-bd36-c7b53254cb69"
      },
      "source": [
        "corpus"
      ],
      "execution_count": 12,
      "outputs": [
        {
          "output_type": "execute_result",
          "data": {
            "text/plain": [
              "['three vision india',\n",
              " 'year history people world come invaded u captured land conquered mind',\n",
              " 'alexander onwards greek turk mogul portuguese british french dutch came looted u took',\n",
              " 'yet done nation',\n",
              " 'conquered anyone',\n",
              " 'grabbed land culture history tried enforce way life',\n",
              " '',\n",
              " 'respect freedom others first vision freedom',\n",
              " 'believe india got first vision started war independence',\n",
              " 'freedom must protect nurture build',\n",
              " 'free one respect u',\n",
              " 'second vision india development',\n",
              " 'fifty year developing nation',\n",
              " 'time see developed nation',\n",
              " 'among top nation world term gdp',\n",
              " 'percent growth rate area',\n",
              " 'poverty level falling',\n",
              " 'achievement globally recognised today',\n",
              " 'yet lack self confidence see developed nation self reliant self assured',\n",
              " 'incorrect',\n",
              " 'third vision',\n",
              " 'india must stand world',\n",
              " 'believe unless india stand world one respect u',\n",
              " 'strength respect strength',\n",
              " 'must strong military power also economic power',\n",
              " 'must go hand hand',\n",
              " 'good fortune worked three great mind',\n",
              " 'dr vikram sarabhai dept',\n",
              " 'space professor satish dhawan succeeded dr brahm prakash father nuclear material',\n",
              " 'lucky worked three closely consider great opportunity life',\n",
              " 'see four milestone career']"
            ]
          },
          "metadata": {
            "tags": []
          },
          "execution_count": 12
        }
      ]
    },
    {
      "cell_type": "code",
      "metadata": {
        "id": "lPgCDL9u5gMB"
      },
      "source": [
        "# Creating the TF-IDF model\r\n",
        "from sklearn.feature_extraction.text import TfidfVectorizer\r\n",
        "cv = TfidfVectorizer()\r\n",
        "X = cv.fit_transform(corpus).toarray()"
      ],
      "execution_count": 13,
      "outputs": []
    },
    {
      "cell_type": "code",
      "metadata": {
        "colab": {
          "base_uri": "https://localhost:8080/"
        },
        "id": "1qv_QYik97Oq",
        "outputId": "224472ed-aa2f-4433-918a-a1eb8e34c72f"
      },
      "source": [
        "cv, X"
      ],
      "execution_count": 14,
      "outputs": [
        {
          "output_type": "execute_result",
          "data": {
            "text/plain": [
              "(TfidfVectorizer(analyzer='word', binary=False, decode_error='strict',\n",
              "                 dtype=<class 'numpy.float64'>, encoding='utf-8',\n",
              "                 input='content', lowercase=True, max_df=1.0, max_features=None,\n",
              "                 min_df=1, ngram_range=(1, 1), norm='l2', preprocessor=None,\n",
              "                 smooth_idf=True, stop_words=None, strip_accents=None,\n",
              "                 sublinear_tf=False, token_pattern='(?u)\\\\b\\\\w\\\\w+\\\\b',\n",
              "                 tokenizer=None, use_idf=True, vocabulary=None),\n",
              " array([[0.        , 0.        , 0.        , ..., 0.        , 0.        ,\n",
              "         0.        ],\n",
              "        [0.        , 0.        , 0.        , ..., 0.25883507, 0.30512561,\n",
              "         0.        ],\n",
              "        [0.        , 0.28867513, 0.        , ..., 0.        , 0.        ,\n",
              "         0.        ],\n",
              "        ...,\n",
              "        [0.        , 0.        , 0.        , ..., 0.        , 0.        ,\n",
              "         0.        ],\n",
              "        [0.        , 0.        , 0.        , ..., 0.        , 0.        ,\n",
              "         0.        ],\n",
              "        [0.        , 0.        , 0.        , ..., 0.        , 0.        ,\n",
              "         0.        ]]))"
            ]
          },
          "metadata": {
            "tags": []
          },
          "execution_count": 14
        }
      ]
    }
  ]
}