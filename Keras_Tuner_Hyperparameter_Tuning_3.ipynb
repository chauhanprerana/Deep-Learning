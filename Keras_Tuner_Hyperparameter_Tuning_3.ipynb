{
  "nbformat": 4,
  "nbformat_minor": 0,
  "metadata": {
    "colab": {
      "name": "Keras Tuner Hyperparameter Tuning 3.ipynb",
      "provenance": [],
      "collapsed_sections": []
    },
    "kernelspec": {
      "name": "python3",
      "display_name": "Python 3"
    }
  },
  "cells": [
    {
      "cell_type": "code",
      "metadata": {
        "colab": {
          "base_uri": "https://localhost:8080/"
        },
        "id": "DgHELQWyVzpy",
        "outputId": "95f0a3ab-ce3a-47cc-8888-46f3220211c8"
      },
      "source": [
        "from google.colab import drive\r\n",
        "drive.mount('/gdrive')"
      ],
      "execution_count": 1,
      "outputs": [
        {
          "output_type": "stream",
          "text": [
            "Mounted at /gdrive\n"
          ],
          "name": "stdout"
        }
      ]
    },
    {
      "cell_type": "markdown",
      "metadata": {
        "id": "9mMOOClcXTf_"
      },
      "source": [
        "### **Artificial Neural Network**"
      ]
    },
    {
      "cell_type": "markdown",
      "metadata": {
        "id": "GRdSjQvuXcK1"
      },
      "source": [
        "#### **Part 1 - Data Preprocessing**"
      ]
    },
    {
      "cell_type": "code",
      "metadata": {
        "id": "ZRrjbZNDXlCR"
      },
      "source": [
        "# Importing the libraries\r\n",
        "import numpy as np\r\n",
        "import matplotlib.pyplot as plt\r\n",
        "import pandas as pd\r\n",
        "import tensorflow"
      ],
      "execution_count": 14,
      "outputs": []
    },
    {
      "cell_type": "code",
      "metadata": {
        "id": "PH3tFwC5Xphp"
      },
      "source": [
        "# Importing the dataset\r\n",
        "dataset = pd.read_csv('/gdrive/My Drive/Churn_Modelling.csv')\r\n",
        "X = dataset.iloc[:, 3:13]\r\n",
        "y = dataset.iloc[:, 13]"
      ],
      "execution_count": 4,
      "outputs": []
    },
    {
      "cell_type": "code",
      "metadata": {
        "id": "CEf-THJDXqjd"
      },
      "source": [
        "#Create dummy variables\r\n",
        "geography=pd.get_dummies(X[\"Geography\"],drop_first=True)\r\n",
        "gender=pd.get_dummies(X['Gender'],drop_first=True)"
      ],
      "execution_count": 5,
      "outputs": []
    },
    {
      "cell_type": "code",
      "metadata": {
        "id": "ndLPl81lXtoU"
      },
      "source": [
        "## Concatenate the Data Frames\r\n",
        "\r\n",
        "X=pd.concat([X,geography,gender],axis=1)"
      ],
      "execution_count": 6,
      "outputs": []
    },
    {
      "cell_type": "code",
      "metadata": {
        "id": "PZtTXa76XtfG"
      },
      "source": [
        "## Drop Unnecessary columns\r\n",
        "X=X.drop(['Geography','Gender'],axis=1)"
      ],
      "execution_count": 7,
      "outputs": []
    },
    {
      "cell_type": "code",
      "metadata": {
        "id": "pZ_fdonIXtXW"
      },
      "source": [
        "# Splitting the dataset into the Training set and Test set\r\n",
        "from sklearn.model_selection import train_test_split\r\n",
        "X_train, X_test, y_train, y_test = train_test_split(X, y, test_size = 0.2, random_state = 0)"
      ],
      "execution_count": 8,
      "outputs": []
    },
    {
      "cell_type": "code",
      "metadata": {
        "id": "yv7Dp1pgX6OZ"
      },
      "source": [
        "# Feature Scaling\r\n",
        "from sklearn.preprocessing import StandardScaler\r\n",
        "sc = StandardScaler()\r\n",
        "X_train = sc.fit_transform(X_train)\r\n",
        "X_test = sc.transform(X_test)"
      ],
      "execution_count": 9,
      "outputs": []
    },
    {
      "cell_type": "code",
      "metadata": {
        "id": "ow7TWXnvX6Dq"
      },
      "source": [
        "## Perform Hyperparameter Optimization\r\n",
        "\r\n",
        "from keras.wrappers.scikit_learn import KerasClassifier\r\n",
        "from sklearn.model_selection import GridSearchCV\r\n",
        "\r\n",
        "from keras.models import Sequential\r\n",
        "from keras.layers import Dense, Activation, Embedding, Flatten, LeakyReLU, BatchNormalization, Dropout\r\n",
        "from keras.activations import relu, sigmoid"
      ],
      "execution_count": 10,
      "outputs": []
    },
    {
      "cell_type": "code",
      "metadata": {
        "id": "651j_1bIX572"
      },
      "source": [
        "def create_model(layers, activation):\r\n",
        "    model = Sequential()\r\n",
        "    for i, nodes in enumerate(layers):\r\n",
        "        if i==0:\r\n",
        "            model.add(Dense(nodes,input_dim=X_train.shape[1]))\r\n",
        "            model.add(Activation(activation))\r\n",
        "            model.add(Dropout(0.3))\r\n",
        "        else:\r\n",
        "            model.add(Dense(nodes))\r\n",
        "            model.add(Activation(activation))\r\n",
        "            model.add(Dropout(0.3))\r\n",
        "            \r\n",
        "    model.add(Dense(units = 1, kernel_initializer= 'glorot_uniform', activation = 'sigmoid')) # Note: no activation beyond this point\r\n",
        "    \r\n",
        "    model.compile(optimizer='adam', loss='binary_crossentropy',metrics=['accuracy'])\r\n",
        "    return model"
      ],
      "execution_count": 11,
      "outputs": []
    },
    {
      "cell_type": "code",
      "metadata": {
        "id": "8Mv2LLxEX5zV"
      },
      "source": [
        "model = KerasClassifier(build_fn=create_model, verbose=0)"
      ],
      "execution_count": 12,
      "outputs": []
    },
    {
      "cell_type": "code",
      "metadata": {
        "id": "KAYliWHnYGWH"
      },
      "source": [
        "layers = [(20,), (40, 20), (45, 30, 15)]\r\n",
        "activations = ['sigmoid', 'relu']\r\n",
        "param_grid = dict(layers=layers, activation=activations, batch_size = [128, 256], epochs=[30])\r\n",
        "grid = GridSearchCV(estimator=model, param_grid=param_grid,cv=5)"
      ],
      "execution_count": 18,
      "outputs": []
    },
    {
      "cell_type": "code",
      "metadata": {
        "id": "ZIdlveLwZEJF"
      },
      "source": [
        "grid_result = grid.fit(X_train, y_train)"
      ],
      "execution_count": 19,
      "outputs": []
    },
    {
      "cell_type": "code",
      "metadata": {
        "colab": {
          "base_uri": "https://localhost:8080/"
        },
        "id": "4uxLxGZnVZk1",
        "outputId": "755eb66b-b972-4855-b0da-a955bf88407a"
      },
      "source": [
        "[grid_result.best_score_,grid_result.best_params_]"
      ],
      "execution_count": 20,
      "outputs": [
        {
          "output_type": "execute_result",
          "data": {
            "text/plain": [
              "[0.856375002861023,\n",
              " {'activation': 'relu', 'batch_size': 128, 'epochs': 30, 'layers': (40, 20)}]"
            ]
          },
          "metadata": {
            "tags": []
          },
          "execution_count": 20
        }
      ]
    }
  ]
}