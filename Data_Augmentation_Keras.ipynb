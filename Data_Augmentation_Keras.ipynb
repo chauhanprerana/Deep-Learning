{
  "nbformat": 4,
  "nbformat_minor": 0,
  "metadata": {
    "colab": {
      "name": "Data Augmentation Keras.ipynb",
      "provenance": [],
      "collapsed_sections": []
    },
    "kernelspec": {
      "name": "python3",
      "display_name": "Python 3"
    }
  },
  "cells": [
    {
      "cell_type": "code",
      "metadata": {
        "colab": {
          "base_uri": "https://localhost:8080/"
        },
        "id": "uhk9Nl-_C8YB",
        "outputId": "5a3f312d-8747-48c9-f432-8b708507ae43"
      },
      "source": [
        "from google.colab import drive\r\n",
        "drive.mount('/gdrive')"
      ],
      "execution_count": 1,
      "outputs": [
        {
          "output_type": "stream",
          "text": [
            "Mounted at /gdrive\n"
          ],
          "name": "stdout"
        }
      ]
    },
    {
      "cell_type": "code",
      "metadata": {
        "id": "4jBcn1uUCLS6"
      },
      "source": [
        "from keras.preprocessing.image import ImageDataGenerator\r\n",
        "\r\n",
        "datagen = ImageDataGenerator(\r\n",
        "        rotation_range=40,\r\n",
        "        width_shift_range=0.2,\r\n",
        "        height_shift_range=0.2,\r\n",
        "        rescale=1./255,\r\n",
        "        shear_range=0.2,\r\n",
        "        zoom_range=0.2,\r\n",
        "        horizontal_flip=True,\r\n",
        "        fill_mode='nearest')"
      ],
      "execution_count": 2,
      "outputs": []
    },
    {
      "cell_type": "code",
      "metadata": {
        "id": "1RlStZjoC6R2"
      },
      "source": [
        "from keras.preprocessing.image import ImageDataGenerator, array_to_img, img_to_array, load_img\r\n",
        "\r\n",
        "datagen = ImageDataGenerator(\r\n",
        "        rotation_range=40,\r\n",
        "        width_shift_range=0.2,\r\n",
        "        height_shift_range=0.2,\r\n",
        "        shear_range=0.2,\r\n",
        "        zoom_range=0.2,\r\n",
        "        horizontal_flip=True,\r\n",
        "        fill_mode='nearest')\r\n",
        "\r\n",
        "img = load_img('/gdrive/My Drive/cat.0.jpg')  # this is a PIL image\r\n",
        "x = img_to_array(img)  # this is a Numpy array with shape (3, 150, 150)\r\n",
        "x = x.reshape((1,) + x.shape)  # this is a Numpy array with shape (1, 3, 150, 150)\r\n",
        "\r\n",
        "# the .flow() command below generates batches of randomly transformed images\r\n",
        "# and saves the results to the `preview/` directory\r\n",
        "i = 0\r\n",
        "for batch in datagen.flow(x, batch_size=1,\r\n",
        "                          save_to_dir='/gdrive/My Drive/preview', save_prefix='cat', save_format='jpeg'):\r\n",
        "    i += 1\r\n",
        "    if i > 20:\r\n",
        "        break  # otherwise the generator would loop indefinitely"
      ],
      "execution_count": 6,
      "outputs": []
    }
  ]
}