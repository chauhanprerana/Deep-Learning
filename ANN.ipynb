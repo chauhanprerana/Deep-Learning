{
  "nbformat": 4,
  "nbformat_minor": 0,
  "metadata": {
    "colab": {
      "name": "ANN.ipynb",
      "provenance": [],
      "collapsed_sections": []
    },
    "kernelspec": {
      "name": "python3",
      "display_name": "Python 3"
    }
  },
  "cells": [
    {
      "cell_type": "markdown",
      "metadata": {
        "id": "_CDVjkvEvhaj"
      },
      "source": [
        "### **Artificial Neural Network**"
      ]
    },
    {
      "cell_type": "markdown",
      "metadata": {
        "id": "_tp8D6UrvhCw"
      },
      "source": [
        "#### **Part 1 - Data Preprocessing**"
      ]
    },
    {
      "cell_type": "code",
      "metadata": {
        "colab": {
          "base_uri": "https://localhost:8080/"
        },
        "id": "z2BUXjXfwszF",
        "outputId": "29124afd-24f5-4acb-ac5b-ec3c4542fd64"
      },
      "source": [
        "from google.colab import drive\r\n",
        "drive.mount('/gdrive')"
      ],
      "execution_count": 1,
      "outputs": [
        {
          "output_type": "stream",
          "text": [
            "Drive already mounted at /gdrive; to attempt to forcibly remount, call drive.mount(\"/gdrive\", force_remount=True).\n"
          ],
          "name": "stdout"
        }
      ]
    },
    {
      "cell_type": "code",
      "metadata": {
        "id": "IutqAwWNvgT9"
      },
      "source": [
        "# Importing the libraries\r\n",
        "import numpy as np\r\n",
        "import matplotlib.pyplot as plt\r\n",
        "import pandas as pd"
      ],
      "execution_count": 2,
      "outputs": []
    },
    {
      "cell_type": "code",
      "metadata": {
        "id": "WBUr3rrRvxqk"
      },
      "source": [
        "# Importing the dataset\r\n",
        "dataset = pd.read_csv('/gdrive/My Drive/Churn_Modelling.csv')\r\n",
        "X = dataset.iloc[:, 3:13]\r\n",
        "y = dataset.iloc[:, 13]"
      ],
      "execution_count": 3,
      "outputs": []
    },
    {
      "cell_type": "code",
      "metadata": {
        "id": "6XcWSebqv1Zk"
      },
      "source": [
        "#Create dummy variables\r\n",
        "geography=pd.get_dummies(X[\"Geography\"],drop_first=True)\r\n",
        "gender=pd.get_dummies(X['Gender'],drop_first=True)"
      ],
      "execution_count": 4,
      "outputs": []
    },
    {
      "cell_type": "code",
      "metadata": {
        "id": "u1NwpAhPv252"
      },
      "source": [
        "## Concatenate the Data Frames\r\n",
        "X=pd.concat([X,geography,gender],axis=1)"
      ],
      "execution_count": 5,
      "outputs": []
    },
    {
      "cell_type": "code",
      "metadata": {
        "id": "UlGPpWavv2uU"
      },
      "source": [
        "## Drop Unnecessary columns\r\n",
        "X=X.drop(['Geography','Gender'],axis=1)"
      ],
      "execution_count": 6,
      "outputs": []
    },
    {
      "cell_type": "code",
      "metadata": {
        "id": "n2gHLWnzv2m6"
      },
      "source": [
        "# Splitting the dataset into the Training set and Test set\r\n",
        "from sklearn.model_selection import train_test_split\r\n",
        "X_train, X_test, y_train, y_test = train_test_split(X, y, test_size = 0.2, random_state = 0)"
      ],
      "execution_count": 7,
      "outputs": []
    },
    {
      "cell_type": "code",
      "metadata": {
        "id": "djMHLKF9v_n6"
      },
      "source": [
        "# Feature Scaling\r\n",
        "from sklearn.preprocessing import StandardScaler\r\n",
        "sc = StandardScaler()\r\n",
        "X_train = sc.fit_transform(X_train)\r\n",
        "X_test = sc.transform(X_test)"
      ],
      "execution_count": 8,
      "outputs": []
    },
    {
      "cell_type": "markdown",
      "metadata": {
        "id": "taNZDZtvwEUK"
      },
      "source": [
        "#### **Part 2 - Now let's make the ANN!**"
      ]
    },
    {
      "cell_type": "code",
      "metadata": {
        "id": "GSnQbRkrv_dI"
      },
      "source": [
        "# Importing the Keras libraries and packages\r\n",
        "import keras\r\n",
        "from keras.models import Sequential\r\n",
        "from keras.layers import Dense\r\n",
        "from keras.layers import LeakyReLU,PReLU,ELU\r\n",
        "from keras.layers import Dropout"
      ],
      "execution_count": 9,
      "outputs": []
    },
    {
      "cell_type": "code",
      "metadata": {
        "id": "oBrVKBinv_Tg"
      },
      "source": [
        "# Initialising the ANN\r\n",
        "classifier = Sequential()"
      ],
      "execution_count": 10,
      "outputs": []
    },
    {
      "cell_type": "code",
      "metadata": {
        "id": "wuHaLbncv_Ju"
      },
      "source": [
        "# Adding the input layer and the first hidden layer\r\n",
        "classifier.add(Dense(units= 6, kernel_initializer = 'he_uniform',activation='relu',input_dim = 11))\r\n",
        "#classifier.add(Dropout(0.3))"
      ],
      "execution_count": 11,
      "outputs": []
    },
    {
      "cell_type": "code",
      "metadata": {
        "id": "KzIy5uFcwPL0"
      },
      "source": [
        "# Adding the second hidden layer\r\n",
        "classifier.add(Dense(units=6, kernel_initializer = 'he_uniform',activation='relu'))\r\n",
        "#classifier.add(Dropout(0.4))"
      ],
      "execution_count": 12,
      "outputs": []
    },
    {
      "cell_type": "code",
      "metadata": {
        "id": "KHWSqY6e292_"
      },
      "source": [
        "# Adding the output layer\r\n",
        "classifier.add(Dense(units= 1, kernel_initializer = 'glorot_uniform', activation = 'sigmoid'))\r\n",
        "#classifier.add(Dropout(0.2))"
      ],
      "execution_count": 13,
      "outputs": []
    },
    {
      "cell_type": "code",
      "metadata": {
        "colab": {
          "base_uri": "https://localhost:8080/"
        },
        "id": "tVTx29Fv3TGJ",
        "outputId": "c210231b-5931-44e7-cdad-7e7287b5aedb"
      },
      "source": [
        "classifier.summary()"
      ],
      "execution_count": 14,
      "outputs": [
        {
          "output_type": "stream",
          "text": [
            "Model: \"sequential\"\n",
            "_________________________________________________________________\n",
            "Layer (type)                 Output Shape              Param #   \n",
            "=================================================================\n",
            "dense (Dense)                (None, 6)                 72        \n",
            "_________________________________________________________________\n",
            "dense_1 (Dense)              (None, 6)                 42        \n",
            "_________________________________________________________________\n",
            "dense_2 (Dense)              (None, 1)                 7         \n",
            "=================================================================\n",
            "Total params: 121\n",
            "Trainable params: 121\n",
            "Non-trainable params: 0\n",
            "_________________________________________________________________\n"
          ],
          "name": "stdout"
        }
      ]
    },
    {
      "cell_type": "code",
      "metadata": {
        "id": "HI4200b5wO-y"
      },
      "source": [
        "# Compiling the ANN\r\n",
        "classifier.compile(optimizer = 'Adamax', loss = 'binary_crossentropy', metrics = ['accuracy'])"
      ],
      "execution_count": 15,
      "outputs": []
    },
    {
      "cell_type": "code",
      "metadata": {
        "colab": {
          "base_uri": "https://localhost:8080/"
        },
        "id": "WIH9jaKfwO0-",
        "outputId": "4a1e707c-dbd9-4967-d419-b9de65a09e62"
      },
      "source": [
        "# Fitting the ANN to the Training set\r\n",
        "model_history=classifier.fit(X_train, y_train,validation_split=0.33, batch_size = 10, epochs = 100)"
      ],
      "execution_count": 22,
      "outputs": [
        {
          "output_type": "stream",
          "text": [
            "Epoch 1/100\n",
            "536/536 [==============================] - 1s 1ms/step - loss: 0.5658 - accuracy: 0.7914 - val_loss: 0.5249 - val_accuracy: 0.7955\n",
            "Epoch 2/100\n",
            "536/536 [==============================] - 1s 1ms/step - loss: 0.5196 - accuracy: 0.7962 - val_loss: 0.5010 - val_accuracy: 0.7955\n",
            "Epoch 3/100\n",
            "536/536 [==============================] - 1s 1ms/step - loss: 0.4975 - accuracy: 0.7962 - val_loss: 0.4856 - val_accuracy: 0.7955\n",
            "Epoch 4/100\n",
            "536/536 [==============================] - 1s 1ms/step - loss: 0.4821 - accuracy: 0.7962 - val_loss: 0.4749 - val_accuracy: 0.7955\n",
            "Epoch 5/100\n",
            "536/536 [==============================] - 1s 1ms/step - loss: 0.4713 - accuracy: 0.7962 - val_loss: 0.4673 - val_accuracy: 0.7955\n",
            "Epoch 6/100\n",
            "536/536 [==============================] - 1s 1ms/step - loss: 0.4631 - accuracy: 0.7962 - val_loss: 0.4611 - val_accuracy: 0.7955\n",
            "Epoch 7/100\n",
            "536/536 [==============================] - 1s 1ms/step - loss: 0.4563 - accuracy: 0.7962 - val_loss: 0.4560 - val_accuracy: 0.7955\n",
            "Epoch 8/100\n",
            "536/536 [==============================] - 1s 1ms/step - loss: 0.4507 - accuracy: 0.7972 - val_loss: 0.4514 - val_accuracy: 0.7959\n",
            "Epoch 9/100\n",
            "536/536 [==============================] - 1s 1ms/step - loss: 0.4456 - accuracy: 0.7985 - val_loss: 0.4473 - val_accuracy: 0.7993\n",
            "Epoch 10/100\n",
            "536/536 [==============================] - 1s 1ms/step - loss: 0.4411 - accuracy: 0.8016 - val_loss: 0.4434 - val_accuracy: 0.8020\n",
            "Epoch 11/100\n",
            "536/536 [==============================] - 1s 1ms/step - loss: 0.4371 - accuracy: 0.8026 - val_loss: 0.4402 - val_accuracy: 0.8027\n",
            "Epoch 12/100\n",
            "536/536 [==============================] - 1s 1ms/step - loss: 0.4336 - accuracy: 0.8054 - val_loss: 0.4372 - val_accuracy: 0.8050\n",
            "Epoch 13/100\n",
            "536/536 [==============================] - 1s 1ms/step - loss: 0.4302 - accuracy: 0.8093 - val_loss: 0.4345 - val_accuracy: 0.8050\n",
            "Epoch 14/100\n",
            "536/536 [==============================] - 1s 1ms/step - loss: 0.4272 - accuracy: 0.8110 - val_loss: 0.4319 - val_accuracy: 0.8073\n",
            "Epoch 15/100\n",
            "536/536 [==============================] - 1s 1ms/step - loss: 0.4244 - accuracy: 0.8128 - val_loss: 0.4293 - val_accuracy: 0.8095\n",
            "Epoch 16/100\n",
            "536/536 [==============================] - 1s 1ms/step - loss: 0.4217 - accuracy: 0.8155 - val_loss: 0.4268 - val_accuracy: 0.8111\n",
            "Epoch 17/100\n",
            "536/536 [==============================] - 1s 1ms/step - loss: 0.4190 - accuracy: 0.8156 - val_loss: 0.4242 - val_accuracy: 0.8114\n",
            "Epoch 18/100\n",
            "536/536 [==============================] - 1s 1ms/step - loss: 0.4162 - accuracy: 0.8177 - val_loss: 0.4217 - val_accuracy: 0.8129\n",
            "Epoch 19/100\n",
            "536/536 [==============================] - 1s 1ms/step - loss: 0.4136 - accuracy: 0.8209 - val_loss: 0.4191 - val_accuracy: 0.8152\n",
            "Epoch 20/100\n",
            "536/536 [==============================] - 1s 1ms/step - loss: 0.4106 - accuracy: 0.8225 - val_loss: 0.4167 - val_accuracy: 0.8167\n",
            "Epoch 21/100\n",
            "536/536 [==============================] - 1s 1ms/step - loss: 0.4079 - accuracy: 0.8240 - val_loss: 0.4143 - val_accuracy: 0.8179\n",
            "Epoch 22/100\n",
            "536/536 [==============================] - 1s 1ms/step - loss: 0.4052 - accuracy: 0.8263 - val_loss: 0.4121 - val_accuracy: 0.8183\n",
            "Epoch 23/100\n",
            "536/536 [==============================] - 1s 1ms/step - loss: 0.4028 - accuracy: 0.8285 - val_loss: 0.4100 - val_accuracy: 0.8194\n",
            "Epoch 24/100\n",
            "536/536 [==============================] - 1s 1ms/step - loss: 0.4002 - accuracy: 0.8293 - val_loss: 0.4079 - val_accuracy: 0.8190\n",
            "Epoch 25/100\n",
            "536/536 [==============================] - 1s 1ms/step - loss: 0.3977 - accuracy: 0.8296 - val_loss: 0.4059 - val_accuracy: 0.8217\n",
            "Epoch 26/100\n",
            "536/536 [==============================] - 1s 1ms/step - loss: 0.3952 - accuracy: 0.8306 - val_loss: 0.4038 - val_accuracy: 0.8232\n",
            "Epoch 27/100\n",
            "536/536 [==============================] - 1s 1ms/step - loss: 0.3927 - accuracy: 0.8315 - val_loss: 0.4017 - val_accuracy: 0.8251\n",
            "Epoch 28/100\n",
            "536/536 [==============================] - 1s 1ms/step - loss: 0.3901 - accuracy: 0.8334 - val_loss: 0.3999 - val_accuracy: 0.8273\n",
            "Epoch 29/100\n",
            "536/536 [==============================] - 1s 2ms/step - loss: 0.3877 - accuracy: 0.8347 - val_loss: 0.3980 - val_accuracy: 0.8285\n",
            "Epoch 30/100\n",
            "536/536 [==============================] - 1s 1ms/step - loss: 0.3852 - accuracy: 0.8362 - val_loss: 0.3964 - val_accuracy: 0.8285\n",
            "Epoch 31/100\n",
            "536/536 [==============================] - 1s 1ms/step - loss: 0.3828 - accuracy: 0.8373 - val_loss: 0.3945 - val_accuracy: 0.8277\n",
            "Epoch 32/100\n",
            "536/536 [==============================] - 1s 1ms/step - loss: 0.3804 - accuracy: 0.8390 - val_loss: 0.3929 - val_accuracy: 0.8296\n",
            "Epoch 33/100\n",
            "536/536 [==============================] - 1s 1ms/step - loss: 0.3781 - accuracy: 0.8410 - val_loss: 0.3913 - val_accuracy: 0.8307\n",
            "Epoch 34/100\n",
            "536/536 [==============================] - 1s 1ms/step - loss: 0.3759 - accuracy: 0.8421 - val_loss: 0.3896 - val_accuracy: 0.8326\n",
            "Epoch 35/100\n",
            "536/536 [==============================] - 1s 1ms/step - loss: 0.3738 - accuracy: 0.8434 - val_loss: 0.3881 - val_accuracy: 0.8342\n",
            "Epoch 36/100\n",
            "536/536 [==============================] - 1s 1ms/step - loss: 0.3717 - accuracy: 0.8444 - val_loss: 0.3866 - val_accuracy: 0.8338\n",
            "Epoch 37/100\n",
            "536/536 [==============================] - 1s 1ms/step - loss: 0.3698 - accuracy: 0.8436 - val_loss: 0.3851 - val_accuracy: 0.8345\n",
            "Epoch 38/100\n",
            "536/536 [==============================] - 1s 1ms/step - loss: 0.3681 - accuracy: 0.8461 - val_loss: 0.3838 - val_accuracy: 0.8368\n",
            "Epoch 39/100\n",
            "536/536 [==============================] - 1s 2ms/step - loss: 0.3665 - accuracy: 0.8455 - val_loss: 0.3830 - val_accuracy: 0.8368\n",
            "Epoch 40/100\n",
            "536/536 [==============================] - 1s 1ms/step - loss: 0.3650 - accuracy: 0.8461 - val_loss: 0.3817 - val_accuracy: 0.8387\n",
            "Epoch 41/100\n",
            "536/536 [==============================] - 1s 1ms/step - loss: 0.3638 - accuracy: 0.8477 - val_loss: 0.3808 - val_accuracy: 0.8391\n",
            "Epoch 42/100\n",
            "536/536 [==============================] - 1s 1ms/step - loss: 0.3625 - accuracy: 0.8481 - val_loss: 0.3801 - val_accuracy: 0.8395\n",
            "Epoch 43/100\n",
            "536/536 [==============================] - 1s 1ms/step - loss: 0.3615 - accuracy: 0.8472 - val_loss: 0.3790 - val_accuracy: 0.8410\n",
            "Epoch 44/100\n",
            "536/536 [==============================] - 1s 1ms/step - loss: 0.3605 - accuracy: 0.8485 - val_loss: 0.3782 - val_accuracy: 0.8413\n",
            "Epoch 45/100\n",
            "536/536 [==============================] - 1s 1ms/step - loss: 0.3594 - accuracy: 0.8494 - val_loss: 0.3775 - val_accuracy: 0.8425\n",
            "Epoch 46/100\n",
            "536/536 [==============================] - 1s 1ms/step - loss: 0.3585 - accuracy: 0.8498 - val_loss: 0.3767 - val_accuracy: 0.8429\n",
            "Epoch 47/100\n",
            "536/536 [==============================] - 1s 2ms/step - loss: 0.3577 - accuracy: 0.8503 - val_loss: 0.3761 - val_accuracy: 0.8451\n",
            "Epoch 48/100\n",
            "536/536 [==============================] - 1s 2ms/step - loss: 0.3568 - accuracy: 0.8517 - val_loss: 0.3756 - val_accuracy: 0.8459\n",
            "Epoch 49/100\n",
            "536/536 [==============================] - 1s 2ms/step - loss: 0.3561 - accuracy: 0.8517 - val_loss: 0.3748 - val_accuracy: 0.8444\n",
            "Epoch 50/100\n",
            "536/536 [==============================] - 1s 2ms/step - loss: 0.3554 - accuracy: 0.8533 - val_loss: 0.3744 - val_accuracy: 0.8451\n",
            "Epoch 51/100\n",
            "536/536 [==============================] - 1s 2ms/step - loss: 0.3547 - accuracy: 0.8526 - val_loss: 0.3738 - val_accuracy: 0.8455\n",
            "Epoch 52/100\n",
            "536/536 [==============================] - 1s 2ms/step - loss: 0.3540 - accuracy: 0.8526 - val_loss: 0.3734 - val_accuracy: 0.8455\n",
            "Epoch 53/100\n",
            "536/536 [==============================] - 1s 2ms/step - loss: 0.3533 - accuracy: 0.8533 - val_loss: 0.3730 - val_accuracy: 0.8451\n",
            "Epoch 54/100\n",
            "536/536 [==============================] - 1s 1ms/step - loss: 0.3526 - accuracy: 0.8548 - val_loss: 0.3726 - val_accuracy: 0.8451\n",
            "Epoch 55/100\n",
            "536/536 [==============================] - 1s 1ms/step - loss: 0.3520 - accuracy: 0.8558 - val_loss: 0.3722 - val_accuracy: 0.8470\n",
            "Epoch 56/100\n",
            "536/536 [==============================] - 1s 1ms/step - loss: 0.3515 - accuracy: 0.8554 - val_loss: 0.3721 - val_accuracy: 0.8463\n",
            "Epoch 57/100\n",
            "536/536 [==============================] - 1s 2ms/step - loss: 0.3512 - accuracy: 0.8550 - val_loss: 0.3714 - val_accuracy: 0.8459\n",
            "Epoch 58/100\n",
            "536/536 [==============================] - 1s 1ms/step - loss: 0.3507 - accuracy: 0.8565 - val_loss: 0.3710 - val_accuracy: 0.8470\n",
            "Epoch 59/100\n",
            "536/536 [==============================] - 1s 1ms/step - loss: 0.3503 - accuracy: 0.8561 - val_loss: 0.3709 - val_accuracy: 0.8459\n",
            "Epoch 60/100\n",
            "536/536 [==============================] - 1s 1ms/step - loss: 0.3498 - accuracy: 0.8576 - val_loss: 0.3708 - val_accuracy: 0.8466\n",
            "Epoch 61/100\n",
            "536/536 [==============================] - 1s 1ms/step - loss: 0.3495 - accuracy: 0.8567 - val_loss: 0.3704 - val_accuracy: 0.8466\n",
            "Epoch 62/100\n",
            "536/536 [==============================] - 1s 1ms/step - loss: 0.3491 - accuracy: 0.8572 - val_loss: 0.3701 - val_accuracy: 0.8459\n",
            "Epoch 63/100\n",
            "536/536 [==============================] - 1s 1ms/step - loss: 0.3486 - accuracy: 0.8563 - val_loss: 0.3699 - val_accuracy: 0.8482\n",
            "Epoch 64/100\n",
            "536/536 [==============================] - 1s 1ms/step - loss: 0.3485 - accuracy: 0.8558 - val_loss: 0.3697 - val_accuracy: 0.8459\n",
            "Epoch 65/100\n",
            "536/536 [==============================] - 1s 1ms/step - loss: 0.3481 - accuracy: 0.8567 - val_loss: 0.3695 - val_accuracy: 0.8478\n",
            "Epoch 66/100\n",
            "536/536 [==============================] - 1s 2ms/step - loss: 0.3480 - accuracy: 0.8569 - val_loss: 0.3694 - val_accuracy: 0.8459\n",
            "Epoch 67/100\n",
            "536/536 [==============================] - 1s 2ms/step - loss: 0.3476 - accuracy: 0.8578 - val_loss: 0.3692 - val_accuracy: 0.8485\n",
            "Epoch 68/100\n",
            "536/536 [==============================] - 1s 1ms/step - loss: 0.3472 - accuracy: 0.8576 - val_loss: 0.3692 - val_accuracy: 0.8482\n",
            "Epoch 69/100\n",
            "536/536 [==============================] - 1s 1ms/step - loss: 0.3471 - accuracy: 0.8565 - val_loss: 0.3689 - val_accuracy: 0.8463\n",
            "Epoch 70/100\n",
            "536/536 [==============================] - 1s 1ms/step - loss: 0.3468 - accuracy: 0.8584 - val_loss: 0.3689 - val_accuracy: 0.8463\n",
            "Epoch 71/100\n",
            "536/536 [==============================] - 1s 1ms/step - loss: 0.3465 - accuracy: 0.8578 - val_loss: 0.3684 - val_accuracy: 0.8478\n",
            "Epoch 72/100\n",
            "536/536 [==============================] - 1s 1ms/step - loss: 0.3464 - accuracy: 0.8591 - val_loss: 0.3683 - val_accuracy: 0.8470\n",
            "Epoch 73/100\n",
            "536/536 [==============================] - 1s 1ms/step - loss: 0.3461 - accuracy: 0.8582 - val_loss: 0.3681 - val_accuracy: 0.8470\n",
            "Epoch 74/100\n",
            "536/536 [==============================] - 1s 1ms/step - loss: 0.3460 - accuracy: 0.8582 - val_loss: 0.3678 - val_accuracy: 0.8474\n",
            "Epoch 75/100\n",
            "536/536 [==============================] - 1s 1ms/step - loss: 0.3456 - accuracy: 0.8587 - val_loss: 0.3679 - val_accuracy: 0.8470\n",
            "Epoch 76/100\n",
            "536/536 [==============================] - 1s 1ms/step - loss: 0.3454 - accuracy: 0.8582 - val_loss: 0.3675 - val_accuracy: 0.8474\n",
            "Epoch 77/100\n",
            "536/536 [==============================] - 1s 1ms/step - loss: 0.3452 - accuracy: 0.8587 - val_loss: 0.3675 - val_accuracy: 0.8497\n",
            "Epoch 78/100\n",
            "536/536 [==============================] - 1s 1ms/step - loss: 0.3451 - accuracy: 0.8578 - val_loss: 0.3672 - val_accuracy: 0.8489\n",
            "Epoch 79/100\n",
            "536/536 [==============================] - 1s 1ms/step - loss: 0.3448 - accuracy: 0.8587 - val_loss: 0.3674 - val_accuracy: 0.8497\n",
            "Epoch 80/100\n",
            "536/536 [==============================] - 1s 1ms/step - loss: 0.3446 - accuracy: 0.8582 - val_loss: 0.3670 - val_accuracy: 0.8474\n",
            "Epoch 81/100\n",
            "536/536 [==============================] - 1s 1ms/step - loss: 0.3444 - accuracy: 0.8591 - val_loss: 0.3667 - val_accuracy: 0.8478\n",
            "Epoch 82/100\n",
            "536/536 [==============================] - 1s 1ms/step - loss: 0.3441 - accuracy: 0.8584 - val_loss: 0.3664 - val_accuracy: 0.8489\n",
            "Epoch 83/100\n",
            "536/536 [==============================] - 1s 2ms/step - loss: 0.3439 - accuracy: 0.8582 - val_loss: 0.3665 - val_accuracy: 0.8485\n",
            "Epoch 84/100\n",
            "536/536 [==============================] - 1s 1ms/step - loss: 0.3438 - accuracy: 0.8587 - val_loss: 0.3663 - val_accuracy: 0.8493\n",
            "Epoch 85/100\n",
            "536/536 [==============================] - 1s 1ms/step - loss: 0.3435 - accuracy: 0.8599 - val_loss: 0.3660 - val_accuracy: 0.8485\n",
            "Epoch 86/100\n",
            "536/536 [==============================] - 1s 1ms/step - loss: 0.3432 - accuracy: 0.8591 - val_loss: 0.3659 - val_accuracy: 0.8478\n",
            "Epoch 87/100\n",
            "536/536 [==============================] - 1s 1ms/step - loss: 0.3431 - accuracy: 0.8586 - val_loss: 0.3655 - val_accuracy: 0.8482\n",
            "Epoch 88/100\n",
            "536/536 [==============================] - 1s 1ms/step - loss: 0.3428 - accuracy: 0.8589 - val_loss: 0.3654 - val_accuracy: 0.8478\n",
            "Epoch 89/100\n",
            "536/536 [==============================] - 1s 1ms/step - loss: 0.3426 - accuracy: 0.8604 - val_loss: 0.3654 - val_accuracy: 0.8501\n",
            "Epoch 90/100\n",
            "536/536 [==============================] - 1s 1ms/step - loss: 0.3424 - accuracy: 0.8599 - val_loss: 0.3650 - val_accuracy: 0.8482\n",
            "Epoch 91/100\n",
            "536/536 [==============================] - 1s 1ms/step - loss: 0.3420 - accuracy: 0.8589 - val_loss: 0.3651 - val_accuracy: 0.8501\n",
            "Epoch 92/100\n",
            "536/536 [==============================] - 1s 1ms/step - loss: 0.3418 - accuracy: 0.8589 - val_loss: 0.3648 - val_accuracy: 0.8489\n",
            "Epoch 93/100\n",
            "536/536 [==============================] - 1s 1ms/step - loss: 0.3416 - accuracy: 0.8595 - val_loss: 0.3647 - val_accuracy: 0.8485\n",
            "Epoch 94/100\n",
            "536/536 [==============================] - 1s 1ms/step - loss: 0.3414 - accuracy: 0.8595 - val_loss: 0.3647 - val_accuracy: 0.8485\n",
            "Epoch 95/100\n",
            "536/536 [==============================] - 1s 1ms/step - loss: 0.3411 - accuracy: 0.8593 - val_loss: 0.3646 - val_accuracy: 0.8485\n",
            "Epoch 96/100\n",
            "536/536 [==============================] - 1s 1ms/step - loss: 0.3409 - accuracy: 0.8599 - val_loss: 0.3647 - val_accuracy: 0.8485\n",
            "Epoch 97/100\n",
            "536/536 [==============================] - 1s 1ms/step - loss: 0.3407 - accuracy: 0.8604 - val_loss: 0.3646 - val_accuracy: 0.8497\n",
            "Epoch 98/100\n",
            "536/536 [==============================] - 1s 1ms/step - loss: 0.3405 - accuracy: 0.8606 - val_loss: 0.3643 - val_accuracy: 0.8493\n",
            "Epoch 99/100\n",
            "536/536 [==============================] - 1s 1ms/step - loss: 0.3403 - accuracy: 0.8608 - val_loss: 0.3643 - val_accuracy: 0.8489\n",
            "Epoch 100/100\n",
            "536/536 [==============================] - 1s 1ms/step - loss: 0.3402 - accuracy: 0.8597 - val_loss: 0.3644 - val_accuracy: 0.8493\n"
          ],
          "name": "stdout"
        }
      ]
    },
    {
      "cell_type": "code",
      "metadata": {
        "colab": {
          "base_uri": "https://localhost:8080/",
          "height": 312
        },
        "id": "-RJHzVlWwOpr",
        "outputId": "8dbf648f-0ab3-429c-a068-fac239b515b8"
      },
      "source": [
        "# list all data in history\r\n",
        "\r\n",
        "print(model_history.history.keys())\r\n",
        "# summarize history for accuracy\r\n",
        "plt.plot(model_history.history['accuracy'])\r\n",
        "plt.plot(model_history.history['val_accuracy'])\r\n",
        "plt.title('model accuracy')\r\n",
        "plt.ylabel('accuracy')\r\n",
        "plt.xlabel('epoch')\r\n",
        "plt.legend(['train', 'test'], loc='upper left')\r\n",
        "plt.show()"
      ],
      "execution_count": 23,
      "outputs": [
        {
          "output_type": "stream",
          "text": [
            "dict_keys(['loss', 'accuracy', 'val_loss', 'val_accuracy'])\n"
          ],
          "name": "stdout"
        },
        {
          "output_type": "display_data",
          "data": {
            "image/png": "[encoded data removed]",
            "text/plain": [
              "<Figure size 432x288 with 1 Axes>"
            ]
          },
          "metadata": {
            "tags": [],
            "needs_background": "light"
          }
        }
      ]
    },
    {
      "cell_type": "code",
      "metadata": {
        "colab": {
          "base_uri": "https://localhost:8080/",
          "height": 295
        },
        "id": "Hb4ty33AwbIv",
        "outputId": "d803f03b-1af7-4e22-bafd-c874aa5a711a"
      },
      "source": [
        "# summarize history for loss\r\n",
        "plt.plot(model_history.history['loss'])\r\n",
        "plt.plot(model_history.history['val_loss'])\r\n",
        "plt.title('model loss')\r\n",
        "plt.ylabel('loss')\r\n",
        "plt.xlabel('epoch')\r\n",
        "plt.legend(['train', 'test'], loc='upper left')\r\n",
        "plt.show()"
      ],
      "execution_count": 24,
      "outputs": [
        {
          "output_type": "display_data",
          "data": {
            "image/png": "[encoded data removed]",
            "text/plain": [
              "<Figure size 432x288 with 1 Axes>"
            ]
          },
          "metadata": {
            "tags": [],
            "needs_background": "light"
          }
        }
      ]
    },
    {
      "cell_type": "markdown",
      "metadata": {
        "id": "yFhqpGtuwhNp"
      },
      "source": [
        "#### **Part 3 - Making the predictions and evaluating the model**"
      ]
    },
    {
      "cell_type": "code",
      "metadata": {
        "id": "VC4cPER0wa65"
      },
      "source": [
        "# Predicting the Test set results\r\n",
        "y_pred = classifier.predict(X_test)\r\n",
        "y_pred = (y_pred > 0.5)"
      ],
      "execution_count": 29,
      "outputs": []
    },
    {
      "cell_type": "code",
      "metadata": {
        "colab": {
          "base_uri": "https://localhost:8080/"
        },
        "id": "Uv2G43s3wafQ",
        "outputId": "53f2b9ad-02f2-424c-bd93-56c58e587539"
      },
      "source": [
        "# Making the Confusion Matrix\r\n",
        "from sklearn.metrics import confusion_matrix\r\n",
        "cm = confusion_matrix(y_test, y_pred)\r\n",
        "cm"
      ],
      "execution_count": 30,
      "outputs": [
        {
          "output_type": "execute_result",
          "data": {
            "text/plain": [
              "array([[1495,  100],\n",
              "       [ 207,  198]])"
            ]
          },
          "metadata": {
            "tags": []
          },
          "execution_count": 30
        }
      ]
    },
    {
      "cell_type": "code",
      "metadata": {
        "colab": {
          "base_uri": "https://localhost:8080/"
        },
        "id": "ipwbJSXbwaTd",
        "outputId": "d4315353-79c6-4657-a9e8-dbaa496a300d"
      },
      "source": [
        "# Calculate the Accuracy\r\n",
        "from sklearn.metrics import accuracy_score\r\n",
        "score=accuracy_score(y_pred,y_test)\r\n",
        "score"
      ],
      "execution_count": 31,
      "outputs": [
        {
          "output_type": "execute_result",
          "data": {
            "text/plain": [
              "0.8465"
            ]
          },
          "metadata": {
            "tags": []
          },
          "execution_count": 31
        }
      ]
    }
  ]
}