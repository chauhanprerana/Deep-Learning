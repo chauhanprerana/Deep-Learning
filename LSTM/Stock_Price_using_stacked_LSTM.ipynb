{
  "nbformat": 4,
  "nbformat_minor": 0,
  "metadata": {
    "colab": {
      "name": "Stock Price using stacked LSTM.ipynb",
      "provenance": [],
      "collapsed_sections": []
    },
    "kernelspec": {
      "name": "python3",
      "display_name": "Python 3"
    },
    "accelerator": "GPU"
  },
  "cells": [
    {
      "cell_type": "markdown",
      "metadata": {
        "id": "7ZFGj3A6ZpX9"
      },
      "source": [
        "### **Stock Market Prediction and Forecasting using Stacked LSTM**"
      ]
    },
    {
      "cell_type": "code",
      "metadata": {
        "id": "Rk9k_NEpajAG"
      },
      "source": [
        "# Keras and Tensorflow > 2.0"
      ],
      "execution_count": 54,
      "outputs": []
    },
    {
      "cell_type": "code",
      "metadata": {
        "id": "rimmRf-4ZOP9"
      },
      "source": [
        "# Data Collection\r\n",
        "# import pandas_datareader as pdr"
      ],
      "execution_count": 55,
      "outputs": []
    },
    {
      "cell_type": "code",
      "metadata": {
        "id": "Wvbc3SYXZ3O-"
      },
      "source": [
        "# open piingo site and get the key for apple computers and add in below line\r\n",
        "# df = pdr.get_data_tiingo('AAPL',api_key=key)"
      ],
      "execution_count": 56,
      "outputs": []
    },
    {
      "cell_type": "code",
      "metadata": {
        "id": "WNooARuMZ3Ce"
      },
      "source": [
        "# df.to_csv('AAPL.csv')"
      ],
      "execution_count": 57,
      "outputs": []
    },
    {
      "cell_type": "code",
      "metadata": {
        "colab": {
          "base_uri": "https://localhost:8080/"
        },
        "id": "KtfBPiWZc3uh",
        "outputId": "bcd1419a-36e3-4a94-a900-6a630b9e69e4"
      },
      "source": [
        "from google.colab import drive\r\n",
        "drive.mount('/gdrive')"
      ],
      "execution_count": 58,
      "outputs": [
        {
          "output_type": "stream",
          "text": [
            "Drive already mounted at /gdrive; to attempt to forcibly remount, call drive.mount(\"/gdrive\", force_remount=True).\n"
          ],
          "name": "stdout"
        }
      ]
    },
    {
      "cell_type": "code",
      "metadata": {
        "id": "NIL4oYvmZ27Y"
      },
      "source": [
        "import pandas as pd"
      ],
      "execution_count": 59,
      "outputs": []
    },
    {
      "cell_type": "code",
      "metadata": {
        "id": "lHoTV8yJZ20u"
      },
      "source": [
        "df = pd.read_csv('/gdrive/My Drive/AAPL.csv')"
      ],
      "execution_count": 60,
      "outputs": []
    },
    {
      "cell_type": "code",
      "metadata": {
        "colab": {
          "base_uri": "https://localhost:8080/",
          "height": 204
        },
        "id": "UedGXFgrdYs9",
        "outputId": "a46280d4-e6ae-41db-b86e-320f9333d036"
      },
      "source": [
        "df.head()"
      ],
      "execution_count": 61,
      "outputs": [
        {
          "output_type": "execute_result",
          "data": {
            "text/html": [
              "<div>\n",
              "<style scoped>\n",
              "    .dataframe tbody tr th:only-of-type {\n",
              "        vertical-align: middle;\n",
              "    }\n",
              "\n",
              "    .dataframe tbody tr th {\n",
              "        vertical-align: top;\n",
              "    }\n",
              "\n",
              "    .dataframe thead th {\n",
              "        text-align: right;\n",
              "    }\n",
              "</style>\n",
              "<table border=\"1\" class=\"dataframe\">\n",
              "  <thead>\n",
              "    <tr style=\"text-align: right;\">\n",
              "      <th></th>\n",
              "      <th>Date</th>\n",
              "      <th>Open</th>\n",
              "      <th>High</th>\n",
              "      <th>Low</th>\n",
              "      <th>Close</th>\n",
              "      <th>Volume</th>\n",
              "      <th>Adj Close</th>\n",
              "    </tr>\n",
              "  </thead>\n",
              "  <tbody>\n",
              "    <tr>\n",
              "      <th>0</th>\n",
              "      <td>2008-10-14</td>\n",
              "      <td>116.26</td>\n",
              "      <td>116.40</td>\n",
              "      <td>103.14</td>\n",
              "      <td>104.08</td>\n",
              "      <td>70749800</td>\n",
              "      <td>104.08</td>\n",
              "    </tr>\n",
              "    <tr>\n",
              "      <th>1</th>\n",
              "      <td>2008-10-13</td>\n",
              "      <td>104.55</td>\n",
              "      <td>110.53</td>\n",
              "      <td>101.02</td>\n",
              "      <td>110.26</td>\n",
              "      <td>54967000</td>\n",
              "      <td>110.26</td>\n",
              "    </tr>\n",
              "    <tr>\n",
              "      <th>2</th>\n",
              "      <td>2008-10-10</td>\n",
              "      <td>85.70</td>\n",
              "      <td>100.00</td>\n",
              "      <td>85.00</td>\n",
              "      <td>96.80</td>\n",
              "      <td>79260700</td>\n",
              "      <td>96.80</td>\n",
              "    </tr>\n",
              "    <tr>\n",
              "      <th>3</th>\n",
              "      <td>2008-10-09</td>\n",
              "      <td>93.35</td>\n",
              "      <td>95.80</td>\n",
              "      <td>86.60</td>\n",
              "      <td>88.74</td>\n",
              "      <td>57763700</td>\n",
              "      <td>88.74</td>\n",
              "    </tr>\n",
              "    <tr>\n",
              "      <th>4</th>\n",
              "      <td>2008-10-08</td>\n",
              "      <td>85.91</td>\n",
              "      <td>96.33</td>\n",
              "      <td>85.68</td>\n",
              "      <td>89.79</td>\n",
              "      <td>78847900</td>\n",
              "      <td>89.79</td>\n",
              "    </tr>\n",
              "  </tbody>\n",
              "</table>\n",
              "</div>"
            ],
            "text/plain": [
              "         Date    Open    High     Low   Close    Volume  Adj Close\n",
              "0  2008-10-14  116.26  116.40  103.14  104.08  70749800     104.08\n",
              "1  2008-10-13  104.55  110.53  101.02  110.26  54967000     110.26\n",
              "2  2008-10-10   85.70  100.00   85.00   96.80  79260700      96.80\n",
              "3  2008-10-09   93.35   95.80   86.60   88.74  57763700      88.74\n",
              "4  2008-10-08   85.91   96.33   85.68   89.79  78847900      89.79"
            ]
          },
          "metadata": {
            "tags": []
          },
          "execution_count": 61
        }
      ]
    },
    {
      "cell_type": "code",
      "metadata": {
        "colab": {
          "base_uri": "https://localhost:8080/",
          "height": 204
        },
        "id": "B5ygbuGBeFG5",
        "outputId": "0f487a78-c4a2-4232-d6e9-58b97a0dae4d"
      },
      "source": [
        "df.tail()"
      ],
      "execution_count": 62,
      "outputs": [
        {
          "output_type": "execute_result",
          "data": {
            "text/html": [
              "<div>\n",
              "<style scoped>\n",
              "    .dataframe tbody tr th:only-of-type {\n",
              "        vertical-align: middle;\n",
              "    }\n",
              "\n",
              "    .dataframe tbody tr th {\n",
              "        vertical-align: top;\n",
              "    }\n",
              "\n",
              "    .dataframe thead th {\n",
              "        text-align: right;\n",
              "    }\n",
              "</style>\n",
              "<table border=\"1\" class=\"dataframe\">\n",
              "  <thead>\n",
              "    <tr style=\"text-align: right;\">\n",
              "      <th></th>\n",
              "      <th>Date</th>\n",
              "      <th>Open</th>\n",
              "      <th>High</th>\n",
              "      <th>Low</th>\n",
              "      <th>Close</th>\n",
              "      <th>Volume</th>\n",
              "      <th>Adj Close</th>\n",
              "    </tr>\n",
              "  </thead>\n",
              "  <tbody>\n",
              "    <tr>\n",
              "      <th>6076</th>\n",
              "      <td>1984-09-13</td>\n",
              "      <td>27.50</td>\n",
              "      <td>27.62</td>\n",
              "      <td>27.50</td>\n",
              "      <td>27.50</td>\n",
              "      <td>7429600</td>\n",
              "      <td>3.14</td>\n",
              "    </tr>\n",
              "    <tr>\n",
              "      <th>6077</th>\n",
              "      <td>1984-09-12</td>\n",
              "      <td>26.87</td>\n",
              "      <td>27.00</td>\n",
              "      <td>26.12</td>\n",
              "      <td>26.12</td>\n",
              "      <td>4773600</td>\n",
              "      <td>2.98</td>\n",
              "    </tr>\n",
              "    <tr>\n",
              "      <th>6078</th>\n",
              "      <td>1984-09-11</td>\n",
              "      <td>26.62</td>\n",
              "      <td>27.37</td>\n",
              "      <td>26.62</td>\n",
              "      <td>26.87</td>\n",
              "      <td>5444000</td>\n",
              "      <td>3.07</td>\n",
              "    </tr>\n",
              "    <tr>\n",
              "      <th>6079</th>\n",
              "      <td>1984-09-10</td>\n",
              "      <td>26.50</td>\n",
              "      <td>26.62</td>\n",
              "      <td>25.87</td>\n",
              "      <td>26.37</td>\n",
              "      <td>2346400</td>\n",
              "      <td>3.01</td>\n",
              "    </tr>\n",
              "    <tr>\n",
              "      <th>6080</th>\n",
              "      <td>1984-09-07</td>\n",
              "      <td>26.50</td>\n",
              "      <td>26.87</td>\n",
              "      <td>26.25</td>\n",
              "      <td>26.50</td>\n",
              "      <td>2981600</td>\n",
              "      <td>3.02</td>\n",
              "    </tr>\n",
              "  </tbody>\n",
              "</table>\n",
              "</div>"
            ],
            "text/plain": [
              "            Date   Open   High    Low  Close   Volume  Adj Close\n",
              "6076  1984-09-13  27.50  27.62  27.50  27.50  7429600       3.14\n",
              "6077  1984-09-12  26.87  27.00  26.12  26.12  4773600       2.98\n",
              "6078  1984-09-11  26.62  27.37  26.62  26.87  5444000       3.07\n",
              "6079  1984-09-10  26.50  26.62  25.87  26.37  2346400       3.01\n",
              "6080  1984-09-07  26.50  26.87  26.25  26.50  2981600       3.02"
            ]
          },
          "metadata": {
            "tags": []
          },
          "execution_count": 62
        }
      ]
    },
    {
      "cell_type": "code",
      "metadata": {
        "id": "4Rh1eGAtZ2s6"
      },
      "source": [
        "df1 = df.reset_index()['Close']"
      ],
      "execution_count": 63,
      "outputs": []
    },
    {
      "cell_type": "code",
      "metadata": {
        "colab": {
          "base_uri": "https://localhost:8080/"
        },
        "id": "tR8PxTlAZ2lG",
        "outputId": "aa2faecf-e2cd-468f-d0a2-2e2af18b856d"
      },
      "source": [
        "df1.shape"
      ],
      "execution_count": 64,
      "outputs": [
        {
          "output_type": "execute_result",
          "data": {
            "text/plain": [
              "(6081,)"
            ]
          },
          "metadata": {
            "tags": []
          },
          "execution_count": 64
        }
      ]
    },
    {
      "cell_type": "code",
      "metadata": {
        "colab": {
          "base_uri": "https://localhost:8080/",
          "height": 282
        },
        "id": "maWNrYSSZ2eR",
        "outputId": "1c6bb181-4e70-486f-b8f1-04d89209a023"
      },
      "source": [
        "import matplotlib.pyplot as plt\r\n",
        "plt.plot(df1)"
      ],
      "execution_count": 65,
      "outputs": [
        {
          "output_type": "execute_result",
          "data": {
            "text/plain": [
              "[<matplotlib.lines.Line2D at 0x7fb03a333710>]"
            ]
          },
          "metadata": {
            "tags": []
          },
          "execution_count": 65
        },
        {
          "output_type": "display_data",
          "data": {
            "image/png": "[encoded data removed]",
            "text/plain": [
              "<Figure size 432x288 with 1 Axes>"
            ]
          },
          "metadata": {
            "tags": [],
            "needs_background": "light"
          }
        }
      ]
    },
    {
      "cell_type": "code",
      "metadata": {
        "id": "6a0iwf6tZ2Xi"
      },
      "source": [
        "# LSTM are sensitive to the scale of the data, so we apply MinMax Scaler"
      ],
      "execution_count": 66,
      "outputs": []
    },
    {
      "cell_type": "code",
      "metadata": {
        "id": "SazMLTvuZ2KI"
      },
      "source": [
        "import numpy as np"
      ],
      "execution_count": 67,
      "outputs": []
    },
    {
      "cell_type": "code",
      "metadata": {
        "colab": {
          "base_uri": "https://localhost:8080/"
        },
        "id": "EbKFriW6hQpG",
        "outputId": "5cba271b-e09f-4ece-98de-cd8b063cc866"
      },
      "source": [
        "df1[0:5]"
      ],
      "execution_count": 68,
      "outputs": [
        {
          "output_type": "execute_result",
          "data": {
            "text/plain": [
              "0    104.08\n",
              "1    110.26\n",
              "2     96.80\n",
              "3     88.74\n",
              "4     89.79\n",
              "Name: Close, dtype: float64"
            ]
          },
          "metadata": {
            "tags": []
          },
          "execution_count": 68
        }
      ]
    },
    {
      "cell_type": "code",
      "metadata": {
        "id": "CluatP2lZ2AQ"
      },
      "source": [
        "from sklearn.preprocessing import MinMaxScaler\r\n",
        "scaler = MinMaxScaler(feature_range=(0,1))\r\n",
        "df1=scaler.fit_transform(np.array(df1).reshape(-1,1))"
      ],
      "execution_count": 69,
      "outputs": []
    },
    {
      "cell_type": "code",
      "metadata": {
        "colab": {
          "base_uri": "https://localhost:8080/"
        },
        "id": "5SF_YfPEfV7n",
        "outputId": "37a37478-d0f6-4d05-d008-ecc8467200fb"
      },
      "source": [
        "df1[0:5]"
      ],
      "execution_count": 70,
      "outputs": [
        {
          "output_type": "execute_result",
          "data": {
            "text/plain": [
              "array([[0.48766654],\n",
              "       [0.52073412],\n",
              "       [0.44871315],\n",
              "       [0.40558617],\n",
              "       [0.41120445]])"
            ]
          },
          "metadata": {
            "tags": []
          },
          "execution_count": 70
        }
      ]
    },
    {
      "cell_type": "code",
      "metadata": {
        "id": "pxyNTNkzfVz1"
      },
      "source": [
        "# Splitting dataset into train and test split\r\n",
        "training_size = int(len(df1)*0.75)\r\n",
        "test_size = len(df1)-training_size\r\n",
        "train_data,test_data = df1[0:training_size,:],df1[training_size:len(df1),:1]"
      ],
      "execution_count": 71,
      "outputs": []
    },
    {
      "cell_type": "code",
      "metadata": {
        "colab": {
          "base_uri": "https://localhost:8080/"
        },
        "id": "--9BSB8OfVru",
        "outputId": "255ff127-42ae-4438-9e75-64c9e7dde0eb"
      },
      "source": [
        "# indexes of training and test data\r\n",
        "# till 119 is my training data\r\n",
        "# then next 65 is my test data\r\n",
        "\r\n",
        "training_size,test_size"
      ],
      "execution_count": 72,
      "outputs": [
        {
          "output_type": "execute_result",
          "data": {
            "text/plain": [
              "(4560, 1521)"
            ]
          },
          "metadata": {
            "tags": []
          },
          "execution_count": 72
        }
      ]
    },
    {
      "cell_type": "code",
      "metadata": {
        "colab": {
          "base_uri": "https://localhost:8080/"
        },
        "id": "ZvrgXkdyfVjg",
        "outputId": "48e78ec4-9c02-4226-a6da-54049cea0f58"
      },
      "source": [
        "print(len(train_data),len(test_data))"
      ],
      "execution_count": 73,
      "outputs": [
        {
          "output_type": "stream",
          "text": [
            "4560 1521\n"
          ],
          "name": "stdout"
        }
      ]
    },
    {
      "cell_type": "code",
      "metadata": {
        "id": "qKdrOHj6fVbq"
      },
      "source": [
        "import numpy\r\n",
        "# convert an array of values into a dataset matrix\r\n",
        "def create_dataset(dataset, time_step=1):\r\n",
        "  dataX, dataY = [], []\r\n",
        "  for i in range(len(dataset)-time_step-1):\r\n",
        "    a = dataset[i:(i+time_step),0]   # for i=0   0,1,2,3,........99     data points = 100\r\n",
        "    dataX.append(a)\r\n",
        "    dataY.append(dataset[i + time_step, 0])\r\n",
        "  return numpy.array(dataX), numpy.array(dataY)\r\n"
      ],
      "execution_count": 74,
      "outputs": []
    },
    {
      "cell_type": "code",
      "metadata": {
        "id": "hlFS7WVmfVQ4"
      },
      "source": [
        "# reshape into X=t, t+1, t+2, t+3 and Y=t+4\r\n",
        "time_step = 100\r\n",
        "X_train, y_train = create_dataset(train_data, time_step)\r\n",
        "X_test, y_test = create_dataset(test_data, time_step)"
      ],
      "execution_count": 75,
      "outputs": []
    },
    {
      "cell_type": "code",
      "metadata": {
        "colab": {
          "base_uri": "https://localhost:8080/"
        },
        "id": "cglafq10fVJT",
        "outputId": "efc7cff8-3a50-4669-bb33-353c1a70c9b5"
      },
      "source": [
        "print(X_train)"
      ],
      "execution_count": 76,
      "outputs": [
        {
          "output_type": "stream",
          "text": [
            "[[0.48766654 0.52073412 0.44871315 ... 0.9314035  0.92830007 0.90015517]\n",
            " [0.52073412 0.44871315 0.40558617 ... 0.92830007 0.90015517 0.87811012]\n",
            " [0.44871315 0.40558617 0.41120445 ... 0.90015517 0.87811012 0.88420996]\n",
            " ...\n",
            " [0.25116379 0.23976671 0.23511156 ... 0.09930975 0.09995184 0.1046605 ]\n",
            " [0.23976671 0.23511156 0.23976671 ... 0.09995184 0.1046605  0.10936915]\n",
            " [0.23511156 0.23976671 0.22638985 ... 0.1046605  0.10936915 0.11134892]]\n"
          ],
          "name": "stdout"
        }
      ]
    },
    {
      "cell_type": "code",
      "metadata": {
        "colab": {
          "base_uri": "https://localhost:8080/"
        },
        "id": "mnJhIe1TfVBR",
        "outputId": "2ac3819e-73c3-46db-da65-1a098fd854ce"
      },
      "source": [
        "print(X_train.shape, y_train.shape)"
      ],
      "execution_count": 77,
      "outputs": [
        {
          "output_type": "stream",
          "text": [
            "(4459, 100) (4459,)\n"
          ],
          "name": "stdout"
        }
      ]
    },
    {
      "cell_type": "code",
      "metadata": {
        "colab": {
          "base_uri": "https://localhost:8080/"
        },
        "id": "32XEt-GIfU4K",
        "outputId": "78f42fe1-81a4-4721-9a78-50051d4e2550"
      },
      "source": [
        "print(X_test.shape, y_test.shape)"
      ],
      "execution_count": 78,
      "outputs": [
        {
          "output_type": "stream",
          "text": [
            "(1420, 100) (1420,)\n"
          ],
          "name": "stdout"
        }
      ]
    },
    {
      "cell_type": "code",
      "metadata": {
        "id": "CCoZe6_QfUwC"
      },
      "source": [
        "# reshape input to be [samples, time steps, features] which is required for LSTM\r\n",
        "X_train = X_train.reshape(X_train.shape[0],X_train.shape[1], 1)\r\n",
        "X_test = X_test.reshape(X_test.shape[0],X_test.shape[1], 1)"
      ],
      "execution_count": 79,
      "outputs": []
    },
    {
      "cell_type": "code",
      "metadata": {
        "id": "oPFuvv2HfUom"
      },
      "source": [
        "# Create the LSTM model\r\n",
        "from tensorflow.keras.models import Sequential\r\n",
        "from tensorflow.keras.layers import Dense\r\n",
        "from tensorflow.keras.layers import LSTM"
      ],
      "execution_count": 80,
      "outputs": []
    },
    {
      "cell_type": "code",
      "metadata": {
        "id": "0h3Prj1gfUf6"
      },
      "source": [
        "model = Sequential()\r\n",
        "model.add(LSTM(50,return_sequences=True,input_shape=(100,1)))\r\n",
        "model.add(LSTM(50,return_sequences=True))\r\n",
        "model.add(LSTM(50))\r\n",
        "model.add(Dense(1))\r\n",
        "model.compile(loss='mean_squared_error',optimizer='Adam')"
      ],
      "execution_count": 81,
      "outputs": []
    },
    {
      "cell_type": "code",
      "metadata": {
        "colab": {
          "base_uri": "https://localhost:8080/"
        },
        "id": "AC5DGumefUXw",
        "outputId": "e6ba2932-99d8-4ae0-edfb-b784643142ec"
      },
      "source": [
        "model.fit(X_train,y_train,validation_data=(X_test,y_test),epochs=100,batch_size=64,verbose=1)"
      ],
      "execution_count": 82,
      "outputs": [
        {
          "output_type": "stream",
          "text": [
            "Epoch 1/100\n",
            "70/70 [==============================] - 5s 29ms/step - loss: 0.0138 - val_loss: 4.4522e-04\n",
            "Epoch 2/100\n",
            "70/70 [==============================] - 1s 16ms/step - loss: 7.8011e-04 - val_loss: 4.1064e-04\n",
            "Epoch 3/100\n",
            "70/70 [==============================] - 1s 16ms/step - loss: 6.9208e-04 - val_loss: 5.6374e-04\n",
            "Epoch 4/100\n",
            "70/70 [==============================] - 1s 16ms/step - loss: 7.3719e-04 - val_loss: 3.5944e-04\n",
            "Epoch 5/100\n",
            "70/70 [==============================] - 1s 16ms/step - loss: 6.1862e-04 - val_loss: 3.2647e-04\n",
            "Epoch 6/100\n",
            "70/70 [==============================] - 1s 16ms/step - loss: 5.7974e-04 - val_loss: 2.8675e-04\n",
            "Epoch 7/100\n",
            "70/70 [==============================] - 1s 16ms/step - loss: 5.5412e-04 - val_loss: 2.9930e-04\n",
            "Epoch 8/100\n",
            "70/70 [==============================] - 1s 16ms/step - loss: 5.4142e-04 - val_loss: 2.7743e-04\n",
            "Epoch 9/100\n",
            "70/70 [==============================] - 1s 16ms/step - loss: 5.7251e-04 - val_loss: 2.3721e-04\n",
            "Epoch 10/100\n",
            "70/70 [==============================] - 1s 16ms/step - loss: 5.1405e-04 - val_loss: 2.1170e-04\n",
            "Epoch 11/100\n",
            "70/70 [==============================] - 1s 16ms/step - loss: 3.6421e-04 - val_loss: 2.0718e-04\n",
            "Epoch 12/100\n",
            "70/70 [==============================] - 1s 16ms/step - loss: 4.0538e-04 - val_loss: 1.8684e-04\n",
            "Epoch 13/100\n",
            "70/70 [==============================] - 1s 16ms/step - loss: 3.9792e-04 - val_loss: 1.9466e-04\n",
            "Epoch 14/100\n",
            "70/70 [==============================] - 1s 16ms/step - loss: 3.0492e-04 - val_loss: 1.7532e-04\n",
            "Epoch 15/100\n",
            "70/70 [==============================] - 1s 16ms/step - loss: 3.1043e-04 - val_loss: 1.7548e-04\n",
            "Epoch 16/100\n",
            "70/70 [==============================] - 1s 16ms/step - loss: 2.4593e-04 - val_loss: 1.4749e-04\n",
            "Epoch 17/100\n",
            "70/70 [==============================] - 1s 16ms/step - loss: 2.5368e-04 - val_loss: 1.5665e-04\n",
            "Epoch 18/100\n",
            "70/70 [==============================] - 1s 16ms/step - loss: 2.3242e-04 - val_loss: 1.3460e-04\n",
            "Epoch 19/100\n",
            "70/70 [==============================] - 1s 16ms/step - loss: 2.4442e-04 - val_loss: 1.4701e-04\n",
            "Epoch 20/100\n",
            "70/70 [==============================] - 1s 16ms/step - loss: 2.3033e-04 - val_loss: 1.4524e-04\n",
            "Epoch 21/100\n",
            "70/70 [==============================] - 1s 16ms/step - loss: 1.9158e-04 - val_loss: 1.2439e-04\n",
            "Epoch 22/100\n",
            "70/70 [==============================] - 1s 16ms/step - loss: 2.8687e-04 - val_loss: 1.1932e-04\n",
            "Epoch 23/100\n",
            "70/70 [==============================] - 1s 16ms/step - loss: 2.0837e-04 - val_loss: 1.3166e-04\n",
            "Epoch 24/100\n",
            "70/70 [==============================] - 1s 16ms/step - loss: 1.6643e-04 - val_loss: 1.4687e-04\n",
            "Epoch 25/100\n",
            "70/70 [==============================] - 1s 16ms/step - loss: 1.7175e-04 - val_loss: 1.3809e-04\n",
            "Epoch 26/100\n",
            "70/70 [==============================] - 1s 16ms/step - loss: 2.3951e-04 - val_loss: 1.0224e-04\n",
            "Epoch 27/100\n",
            "70/70 [==============================] - 1s 18ms/step - loss: 1.9641e-04 - val_loss: 1.0360e-04\n",
            "Epoch 28/100\n",
            "70/70 [==============================] - 1s 16ms/step - loss: 1.9991e-04 - val_loss: 1.6790e-04\n",
            "Epoch 29/100\n",
            "70/70 [==============================] - 1s 16ms/step - loss: 1.8625e-04 - val_loss: 9.5149e-05\n",
            "Epoch 30/100\n",
            "70/70 [==============================] - 1s 16ms/step - loss: 1.7438e-04 - val_loss: 1.0094e-04\n",
            "Epoch 31/100\n",
            "70/70 [==============================] - 1s 16ms/step - loss: 1.4078e-04 - val_loss: 9.4785e-05\n",
            "Epoch 32/100\n",
            "70/70 [==============================] - 1s 16ms/step - loss: 1.5060e-04 - val_loss: 1.1615e-04\n",
            "Epoch 33/100\n",
            "70/70 [==============================] - 1s 16ms/step - loss: 1.4331e-04 - val_loss: 8.9007e-05\n",
            "Epoch 34/100\n",
            "70/70 [==============================] - 1s 16ms/step - loss: 1.2886e-04 - val_loss: 9.9732e-05\n",
            "Epoch 35/100\n",
            "70/70 [==============================] - 1s 16ms/step - loss: 1.2436e-04 - val_loss: 9.3728e-05\n",
            "Epoch 36/100\n",
            "70/70 [==============================] - 1s 16ms/step - loss: 1.6812e-04 - val_loss: 8.2750e-05\n",
            "Epoch 37/100\n",
            "70/70 [==============================] - 1s 16ms/step - loss: 1.5790e-04 - val_loss: 8.6757e-05\n",
            "Epoch 38/100\n",
            "70/70 [==============================] - 1s 16ms/step - loss: 2.1725e-04 - val_loss: 8.1689e-05\n",
            "Epoch 39/100\n",
            "70/70 [==============================] - 1s 16ms/step - loss: 1.9053e-04 - val_loss: 8.5644e-05\n",
            "Epoch 40/100\n",
            "70/70 [==============================] - 1s 16ms/step - loss: 1.3729e-04 - val_loss: 1.2856e-04\n",
            "Epoch 41/100\n",
            "70/70 [==============================] - 1s 16ms/step - loss: 1.5960e-04 - val_loss: 8.0331e-05\n",
            "Epoch 42/100\n",
            "70/70 [==============================] - 1s 16ms/step - loss: 1.3541e-04 - val_loss: 7.9694e-05\n",
            "Epoch 43/100\n",
            "70/70 [==============================] - 1s 16ms/step - loss: 1.3143e-04 - val_loss: 1.9708e-04\n",
            "Epoch 44/100\n",
            "70/70 [==============================] - 1s 16ms/step - loss: 2.3067e-04 - val_loss: 7.8979e-05\n",
            "Epoch 45/100\n",
            "70/70 [==============================] - 1s 17ms/step - loss: 1.9441e-04 - val_loss: 8.5103e-05\n",
            "Epoch 46/100\n",
            "70/70 [==============================] - 1s 17ms/step - loss: 1.2989e-04 - val_loss: 7.8969e-05\n",
            "Epoch 47/100\n",
            "70/70 [==============================] - 1s 17ms/step - loss: 1.4962e-04 - val_loss: 1.4779e-04\n",
            "Epoch 48/100\n",
            "70/70 [==============================] - 1s 17ms/step - loss: 1.3642e-04 - val_loss: 7.7883e-05\n",
            "Epoch 49/100\n",
            "70/70 [==============================] - 1s 17ms/step - loss: 1.5647e-04 - val_loss: 7.8049e-05\n",
            "Epoch 50/100\n",
            "70/70 [==============================] - 1s 17ms/step - loss: 1.4417e-04 - val_loss: 9.9555e-05\n",
            "Epoch 51/100\n",
            "70/70 [==============================] - 1s 17ms/step - loss: 1.4921e-04 - val_loss: 7.8914e-05\n",
            "Epoch 52/100\n",
            "70/70 [==============================] - 1s 17ms/step - loss: 1.0588e-04 - val_loss: 8.4023e-05\n",
            "Epoch 53/100\n",
            "70/70 [==============================] - 1s 17ms/step - loss: 1.5966e-04 - val_loss: 7.5109e-05\n",
            "Epoch 54/100\n",
            "70/70 [==============================] - 1s 16ms/step - loss: 1.0889e-04 - val_loss: 7.4017e-05\n",
            "Epoch 55/100\n",
            "70/70 [==============================] - 1s 16ms/step - loss: 1.4382e-04 - val_loss: 7.9973e-05\n",
            "Epoch 56/100\n",
            "70/70 [==============================] - 1s 16ms/step - loss: 1.4286e-04 - val_loss: 1.1758e-04\n",
            "Epoch 57/100\n",
            "70/70 [==============================] - 1s 16ms/step - loss: 1.9638e-04 - val_loss: 7.5722e-05\n",
            "Epoch 58/100\n",
            "70/70 [==============================] - 1s 16ms/step - loss: 1.5862e-04 - val_loss: 7.3565e-05\n",
            "Epoch 59/100\n",
            "70/70 [==============================] - 1s 16ms/step - loss: 1.1879e-04 - val_loss: 7.3274e-05\n",
            "Epoch 60/100\n",
            "70/70 [==============================] - 1s 16ms/step - loss: 1.5319e-04 - val_loss: 1.2929e-04\n",
            "Epoch 61/100\n",
            "70/70 [==============================] - 1s 16ms/step - loss: 2.0813e-04 - val_loss: 8.0645e-05\n",
            "Epoch 62/100\n",
            "70/70 [==============================] - 1s 16ms/step - loss: 1.4470e-04 - val_loss: 8.8359e-05\n",
            "Epoch 63/100\n",
            "70/70 [==============================] - 1s 16ms/step - loss: 1.6507e-04 - val_loss: 1.1349e-04\n",
            "Epoch 64/100\n",
            "70/70 [==============================] - 1s 16ms/step - loss: 1.6589e-04 - val_loss: 7.6339e-05\n",
            "Epoch 65/100\n",
            "70/70 [==============================] - 1s 16ms/step - loss: 1.6528e-04 - val_loss: 7.3744e-05\n",
            "Epoch 66/100\n",
            "70/70 [==============================] - 1s 16ms/step - loss: 1.3059e-04 - val_loss: 7.0465e-05\n",
            "Epoch 67/100\n",
            "70/70 [==============================] - 1s 16ms/step - loss: 1.2596e-04 - val_loss: 8.4250e-05\n",
            "Epoch 68/100\n",
            "70/70 [==============================] - 1s 16ms/step - loss: 1.6696e-04 - val_loss: 1.2167e-04\n",
            "Epoch 69/100\n",
            "70/70 [==============================] - 1s 16ms/step - loss: 1.5262e-04 - val_loss: 7.9617e-05\n",
            "Epoch 70/100\n",
            "70/70 [==============================] - 1s 16ms/step - loss: 1.9140e-04 - val_loss: 8.9417e-05\n",
            "Epoch 71/100\n",
            "70/70 [==============================] - 1s 16ms/step - loss: 1.7481e-04 - val_loss: 7.8979e-05\n",
            "Epoch 72/100\n",
            "70/70 [==============================] - 1s 16ms/step - loss: 1.1645e-04 - val_loss: 9.3327e-05\n",
            "Epoch 73/100\n",
            "70/70 [==============================] - 1s 16ms/step - loss: 1.3764e-04 - val_loss: 8.9510e-05\n",
            "Epoch 74/100\n",
            "70/70 [==============================] - 1s 16ms/step - loss: 1.2220e-04 - val_loss: 6.9104e-05\n",
            "Epoch 75/100\n",
            "70/70 [==============================] - 1s 16ms/step - loss: 1.3965e-04 - val_loss: 7.4035e-05\n",
            "Epoch 76/100\n",
            "70/70 [==============================] - 1s 16ms/step - loss: 1.2545e-04 - val_loss: 8.8414e-05\n",
            "Epoch 77/100\n",
            "70/70 [==============================] - 1s 16ms/step - loss: 1.4205e-04 - val_loss: 7.7597e-05\n",
            "Epoch 78/100\n",
            "70/70 [==============================] - 1s 16ms/step - loss: 1.6560e-04 - val_loss: 7.6437e-05\n",
            "Epoch 79/100\n",
            "70/70 [==============================] - 1s 16ms/step - loss: 1.2997e-04 - val_loss: 7.5892e-05\n",
            "Epoch 80/100\n",
            "70/70 [==============================] - 1s 16ms/step - loss: 1.4590e-04 - val_loss: 7.9611e-05\n",
            "Epoch 81/100\n",
            "70/70 [==============================] - 1s 16ms/step - loss: 1.1551e-04 - val_loss: 6.8210e-05\n",
            "Epoch 82/100\n",
            "70/70 [==============================] - 1s 16ms/step - loss: 1.1984e-04 - val_loss: 7.2823e-05\n",
            "Epoch 83/100\n",
            "70/70 [==============================] - 1s 16ms/step - loss: 1.5125e-04 - val_loss: 1.3449e-04\n",
            "Epoch 84/100\n",
            "70/70 [==============================] - 1s 16ms/step - loss: 1.3384e-04 - val_loss: 1.0044e-04\n",
            "Epoch 85/100\n",
            "70/70 [==============================] - 1s 16ms/step - loss: 1.4041e-04 - val_loss: 7.2901e-05\n",
            "Epoch 86/100\n",
            "70/70 [==============================] - 1s 16ms/step - loss: 1.1341e-04 - val_loss: 9.2418e-05\n",
            "Epoch 87/100\n",
            "70/70 [==============================] - 1s 16ms/step - loss: 1.3335e-04 - val_loss: 6.6827e-05\n",
            "Epoch 88/100\n",
            "70/70 [==============================] - 1s 16ms/step - loss: 1.4792e-04 - val_loss: 1.0791e-04\n",
            "Epoch 89/100\n",
            "70/70 [==============================] - 1s 17ms/step - loss: 1.8777e-04 - val_loss: 6.8607e-05\n",
            "Epoch 90/100\n",
            "70/70 [==============================] - 1s 16ms/step - loss: 1.4234e-04 - val_loss: 7.4937e-05\n",
            "Epoch 91/100\n",
            "70/70 [==============================] - 1s 16ms/step - loss: 1.3160e-04 - val_loss: 6.7185e-05\n",
            "Epoch 92/100\n",
            "70/70 [==============================] - 1s 16ms/step - loss: 1.5601e-04 - val_loss: 7.3455e-05\n",
            "Epoch 93/100\n",
            "70/70 [==============================] - 1s 16ms/step - loss: 1.3601e-04 - val_loss: 6.7015e-05\n",
            "Epoch 94/100\n",
            "70/70 [==============================] - 1s 18ms/step - loss: 1.8146e-04 - val_loss: 9.9671e-05\n",
            "Epoch 95/100\n",
            "70/70 [==============================] - 1s 16ms/step - loss: 1.4850e-04 - val_loss: 6.5358e-05\n",
            "Epoch 96/100\n",
            "70/70 [==============================] - 1s 16ms/step - loss: 1.4231e-04 - val_loss: 7.0661e-05\n",
            "Epoch 97/100\n",
            "70/70 [==============================] - 1s 16ms/step - loss: 1.2098e-04 - val_loss: 6.6228e-05\n",
            "Epoch 98/100\n",
            "70/70 [==============================] - 1s 16ms/step - loss: 1.4722e-04 - val_loss: 9.9374e-05\n",
            "Epoch 99/100\n",
            "70/70 [==============================] - 1s 16ms/step - loss: 1.4947e-04 - val_loss: 7.7750e-05\n",
            "Epoch 100/100\n",
            "70/70 [==============================] - 1s 16ms/step - loss: 1.3361e-04 - val_loss: 7.4308e-05\n"
          ],
          "name": "stdout"
        },
        {
          "output_type": "execute_result",
          "data": {
            "text/plain": [
              "<tensorflow.python.keras.callbacks.History at 0x7fb03a1444a8>"
            ]
          },
          "metadata": {
            "tags": []
          },
          "execution_count": 82
        }
      ]
    },
    {
      "cell_type": "code",
      "metadata": {
        "colab": {
          "base_uri": "https://localhost:8080/",
          "height": 35
        },
        "id": "zfZzSlz_fUPk",
        "outputId": "1ed794e5-a71c-40d4-a691-4ceca223658f"
      },
      "source": [
        "import tensorflow as tf\r\n",
        "tf.__version__"
      ],
      "execution_count": 83,
      "outputs": [
        {
          "output_type": "execute_result",
          "data": {
            "application/vnd.google.colaboratory.intrinsic+json": {
              "type": "string"
            },
            "text/plain": [
              "'2.4.0'"
            ]
          },
          "metadata": {
            "tags": []
          },
          "execution_count": 83
        }
      ]
    },
    {
      "cell_type": "code",
      "metadata": {
        "id": "CmmPqfeZfUD4"
      },
      "source": [
        "# Lets do the prediction and check performance metrics\r\n",
        "train_predict = model.predict(X_train)\r\n",
        "test_predict = model.predict(X_test)"
      ],
      "execution_count": 84,
      "outputs": []
    },
    {
      "cell_type": "code",
      "metadata": {
        "id": "Guh5JWOQfT4m"
      },
      "source": [
        "# Transform back to original form\r\n",
        "train_predict = scaler.inverse_transform(train_predict)\r\n",
        "test_predict = scaler.inverse_transform(test_predict)"
      ],
      "execution_count": 85,
      "outputs": []
    },
    {
      "cell_type": "code",
      "metadata": {
        "colab": {
          "base_uri": "https://localhost:8080/"
        },
        "id": "80mfBl8hfTpC",
        "outputId": "2e97d79e-29be-4de4-e214-6551837223f6"
      },
      "source": [
        "# Calculate RMSE performance metrics\r\n",
        "import math\r\n",
        "from sklearn.metrics import mean_squared_error\r\n",
        "math.sqrt(mean_squared_error(y_train,train_predict))"
      ],
      "execution_count": 86,
      "outputs": [
        {
          "output_type": "execute_result",
          "data": {
            "text/plain": [
              "59.030648322005206"
            ]
          },
          "metadata": {
            "tags": []
          },
          "execution_count": 86
        }
      ]
    },
    {
      "cell_type": "code",
      "metadata": {
        "colab": {
          "base_uri": "https://localhost:8080/"
        },
        "id": "rWmL7eq0uzXK",
        "outputId": "97469dca-9880-43f2-9e64-8ce8aa1530bc"
      },
      "source": [
        "# Test Data RMSE\r\n",
        "math.sqrt(mean_squared_error(y_test,test_predict))"
      ],
      "execution_count": 87,
      "outputs": [
        {
          "output_type": "execute_result",
          "data": {
            "text/plain": [
              "39.82612214236041"
            ]
          },
          "metadata": {
            "tags": []
          },
          "execution_count": 87
        }
      ]
    },
    {
      "cell_type": "code",
      "metadata": {
        "colab": {
          "base_uri": "https://localhost:8080/",
          "height": 265
        },
        "id": "-McN42Cxuy2R",
        "outputId": "faa30afc-dc74-4a7b-fe48-2ae87156e8f9"
      },
      "source": [
        "# Plotting\r\n",
        "\r\n",
        "# Shift train predictions for plotting\r\n",
        "look_back=100\r\n",
        "trainPredictPlot = numpy.empty_like(df1)\r\n",
        "trainPredictPlot[:, :] = np.nan\r\n",
        "trainPredictPlot[look_back:len(train_predict)+look_back, :] = train_predict\r\n",
        "\r\n",
        "# Shift test predictions for plotting\r\n",
        "testPredictPlot = numpy.empty_like(df1)\r\n",
        "testPredictPlot[:, :] = numpy.nan\r\n",
        "testPredictPlot[len(train_predict)+(look_back*2)+1:len(df1)-1, :] = test_predict\r\n",
        "\r\n",
        "# Plot baseline and predictions\r\n",
        "plt.plot(scaler.inverse_transform(df1))\r\n",
        "plt.plot(trainPredictPlot)\r\n",
        "plt.plot(testPredictPlot)\r\n",
        "plt.show()"
      ],
      "execution_count": 88,
      "outputs": [
        {
          "output_type": "display_data",
          "data": {
            "image/png": "[encoded data removed]",
            "text/plain": [
              "<Figure size 432x288 with 1 Axes>"
            ]
          },
          "metadata": {
            "tags": [],
            "needs_background": "light"
          }
        }
      ]
    },
    {
      "cell_type": "code",
      "metadata": {
        "colab": {
          "base_uri": "https://localhost:8080/"
        },
        "id": "yas0sVJzuycT",
        "outputId": "f99272ff-ca32-4969-f68d-f7289678b3fa"
      },
      "source": [
        "len(test_data)"
      ],
      "execution_count": 89,
      "outputs": [
        {
          "output_type": "execute_result",
          "data": {
            "text/plain": [
              "1521"
            ]
          },
          "metadata": {
            "tags": []
          },
          "execution_count": 89
        }
      ]
    },
    {
      "cell_type": "code",
      "metadata": {
        "colab": {
          "base_uri": "https://localhost:8080/"
        },
        "id": "t8mjD6Tsyxv-",
        "outputId": "5e9e248a-3981-4414-b02a-c1c9c75ab4b9"
      },
      "source": [
        "# previous 100 days\r\n",
        "1521-100"
      ],
      "execution_count": 90,
      "outputs": [
        {
          "output_type": "execute_result",
          "data": {
            "text/plain": [
              "1421"
            ]
          },
          "metadata": {
            "tags": []
          },
          "execution_count": 90
        }
      ]
    },
    {
      "cell_type": "code",
      "metadata": {
        "colab": {
          "base_uri": "https://localhost:8080/"
        },
        "id": "HPBK8I_cux98",
        "outputId": "ef5f6705-cb41-4711-976a-556d30a118cc"
      },
      "source": [
        "x_input = test_data[1421:].reshape(1,-1)\r\n",
        "x_input.shape"
      ],
      "execution_count": 91,
      "outputs": [
        {
          "output_type": "execute_result",
          "data": {
            "text/plain": [
              "(1, 100)"
            ]
          },
          "metadata": {
            "tags": []
          },
          "execution_count": 91
        }
      ]
    },
    {
      "cell_type": "code",
      "metadata": {
        "id": "TJVRRe5OySNN"
      },
      "source": [
        "temp_input = list(x_input)\r\n",
        "temp_input = temp_input[0].tolist()"
      ],
      "execution_count": 92,
      "outputs": []
    },
    {
      "cell_type": "code",
      "metadata": {
        "colab": {
          "base_uri": "https://localhost:8080/"
        },
        "id": "mxC_-uD7z-41",
        "outputId": "bea3e2d3-ebb5-4ca3-8016-af99727afaad"
      },
      "source": [
        "temp_input[0:5]"
      ],
      "execution_count": 93,
      "outputs": [
        {
          "output_type": "execute_result",
          "data": {
            "text/plain": [
              "[0.09058804644443255,\n",
              " 0.09262132805393547,\n",
              " 0.08925036117502275,\n",
              " 0.08593290170688642,\n",
              " 0.08925036117502275]"
            ]
          },
          "metadata": {
            "tags": []
          },
          "execution_count": 93
        }
      ]
    },
    {
      "cell_type": "code",
      "metadata": {
        "colab": {
          "base_uri": "https://localhost:8080/"
        },
        "id": "OtYuCbs6zfqT",
        "outputId": "4f1a290d-3b8f-41f6-fd72-9364c8e4cc36"
      },
      "source": [
        "# demonstrate prediction for next 10 days\r\n",
        "from numpy import array\r\n",
        "\r\n",
        "lst_output = []\r\n",
        "n_steps = 100\r\n",
        "i=0\r\n",
        "\r\n",
        "while(i<30):\r\n",
        "  if(len(temp_input)>100):\r\n",
        "    x_input = np.array(temp_input[1:])\r\n",
        "    print(\"{} day input {}\".format(i,x_input))\r\n",
        "    x_input = x_input.reshape((1, n_steps, 1))\r\n",
        "    yhat = model.predict(x_input, verbose=0)\r\n",
        "    print(\"{} day output {}\".format(i,yhat))\r\n",
        "    temp_input.extend(yhat[0].tolist())\r\n",
        "    temp_input = temp_input[1:]\r\n",
        "    lst_output.extend(yhat.tolist())\r\n",
        "    i = i+1\r\n",
        "  else:\r\n",
        "    x_input = x_input.reshape((1, n_steps, 1))\r\n",
        "    yhat = model.predict(x_input, verbose=0)\r\n",
        "    print(yhat[0])\r\n",
        "    temp_input.extend(yhat[0].tolist())\r\n",
        "    print(len(temp_input))\r\n",
        "    lst_output.extend(yhat.tolist())\r\n",
        "    i = i+1\r\n",
        "\r\n",
        "print(lst_output)"
      ],
      "execution_count": 94,
      "outputs": [
        {
          "output_type": "stream",
          "text": [
            "[0.07521631]\n",
            "101\n",
            "1 day input [0.09262133 0.08925036 0.0859329  0.08925036 0.09192573 0.08727059\n",
            " 0.08389962 0.08122425 0.09262133 0.09128364 0.0946011  0.08994596\n",
            " 0.09128364 0.08459522 0.08058216 0.08191985 0.08256193 0.08256193\n",
            " 0.07988656 0.08657499 0.08459522 0.07924448 0.07854888 0.07790679\n",
            " 0.07523142 0.07721119 0.07790679 0.08389962 0.07523142 0.07186045\n",
            " 0.06854299 0.06720531 0.07186045 0.07389373 0.0765691  0.07721119\n",
            " 0.07052277 0.06383434 0.06115897 0.06319225 0.06650971 0.06918508\n",
            " 0.06249666 0.0591792  0.05784151 0.05447054 0.05179517 0.04778212\n",
            " 0.05516614 0.05784151 0.05784151 0.05650383 0.05982129 0.05516614\n",
            " 0.06319225 0.06854299 0.07121836 0.06319225 0.06383434 0.06452994\n",
            " 0.06383434 0.06452994 0.06319225 0.06249666 0.06586762 0.07121836\n",
            " 0.06988068 0.06650971 0.0678474  0.0678474  0.06383434 0.0584836\n",
            " 0.0591792  0.05249077 0.05784151 0.0584836  0.06249666 0.06383434\n",
            " 0.06383434 0.06650971 0.06517203 0.06319225 0.06185457 0.06517203\n",
            " 0.06854299 0.06854299 0.07052277 0.07319814 0.07453582 0.07587351\n",
            " 0.07523142 0.07854888 0.08389962 0.07988656 0.07790679 0.07052277\n",
            " 0.07453582 0.07186045 0.07255605 0.07521631]\n",
            "1 day output [[0.07731027]]\n",
            "2 day input [0.08925036 0.0859329  0.08925036 0.09192573 0.08727059 0.08389962\n",
            " 0.08122425 0.09262133 0.09128364 0.0946011  0.08994596 0.09128364\n",
            " 0.08459522 0.08058216 0.08191985 0.08256193 0.08256193 0.07988656\n",
            " 0.08657499 0.08459522 0.07924448 0.07854888 0.07790679 0.07523142\n",
            " 0.07721119 0.07790679 0.08389962 0.07523142 0.07186045 0.06854299\n",
            " 0.06720531 0.07186045 0.07389373 0.0765691  0.07721119 0.07052277\n",
            " 0.06383434 0.06115897 0.06319225 0.06650971 0.06918508 0.06249666\n",
            " 0.0591792  0.05784151 0.05447054 0.05179517 0.04778212 0.05516614\n",
            " 0.05784151 0.05784151 0.05650383 0.05982129 0.05516614 0.06319225\n",
            " 0.06854299 0.07121836 0.06319225 0.06383434 0.06452994 0.06383434\n",
            " 0.06452994 0.06319225 0.06249666 0.06586762 0.07121836 0.06988068\n",
            " 0.06650971 0.0678474  0.0678474  0.06383434 0.0584836  0.0591792\n",
            " 0.05249077 0.05784151 0.0584836  0.06249666 0.06383434 0.06383434\n",
            " 0.06650971 0.06517203 0.06319225 0.06185457 0.06517203 0.06854299\n",
            " 0.06854299 0.07052277 0.07319814 0.07453582 0.07587351 0.07523142\n",
            " 0.07854888 0.08389962 0.07988656 0.07790679 0.07052277 0.07453582\n",
            " 0.07186045 0.07255605 0.07521631 0.07731027]\n",
            "2 day output [[0.07963932]]\n",
            "3 day input [0.0859329  0.08925036 0.09192573 0.08727059 0.08389962 0.08122425\n",
            " 0.09262133 0.09128364 0.0946011  0.08994596 0.09128364 0.08459522\n",
            " 0.08058216 0.08191985 0.08256193 0.08256193 0.07988656 0.08657499\n",
            " 0.08459522 0.07924448 0.07854888 0.07790679 0.07523142 0.07721119\n",
            " 0.07790679 0.08389962 0.07523142 0.07186045 0.06854299 0.06720531\n",
            " 0.07186045 0.07389373 0.0765691  0.07721119 0.07052277 0.06383434\n",
            " 0.06115897 0.06319225 0.06650971 0.06918508 0.06249666 0.0591792\n",
            " 0.05784151 0.05447054 0.05179517 0.04778212 0.05516614 0.05784151\n",
            " 0.05784151 0.05650383 0.05982129 0.05516614 0.06319225 0.06854299\n",
            " 0.07121836 0.06319225 0.06383434 0.06452994 0.06383434 0.06452994\n",
            " 0.06319225 0.06249666 0.06586762 0.07121836 0.06988068 0.06650971\n",
            " 0.0678474  0.0678474  0.06383434 0.0584836  0.0591792  0.05249077\n",
            " 0.05784151 0.0584836  0.06249666 0.06383434 0.06383434 0.06650971\n",
            " 0.06517203 0.06319225 0.06185457 0.06517203 0.06854299 0.06854299\n",
            " 0.07052277 0.07319814 0.07453582 0.07587351 0.07523142 0.07854888\n",
            " 0.08389962 0.07988656 0.07790679 0.07052277 0.07453582 0.07186045\n",
            " 0.07255605 0.07521631 0.07731027 0.07963932]\n",
            "3 day output [[0.08200026]]\n",
            "4 day input [0.08925036 0.09192573 0.08727059 0.08389962 0.08122425 0.09262133\n",
            " 0.09128364 0.0946011  0.08994596 0.09128364 0.08459522 0.08058216\n",
            " 0.08191985 0.08256193 0.08256193 0.07988656 0.08657499 0.08459522\n",
            " 0.07924448 0.07854888 0.07790679 0.07523142 0.07721119 0.07790679\n",
            " 0.08389962 0.07523142 0.07186045 0.06854299 0.06720531 0.07186045\n",
            " 0.07389373 0.0765691  0.07721119 0.07052277 0.06383434 0.06115897\n",
            " 0.06319225 0.06650971 0.06918508 0.06249666 0.0591792  0.05784151\n",
            " 0.05447054 0.05179517 0.04778212 0.05516614 0.05784151 0.05784151\n",
            " 0.05650383 0.05982129 0.05516614 0.06319225 0.06854299 0.07121836\n",
            " 0.06319225 0.06383434 0.06452994 0.06383434 0.06452994 0.06319225\n",
            " 0.06249666 0.06586762 0.07121836 0.06988068 0.06650971 0.0678474\n",
            " 0.0678474  0.06383434 0.0584836  0.0591792  0.05249077 0.05784151\n",
            " 0.0584836  0.06249666 0.06383434 0.06383434 0.06650971 0.06517203\n",
            " 0.06319225 0.06185457 0.06517203 0.06854299 0.06854299 0.07052277\n",
            " 0.07319814 0.07453582 0.07587351 0.07523142 0.07854888 0.08389962\n",
            " 0.07988656 0.07790679 0.07052277 0.07453582 0.07186045 0.07255605\n",
            " 0.07521631 0.07731027 0.07963932 0.08200026]\n",
            "4 day output [[0.08436286]]\n",
            "5 day input [0.09192573 0.08727059 0.08389962 0.08122425 0.09262133 0.09128364\n",
            " 0.0946011  0.08994596 0.09128364 0.08459522 0.08058216 0.08191985\n",
            " 0.08256193 0.08256193 0.07988656 0.08657499 0.08459522 0.07924448\n",
            " 0.07854888 0.07790679 0.07523142 0.07721119 0.07790679 0.08389962\n",
            " 0.07523142 0.07186045 0.06854299 0.06720531 0.07186045 0.07389373\n",
            " 0.0765691  0.07721119 0.07052277 0.06383434 0.06115897 0.06319225\n",
            " 0.06650971 0.06918508 0.06249666 0.0591792  0.05784151 0.05447054\n",
            " 0.05179517 0.04778212 0.05516614 0.05784151 0.05784151 0.05650383\n",
            " 0.05982129 0.05516614 0.06319225 0.06854299 0.07121836 0.06319225\n",
            " 0.06383434 0.06452994 0.06383434 0.06452994 0.06319225 0.06249666\n",
            " 0.06586762 0.07121836 0.06988068 0.06650971 0.0678474  0.0678474\n",
            " 0.06383434 0.0584836  0.0591792  0.05249077 0.05784151 0.0584836\n",
            " 0.06249666 0.06383434 0.06383434 0.06650971 0.06517203 0.06319225\n",
            " 0.06185457 0.06517203 0.06854299 0.06854299 0.07052277 0.07319814\n",
            " 0.07453582 0.07587351 0.07523142 0.07854888 0.08389962 0.07988656\n",
            " 0.07790679 0.07052277 0.07453582 0.07186045 0.07255605 0.07521631\n",
            " 0.07731027 0.07963932 0.08200026 0.08436286]\n",
            "5 day output [[0.08671791]]\n",
            "6 day input [0.08727059 0.08389962 0.08122425 0.09262133 0.09128364 0.0946011\n",
            " 0.08994596 0.09128364 0.08459522 0.08058216 0.08191985 0.08256193\n",
            " 0.08256193 0.07988656 0.08657499 0.08459522 0.07924448 0.07854888\n",
            " 0.07790679 0.07523142 0.07721119 0.07790679 0.08389962 0.07523142\n",
            " 0.07186045 0.06854299 0.06720531 0.07186045 0.07389373 0.0765691\n",
            " 0.07721119 0.07052277 0.06383434 0.06115897 0.06319225 0.06650971\n",
            " 0.06918508 0.06249666 0.0591792  0.05784151 0.05447054 0.05179517\n",
            " 0.04778212 0.05516614 0.05784151 0.05784151 0.05650383 0.05982129\n",
            " 0.05516614 0.06319225 0.06854299 0.07121836 0.06319225 0.06383434\n",
            " 0.06452994 0.06383434 0.06452994 0.06319225 0.06249666 0.06586762\n",
            " 0.07121836 0.06988068 0.06650971 0.0678474  0.0678474  0.06383434\n",
            " 0.0584836  0.0591792  0.05249077 0.05784151 0.0584836  0.06249666\n",
            " 0.06383434 0.06383434 0.06650971 0.06517203 0.06319225 0.06185457\n",
            " 0.06517203 0.06854299 0.06854299 0.07052277 0.07319814 0.07453582\n",
            " 0.07587351 0.07523142 0.07854888 0.08389962 0.07988656 0.07790679\n",
            " 0.07052277 0.07453582 0.07186045 0.07255605 0.07521631 0.07731027\n",
            " 0.07963932 0.08200026 0.08436286 0.08671791]\n",
            "6 day output [[0.08906331]]\n",
            "7 day input [0.08389962 0.08122425 0.09262133 0.09128364 0.0946011  0.08994596\n",
            " 0.09128364 0.08459522 0.08058216 0.08191985 0.08256193 0.08256193\n",
            " 0.07988656 0.08657499 0.08459522 0.07924448 0.07854888 0.07790679\n",
            " 0.07523142 0.07721119 0.07790679 0.08389962 0.07523142 0.07186045\n",
            " 0.06854299 0.06720531 0.07186045 0.07389373 0.0765691  0.07721119\n",
            " 0.07052277 0.06383434 0.06115897 0.06319225 0.06650971 0.06918508\n",
            " 0.06249666 0.0591792  0.05784151 0.05447054 0.05179517 0.04778212\n",
            " 0.05516614 0.05784151 0.05784151 0.05650383 0.05982129 0.05516614\n",
            " 0.06319225 0.06854299 0.07121836 0.06319225 0.06383434 0.06452994\n",
            " 0.06383434 0.06452994 0.06319225 0.06249666 0.06586762 0.07121836\n",
            " 0.06988068 0.06650971 0.0678474  0.0678474  0.06383434 0.0584836\n",
            " 0.0591792  0.05249077 0.05784151 0.0584836  0.06249666 0.06383434\n",
            " 0.06383434 0.06650971 0.06517203 0.06319225 0.06185457 0.06517203\n",
            " 0.06854299 0.06854299 0.07052277 0.07319814 0.07453582 0.07587351\n",
            " 0.07523142 0.07854888 0.08389962 0.07988656 0.07790679 0.07052277\n",
            " 0.07453582 0.07186045 0.07255605 0.07521631 0.07731027 0.07963932\n",
            " 0.08200026 0.08436286 0.08671791 0.08906331]\n",
            "7 day output [[0.09139885]]\n",
            "8 day input [0.08122425 0.09262133 0.09128364 0.0946011  0.08994596 0.09128364\n",
            " 0.08459522 0.08058216 0.08191985 0.08256193 0.08256193 0.07988656\n",
            " 0.08657499 0.08459522 0.07924448 0.07854888 0.07790679 0.07523142\n",
            " 0.07721119 0.07790679 0.08389962 0.07523142 0.07186045 0.06854299\n",
            " 0.06720531 0.07186045 0.07389373 0.0765691  0.07721119 0.07052277\n",
            " 0.06383434 0.06115897 0.06319225 0.06650971 0.06918508 0.06249666\n",
            " 0.0591792  0.05784151 0.05447054 0.05179517 0.04778212 0.05516614\n",
            " 0.05784151 0.05784151 0.05650383 0.05982129 0.05516614 0.06319225\n",
            " 0.06854299 0.07121836 0.06319225 0.06383434 0.06452994 0.06383434\n",
            " 0.06452994 0.06319225 0.06249666 0.06586762 0.07121836 0.06988068\n",
            " 0.06650971 0.0678474  0.0678474  0.06383434 0.0584836  0.0591792\n",
            " 0.05249077 0.05784151 0.0584836  0.06249666 0.06383434 0.06383434\n",
            " 0.06650971 0.06517203 0.06319225 0.06185457 0.06517203 0.06854299\n",
            " 0.06854299 0.07052277 0.07319814 0.07453582 0.07587351 0.07523142\n",
            " 0.07854888 0.08389962 0.07988656 0.07790679 0.07052277 0.07453582\n",
            " 0.07186045 0.07255605 0.07521631 0.07731027 0.07963932 0.08200026\n",
            " 0.08436286 0.08671791 0.08906331 0.09139885]\n",
            "8 day output [[0.0937246]]\n",
            "9 day input [0.09262133 0.09128364 0.0946011  0.08994596 0.09128364 0.08459522\n",
            " 0.08058216 0.08191985 0.08256193 0.08256193 0.07988656 0.08657499\n",
            " 0.08459522 0.07924448 0.07854888 0.07790679 0.07523142 0.07721119\n",
            " 0.07790679 0.08389962 0.07523142 0.07186045 0.06854299 0.06720531\n",
            " 0.07186045 0.07389373 0.0765691  0.07721119 0.07052277 0.06383434\n",
            " 0.06115897 0.06319225 0.06650971 0.06918508 0.06249666 0.0591792\n",
            " 0.05784151 0.05447054 0.05179517 0.04778212 0.05516614 0.05784151\n",
            " 0.05784151 0.05650383 0.05982129 0.05516614 0.06319225 0.06854299\n",
            " 0.07121836 0.06319225 0.06383434 0.06452994 0.06383434 0.06452994\n",
            " 0.06319225 0.06249666 0.06586762 0.07121836 0.06988068 0.06650971\n",
            " 0.0678474  0.0678474  0.06383434 0.0584836  0.0591792  0.05249077\n",
            " 0.05784151 0.0584836  0.06249666 0.06383434 0.06383434 0.06650971\n",
            " 0.06517203 0.06319225 0.06185457 0.06517203 0.06854299 0.06854299\n",
            " 0.07052277 0.07319814 0.07453582 0.07587351 0.07523142 0.07854888\n",
            " 0.08389962 0.07988656 0.07790679 0.07052277 0.07453582 0.07186045\n",
            " 0.07255605 0.07521631 0.07731027 0.07963932 0.08200026 0.08436286\n",
            " 0.08671791 0.08906331 0.09139885 0.0937246 ]\n",
            "9 day output [[0.09604067]]\n",
            "10 day input [0.09128364 0.0946011  0.08994596 0.09128364 0.08459522 0.08058216\n",
            " 0.08191985 0.08256193 0.08256193 0.07988656 0.08657499 0.08459522\n",
            " 0.07924448 0.07854888 0.07790679 0.07523142 0.07721119 0.07790679\n",
            " 0.08389962 0.07523142 0.07186045 0.06854299 0.06720531 0.07186045\n",
            " 0.07389373 0.0765691  0.07721119 0.07052277 0.06383434 0.06115897\n",
            " 0.06319225 0.06650971 0.06918508 0.06249666 0.0591792  0.05784151\n",
            " 0.05447054 0.05179517 0.04778212 0.05516614 0.05784151 0.05784151\n",
            " 0.05650383 0.05982129 0.05516614 0.06319225 0.06854299 0.07121836\n",
            " 0.06319225 0.06383434 0.06452994 0.06383434 0.06452994 0.06319225\n",
            " 0.06249666 0.06586762 0.07121836 0.06988068 0.06650971 0.0678474\n",
            " 0.0678474  0.06383434 0.0584836  0.0591792  0.05249077 0.05784151\n",
            " 0.0584836  0.06249666 0.06383434 0.06383434 0.06650971 0.06517203\n",
            " 0.06319225 0.06185457 0.06517203 0.06854299 0.06854299 0.07052277\n",
            " 0.07319814 0.07453582 0.07587351 0.07523142 0.07854888 0.08389962\n",
            " 0.07988656 0.07790679 0.07052277 0.07453582 0.07186045 0.07255605\n",
            " 0.07521631 0.07731027 0.07963932 0.08200026 0.08436286 0.08671791\n",
            " 0.08906331 0.09139885 0.0937246  0.09604067]\n",
            "10 day output [[0.09834755]]\n",
            "11 day input [0.0946011  0.08994596 0.09128364 0.08459522 0.08058216 0.08191985\n",
            " 0.08256193 0.08256193 0.07988656 0.08657499 0.08459522 0.07924448\n",
            " 0.07854888 0.07790679 0.07523142 0.07721119 0.07790679 0.08389962\n",
            " 0.07523142 0.07186045 0.06854299 0.06720531 0.07186045 0.07389373\n",
            " 0.0765691  0.07721119 0.07052277 0.06383434 0.06115897 0.06319225\n",
            " 0.06650971 0.06918508 0.06249666 0.0591792  0.05784151 0.05447054\n",
            " 0.05179517 0.04778212 0.05516614 0.05784151 0.05784151 0.05650383\n",
            " 0.05982129 0.05516614 0.06319225 0.06854299 0.07121836 0.06319225\n",
            " 0.06383434 0.06452994 0.06383434 0.06452994 0.06319225 0.06249666\n",
            " 0.06586762 0.07121836 0.06988068 0.06650971 0.0678474  0.0678474\n",
            " 0.06383434 0.0584836  0.0591792  0.05249077 0.05784151 0.0584836\n",
            " 0.06249666 0.06383434 0.06383434 0.06650971 0.06517203 0.06319225\n",
            " 0.06185457 0.06517203 0.06854299 0.06854299 0.07052277 0.07319814\n",
            " 0.07453582 0.07587351 0.07523142 0.07854888 0.08389962 0.07988656\n",
            " 0.07790679 0.07052277 0.07453582 0.07186045 0.07255605 0.07521631\n",
            " 0.07731027 0.07963932 0.08200026 0.08436286 0.08671791 0.08906331\n",
            " 0.09139885 0.0937246  0.09604067 0.09834755]\n",
            "11 day output [[0.10064656]]\n",
            "12 day input [0.08994596 0.09128364 0.08459522 0.08058216 0.08191985 0.08256193\n",
            " 0.08256193 0.07988656 0.08657499 0.08459522 0.07924448 0.07854888\n",
            " 0.07790679 0.07523142 0.07721119 0.07790679 0.08389962 0.07523142\n",
            " 0.07186045 0.06854299 0.06720531 0.07186045 0.07389373 0.0765691\n",
            " 0.07721119 0.07052277 0.06383434 0.06115897 0.06319225 0.06650971\n",
            " 0.06918508 0.06249666 0.0591792  0.05784151 0.05447054 0.05179517\n",
            " 0.04778212 0.05516614 0.05784151 0.05784151 0.05650383 0.05982129\n",
            " 0.05516614 0.06319225 0.06854299 0.07121836 0.06319225 0.06383434\n",
            " 0.06452994 0.06383434 0.06452994 0.06319225 0.06249666 0.06586762\n",
            " 0.07121836 0.06988068 0.06650971 0.0678474  0.0678474  0.06383434\n",
            " 0.0584836  0.0591792  0.05249077 0.05784151 0.0584836  0.06249666\n",
            " 0.06383434 0.06383434 0.06650971 0.06517203 0.06319225 0.06185457\n",
            " 0.06517203 0.06854299 0.06854299 0.07052277 0.07319814 0.07453582\n",
            " 0.07587351 0.07523142 0.07854888 0.08389962 0.07988656 0.07790679\n",
            " 0.07052277 0.07453582 0.07186045 0.07255605 0.07521631 0.07731027\n",
            " 0.07963932 0.08200026 0.08436286 0.08671791 0.08906331 0.09139885\n",
            " 0.0937246  0.09604067 0.09834755 0.10064656]\n",
            "12 day output [[0.10293981]]\n",
            "13 day input [0.09128364 0.08459522 0.08058216 0.08191985 0.08256193 0.08256193\n",
            " 0.07988656 0.08657499 0.08459522 0.07924448 0.07854888 0.07790679\n",
            " 0.07523142 0.07721119 0.07790679 0.08389962 0.07523142 0.07186045\n",
            " 0.06854299 0.06720531 0.07186045 0.07389373 0.0765691  0.07721119\n",
            " 0.07052277 0.06383434 0.06115897 0.06319225 0.06650971 0.06918508\n",
            " 0.06249666 0.0591792  0.05784151 0.05447054 0.05179517 0.04778212\n",
            " 0.05516614 0.05784151 0.05784151 0.05650383 0.05982129 0.05516614\n",
            " 0.06319225 0.06854299 0.07121836 0.06319225 0.06383434 0.06452994\n",
            " 0.06383434 0.06452994 0.06319225 0.06249666 0.06586762 0.07121836\n",
            " 0.06988068 0.06650971 0.0678474  0.0678474  0.06383434 0.0584836\n",
            " 0.0591792  0.05249077 0.05784151 0.0584836  0.06249666 0.06383434\n",
            " 0.06383434 0.06650971 0.06517203 0.06319225 0.06185457 0.06517203\n",
            " 0.06854299 0.06854299 0.07052277 0.07319814 0.07453582 0.07587351\n",
            " 0.07523142 0.07854888 0.08389962 0.07988656 0.07790679 0.07052277\n",
            " 0.07453582 0.07186045 0.07255605 0.07521631 0.07731027 0.07963932\n",
            " 0.08200026 0.08436286 0.08671791 0.08906331 0.09139885 0.0937246\n",
            " 0.09604067 0.09834755 0.10064656 0.10293981]\n",
            "13 day output [[0.10523003]]\n",
            "14 day input [0.08459522 0.08058216 0.08191985 0.08256193 0.08256193 0.07988656\n",
            " 0.08657499 0.08459522 0.07924448 0.07854888 0.07790679 0.07523142\n",
            " 0.07721119 0.07790679 0.08389962 0.07523142 0.07186045 0.06854299\n",
            " 0.06720531 0.07186045 0.07389373 0.0765691  0.07721119 0.07052277\n",
            " 0.06383434 0.06115897 0.06319225 0.06650971 0.06918508 0.06249666\n",
            " 0.0591792  0.05784151 0.05447054 0.05179517 0.04778212 0.05516614\n",
            " 0.05784151 0.05784151 0.05650383 0.05982129 0.05516614 0.06319225\n",
            " 0.06854299 0.07121836 0.06319225 0.06383434 0.06452994 0.06383434\n",
            " 0.06452994 0.06319225 0.06249666 0.06586762 0.07121836 0.06988068\n",
            " 0.06650971 0.0678474  0.0678474  0.06383434 0.0584836  0.0591792\n",
            " 0.05249077 0.05784151 0.0584836  0.06249666 0.06383434 0.06383434\n",
            " 0.06650971 0.06517203 0.06319225 0.06185457 0.06517203 0.06854299\n",
            " 0.06854299 0.07052277 0.07319814 0.07453582 0.07587351 0.07523142\n",
            " 0.07854888 0.08389962 0.07988656 0.07790679 0.07052277 0.07453582\n",
            " 0.07186045 0.07255605 0.07521631 0.07731027 0.07963932 0.08200026\n",
            " 0.08436286 0.08671791 0.08906331 0.09139885 0.0937246  0.09604067\n",
            " 0.09834755 0.10064656 0.10293981 0.10523003]\n",
            "14 day output [[0.1075203]]\n",
            "15 day input [0.08058216 0.08191985 0.08256193 0.08256193 0.07988656 0.08657499\n",
            " 0.08459522 0.07924448 0.07854888 0.07790679 0.07523142 0.07721119\n",
            " 0.07790679 0.08389962 0.07523142 0.07186045 0.06854299 0.06720531\n",
            " 0.07186045 0.07389373 0.0765691  0.07721119 0.07052277 0.06383434\n",
            " 0.06115897 0.06319225 0.06650971 0.06918508 0.06249666 0.0591792\n",
            " 0.05784151 0.05447054 0.05179517 0.04778212 0.05516614 0.05784151\n",
            " 0.05784151 0.05650383 0.05982129 0.05516614 0.06319225 0.06854299\n",
            " 0.07121836 0.06319225 0.06383434 0.06452994 0.06383434 0.06452994\n",
            " 0.06319225 0.06249666 0.06586762 0.07121836 0.06988068 0.06650971\n",
            " 0.0678474  0.0678474  0.06383434 0.0584836  0.0591792  0.05249077\n",
            " 0.05784151 0.0584836  0.06249666 0.06383434 0.06383434 0.06650971\n",
            " 0.06517203 0.06319225 0.06185457 0.06517203 0.06854299 0.06854299\n",
            " 0.07052277 0.07319814 0.07453582 0.07587351 0.07523142 0.07854888\n",
            " 0.08389962 0.07988656 0.07790679 0.07052277 0.07453582 0.07186045\n",
            " 0.07255605 0.07521631 0.07731027 0.07963932 0.08200026 0.08436286\n",
            " 0.08671791 0.08906331 0.09139885 0.0937246  0.09604067 0.09834755\n",
            " 0.10064656 0.10293981 0.10523003 0.1075203 ]\n",
            "15 day output [[0.10981371]]\n",
            "16 day input [0.08191985 0.08256193 0.08256193 0.07988656 0.08657499 0.08459522\n",
            " 0.07924448 0.07854888 0.07790679 0.07523142 0.07721119 0.07790679\n",
            " 0.08389962 0.07523142 0.07186045 0.06854299 0.06720531 0.07186045\n",
            " 0.07389373 0.0765691  0.07721119 0.07052277 0.06383434 0.06115897\n",
            " 0.06319225 0.06650971 0.06918508 0.06249666 0.0591792  0.05784151\n",
            " 0.05447054 0.05179517 0.04778212 0.05516614 0.05784151 0.05784151\n",
            " 0.05650383 0.05982129 0.05516614 0.06319225 0.06854299 0.07121836\n",
            " 0.06319225 0.06383434 0.06452994 0.06383434 0.06452994 0.06319225\n",
            " 0.06249666 0.06586762 0.07121836 0.06988068 0.06650971 0.0678474\n",
            " 0.0678474  0.06383434 0.0584836  0.0591792  0.05249077 0.05784151\n",
            " 0.0584836  0.06249666 0.06383434 0.06383434 0.06650971 0.06517203\n",
            " 0.06319225 0.06185457 0.06517203 0.06854299 0.06854299 0.07052277\n",
            " 0.07319814 0.07453582 0.07587351 0.07523142 0.07854888 0.08389962\n",
            " 0.07988656 0.07790679 0.07052277 0.07453582 0.07186045 0.07255605\n",
            " 0.07521631 0.07731027 0.07963932 0.08200026 0.08436286 0.08671791\n",
            " 0.08906331 0.09139885 0.0937246  0.09604067 0.09834755 0.10064656\n",
            " 0.10293981 0.10523003 0.1075203  0.10981371]\n",
            "16 day output [[0.11211313]]\n",
            "17 day input [0.08256193 0.08256193 0.07988656 0.08657499 0.08459522 0.07924448\n",
            " 0.07854888 0.07790679 0.07523142 0.07721119 0.07790679 0.08389962\n",
            " 0.07523142 0.07186045 0.06854299 0.06720531 0.07186045 0.07389373\n",
            " 0.0765691  0.07721119 0.07052277 0.06383434 0.06115897 0.06319225\n",
            " 0.06650971 0.06918508 0.06249666 0.0591792  0.05784151 0.05447054\n",
            " 0.05179517 0.04778212 0.05516614 0.05784151 0.05784151 0.05650383\n",
            " 0.05982129 0.05516614 0.06319225 0.06854299 0.07121836 0.06319225\n",
            " 0.06383434 0.06452994 0.06383434 0.06452994 0.06319225 0.06249666\n",
            " 0.06586762 0.07121836 0.06988068 0.06650971 0.0678474  0.0678474\n",
            " 0.06383434 0.0584836  0.0591792  0.05249077 0.05784151 0.0584836\n",
            " 0.06249666 0.06383434 0.06383434 0.06650971 0.06517203 0.06319225\n",
            " 0.06185457 0.06517203 0.06854299 0.06854299 0.07052277 0.07319814\n",
            " 0.07453582 0.07587351 0.07523142 0.07854888 0.08389962 0.07988656\n",
            " 0.07790679 0.07052277 0.07453582 0.07186045 0.07255605 0.07521631\n",
            " 0.07731027 0.07963932 0.08200026 0.08436286 0.08671791 0.08906331\n",
            " 0.09139885 0.0937246  0.09604067 0.09834755 0.10064656 0.10293981\n",
            " 0.10523003 0.1075203  0.10981371 0.11211313]\n",
            "17 day output [[0.11442102]]\n",
            "18 day input [0.08256193 0.07988656 0.08657499 0.08459522 0.07924448 0.07854888\n",
            " 0.07790679 0.07523142 0.07721119 0.07790679 0.08389962 0.07523142\n",
            " 0.07186045 0.06854299 0.06720531 0.07186045 0.07389373 0.0765691\n",
            " 0.07721119 0.07052277 0.06383434 0.06115897 0.06319225 0.06650971\n",
            " 0.06918508 0.06249666 0.0591792  0.05784151 0.05447054 0.05179517\n",
            " 0.04778212 0.05516614 0.05784151 0.05784151 0.05650383 0.05982129\n",
            " 0.05516614 0.06319225 0.06854299 0.07121836 0.06319225 0.06383434\n",
            " 0.06452994 0.06383434 0.06452994 0.06319225 0.06249666 0.06586762\n",
            " 0.07121836 0.06988068 0.06650971 0.0678474  0.0678474  0.06383434\n",
            " 0.0584836  0.0591792  0.05249077 0.05784151 0.0584836  0.06249666\n",
            " 0.06383434 0.06383434 0.06650971 0.06517203 0.06319225 0.06185457\n",
            " 0.06517203 0.06854299 0.06854299 0.07052277 0.07319814 0.07453582\n",
            " 0.07587351 0.07523142 0.07854888 0.08389962 0.07988656 0.07790679\n",
            " 0.07052277 0.07453582 0.07186045 0.07255605 0.07521631 0.07731027\n",
            " 0.07963932 0.08200026 0.08436286 0.08671791 0.08906331 0.09139885\n",
            " 0.0937246  0.09604067 0.09834755 0.10064656 0.10293981 0.10523003\n",
            " 0.1075203  0.10981371 0.11211313 0.11442102]\n",
            "18 day output [[0.11673935]]\n",
            "19 day input [0.07988656 0.08657499 0.08459522 0.07924448 0.07854888 0.07790679\n",
            " 0.07523142 0.07721119 0.07790679 0.08389962 0.07523142 0.07186045\n",
            " 0.06854299 0.06720531 0.07186045 0.07389373 0.0765691  0.07721119\n",
            " 0.07052277 0.06383434 0.06115897 0.06319225 0.06650971 0.06918508\n",
            " 0.06249666 0.0591792  0.05784151 0.05447054 0.05179517 0.04778212\n",
            " 0.05516614 0.05784151 0.05784151 0.05650383 0.05982129 0.05516614\n",
            " 0.06319225 0.06854299 0.07121836 0.06319225 0.06383434 0.06452994\n",
            " 0.06383434 0.06452994 0.06319225 0.06249666 0.06586762 0.07121836\n",
            " 0.06988068 0.06650971 0.0678474  0.0678474  0.06383434 0.0584836\n",
            " 0.0591792  0.05249077 0.05784151 0.0584836  0.06249666 0.06383434\n",
            " 0.06383434 0.06650971 0.06517203 0.06319225 0.06185457 0.06517203\n",
            " 0.06854299 0.06854299 0.07052277 0.07319814 0.07453582 0.07587351\n",
            " 0.07523142 0.07854888 0.08389962 0.07988656 0.07790679 0.07052277\n",
            " 0.07453582 0.07186045 0.07255605 0.07521631 0.07731027 0.07963932\n",
            " 0.08200026 0.08436286 0.08671791 0.08906331 0.09139885 0.0937246\n",
            " 0.09604067 0.09834755 0.10064656 0.10293981 0.10523003 0.1075203\n",
            " 0.10981371 0.11211313 0.11442102 0.11673935]\n",
            "19 day output [[0.11906955]]\n",
            "20 day input [0.08657499 0.08459522 0.07924448 0.07854888 0.07790679 0.07523142\n",
            " 0.07721119 0.07790679 0.08389962 0.07523142 0.07186045 0.06854299\n",
            " 0.06720531 0.07186045 0.07389373 0.0765691  0.07721119 0.07052277\n",
            " 0.06383434 0.06115897 0.06319225 0.06650971 0.06918508 0.06249666\n",
            " 0.0591792  0.05784151 0.05447054 0.05179517 0.04778212 0.05516614\n",
            " 0.05784151 0.05784151 0.05650383 0.05982129 0.05516614 0.06319225\n",
            " 0.06854299 0.07121836 0.06319225 0.06383434 0.06452994 0.06383434\n",
            " 0.06452994 0.06319225 0.06249666 0.06586762 0.07121836 0.06988068\n",
            " 0.06650971 0.0678474  0.0678474  0.06383434 0.0584836  0.0591792\n",
            " 0.05249077 0.05784151 0.0584836  0.06249666 0.06383434 0.06383434\n",
            " 0.06650971 0.06517203 0.06319225 0.06185457 0.06517203 0.06854299\n",
            " 0.06854299 0.07052277 0.07319814 0.07453582 0.07587351 0.07523142\n",
            " 0.07854888 0.08389962 0.07988656 0.07790679 0.07052277 0.07453582\n",
            " 0.07186045 0.07255605 0.07521631 0.07731027 0.07963932 0.08200026\n",
            " 0.08436286 0.08671791 0.08906331 0.09139885 0.0937246  0.09604067\n",
            " 0.09834755 0.10064656 0.10293981 0.10523003 0.1075203  0.10981371\n",
            " 0.11211313 0.11442102 0.11673935 0.11906955]\n",
            "20 day output [[0.12141263]]\n",
            "21 day input [0.08459522 0.07924448 0.07854888 0.07790679 0.07523142 0.07721119\n",
            " 0.07790679 0.08389962 0.07523142 0.07186045 0.06854299 0.06720531\n",
            " 0.07186045 0.07389373 0.0765691  0.07721119 0.07052277 0.06383434\n",
            " 0.06115897 0.06319225 0.06650971 0.06918508 0.06249666 0.0591792\n",
            " 0.05784151 0.05447054 0.05179517 0.04778212 0.05516614 0.05784151\n",
            " 0.05784151 0.05650383 0.05982129 0.05516614 0.06319225 0.06854299\n",
            " 0.07121836 0.06319225 0.06383434 0.06452994 0.06383434 0.06452994\n",
            " 0.06319225 0.06249666 0.06586762 0.07121836 0.06988068 0.06650971\n",
            " 0.0678474  0.0678474  0.06383434 0.0584836  0.0591792  0.05249077\n",
            " 0.05784151 0.0584836  0.06249666 0.06383434 0.06383434 0.06650971\n",
            " 0.06517203 0.06319225 0.06185457 0.06517203 0.06854299 0.06854299\n",
            " 0.07052277 0.07319814 0.07453582 0.07587351 0.07523142 0.07854888\n",
            " 0.08389962 0.07988656 0.07790679 0.07052277 0.07453582 0.07186045\n",
            " 0.07255605 0.07521631 0.07731027 0.07963932 0.08200026 0.08436286\n",
            " 0.08671791 0.08906331 0.09139885 0.0937246  0.09604067 0.09834755\n",
            " 0.10064656 0.10293981 0.10523003 0.1075203  0.10981371 0.11211313\n",
            " 0.11442102 0.11673935 0.11906955 0.12141263]\n",
            "21 day output [[0.12376916]]\n",
            "22 day input [0.07924448 0.07854888 0.07790679 0.07523142 0.07721119 0.07790679\n",
            " 0.08389962 0.07523142 0.07186045 0.06854299 0.06720531 0.07186045\n",
            " 0.07389373 0.0765691  0.07721119 0.07052277 0.06383434 0.06115897\n",
            " 0.06319225 0.06650971 0.06918508 0.06249666 0.0591792  0.05784151\n",
            " 0.05447054 0.05179517 0.04778212 0.05516614 0.05784151 0.05784151\n",
            " 0.05650383 0.05982129 0.05516614 0.06319225 0.06854299 0.07121836\n",
            " 0.06319225 0.06383434 0.06452994 0.06383434 0.06452994 0.06319225\n",
            " 0.06249666 0.06586762 0.07121836 0.06988068 0.06650971 0.0678474\n",
            " 0.0678474  0.06383434 0.0584836  0.0591792  0.05249077 0.05784151\n",
            " 0.0584836  0.06249666 0.06383434 0.06383434 0.06650971 0.06517203\n",
            " 0.06319225 0.06185457 0.06517203 0.06854299 0.06854299 0.07052277\n",
            " 0.07319814 0.07453582 0.07587351 0.07523142 0.07854888 0.08389962\n",
            " 0.07988656 0.07790679 0.07052277 0.07453582 0.07186045 0.07255605\n",
            " 0.07521631 0.07731027 0.07963932 0.08200026 0.08436286 0.08671791\n",
            " 0.08906331 0.09139885 0.0937246  0.09604067 0.09834755 0.10064656\n",
            " 0.10293981 0.10523003 0.1075203  0.10981371 0.11211313 0.11442102\n",
            " 0.11673935 0.11906955 0.12141263 0.12376916]\n",
            "22 day output [[0.12613934]]\n",
            "23 day input [0.07854888 0.07790679 0.07523142 0.07721119 0.07790679 0.08389962\n",
            " 0.07523142 0.07186045 0.06854299 0.06720531 0.07186045 0.07389373\n",
            " 0.0765691  0.07721119 0.07052277 0.06383434 0.06115897 0.06319225\n",
            " 0.06650971 0.06918508 0.06249666 0.0591792  0.05784151 0.05447054\n",
            " 0.05179517 0.04778212 0.05516614 0.05784151 0.05784151 0.05650383\n",
            " 0.05982129 0.05516614 0.06319225 0.06854299 0.07121836 0.06319225\n",
            " 0.06383434 0.06452994 0.06383434 0.06452994 0.06319225 0.06249666\n",
            " 0.06586762 0.07121836 0.06988068 0.06650971 0.0678474  0.0678474\n",
            " 0.06383434 0.0584836  0.0591792  0.05249077 0.05784151 0.0584836\n",
            " 0.06249666 0.06383434 0.06383434 0.06650971 0.06517203 0.06319225\n",
            " 0.06185457 0.06517203 0.06854299 0.06854299 0.07052277 0.07319814\n",
            " 0.07453582 0.07587351 0.07523142 0.07854888 0.08389962 0.07988656\n",
            " 0.07790679 0.07052277 0.07453582 0.07186045 0.07255605 0.07521631\n",
            " 0.07731027 0.07963932 0.08200026 0.08436286 0.08671791 0.08906331\n",
            " 0.09139885 0.0937246  0.09604067 0.09834755 0.10064656 0.10293981\n",
            " 0.10523003 0.1075203  0.10981371 0.11211313 0.11442102 0.11673935\n",
            " 0.11906955 0.12141263 0.12376916 0.12613934]\n",
            "23 day output [[0.12852316]]\n",
            "24 day input [0.07790679 0.07523142 0.07721119 0.07790679 0.08389962 0.07523142\n",
            " 0.07186045 0.06854299 0.06720531 0.07186045 0.07389373 0.0765691\n",
            " 0.07721119 0.07052277 0.06383434 0.06115897 0.06319225 0.06650971\n",
            " 0.06918508 0.06249666 0.0591792  0.05784151 0.05447054 0.05179517\n",
            " 0.04778212 0.05516614 0.05784151 0.05784151 0.05650383 0.05982129\n",
            " 0.05516614 0.06319225 0.06854299 0.07121836 0.06319225 0.06383434\n",
            " 0.06452994 0.06383434 0.06452994 0.06319225 0.06249666 0.06586762\n",
            " 0.07121836 0.06988068 0.06650971 0.0678474  0.0678474  0.06383434\n",
            " 0.0584836  0.0591792  0.05249077 0.05784151 0.0584836  0.06249666\n",
            " 0.06383434 0.06383434 0.06650971 0.06517203 0.06319225 0.06185457\n",
            " 0.06517203 0.06854299 0.06854299 0.07052277 0.07319814 0.07453582\n",
            " 0.07587351 0.07523142 0.07854888 0.08389962 0.07988656 0.07790679\n",
            " 0.07052277 0.07453582 0.07186045 0.07255605 0.07521631 0.07731027\n",
            " 0.07963932 0.08200026 0.08436286 0.08671791 0.08906331 0.09139885\n",
            " 0.0937246  0.09604067 0.09834755 0.10064656 0.10293981 0.10523003\n",
            " 0.1075203  0.10981371 0.11211313 0.11442102 0.11673935 0.11906955\n",
            " 0.12141263 0.12376916 0.12613934 0.12852316]\n",
            "24 day output [[0.13092044]]\n",
            "25 day input [0.07523142 0.07721119 0.07790679 0.08389962 0.07523142 0.07186045\n",
            " 0.06854299 0.06720531 0.07186045 0.07389373 0.0765691  0.07721119\n",
            " 0.07052277 0.06383434 0.06115897 0.06319225 0.06650971 0.06918508\n",
            " 0.06249666 0.0591792  0.05784151 0.05447054 0.05179517 0.04778212\n",
            " 0.05516614 0.05784151 0.05784151 0.05650383 0.05982129 0.05516614\n",
            " 0.06319225 0.06854299 0.07121836 0.06319225 0.06383434 0.06452994\n",
            " 0.06383434 0.06452994 0.06319225 0.06249666 0.06586762 0.07121836\n",
            " 0.06988068 0.06650971 0.0678474  0.0678474  0.06383434 0.0584836\n",
            " 0.0591792  0.05249077 0.05784151 0.0584836  0.06249666 0.06383434\n",
            " 0.06383434 0.06650971 0.06517203 0.06319225 0.06185457 0.06517203\n",
            " 0.06854299 0.06854299 0.07052277 0.07319814 0.07453582 0.07587351\n",
            " 0.07523142 0.07854888 0.08389962 0.07988656 0.07790679 0.07052277\n",
            " 0.07453582 0.07186045 0.07255605 0.07521631 0.07731027 0.07963932\n",
            " 0.08200026 0.08436286 0.08671791 0.08906331 0.09139885 0.0937246\n",
            " 0.09604067 0.09834755 0.10064656 0.10293981 0.10523003 0.1075203\n",
            " 0.10981371 0.11211313 0.11442102 0.11673935 0.11906955 0.12141263\n",
            " 0.12376916 0.12613934 0.12852316 0.13092044]\n",
            "25 day output [[0.1333309]]\n",
            "26 day input [0.07721119 0.07790679 0.08389962 0.07523142 0.07186045 0.06854299\n",
            " 0.06720531 0.07186045 0.07389373 0.0765691  0.07721119 0.07052277\n",
            " 0.06383434 0.06115897 0.06319225 0.06650971 0.06918508 0.06249666\n",
            " 0.0591792  0.05784151 0.05447054 0.05179517 0.04778212 0.05516614\n",
            " 0.05784151 0.05784151 0.05650383 0.05982129 0.05516614 0.06319225\n",
            " 0.06854299 0.07121836 0.06319225 0.06383434 0.06452994 0.06383434\n",
            " 0.06452994 0.06319225 0.06249666 0.06586762 0.07121836 0.06988068\n",
            " 0.06650971 0.0678474  0.0678474  0.06383434 0.0584836  0.0591792\n",
            " 0.05249077 0.05784151 0.0584836  0.06249666 0.06383434 0.06383434\n",
            " 0.06650971 0.06517203 0.06319225 0.06185457 0.06517203 0.06854299\n",
            " 0.06854299 0.07052277 0.07319814 0.07453582 0.07587351 0.07523142\n",
            " 0.07854888 0.08389962 0.07988656 0.07790679 0.07052277 0.07453582\n",
            " 0.07186045 0.07255605 0.07521631 0.07731027 0.07963932 0.08200026\n",
            " 0.08436286 0.08671791 0.08906331 0.09139885 0.0937246  0.09604067\n",
            " 0.09834755 0.10064656 0.10293981 0.10523003 0.1075203  0.10981371\n",
            " 0.11211313 0.11442102 0.11673935 0.11906955 0.12141263 0.12376916\n",
            " 0.12613934 0.12852316 0.13092044 0.1333309 ]\n",
            "26 day output [[0.13575418]]\n",
            "27 day input [0.07790679 0.08389962 0.07523142 0.07186045 0.06854299 0.06720531\n",
            " 0.07186045 0.07389373 0.0765691  0.07721119 0.07052277 0.06383434\n",
            " 0.06115897 0.06319225 0.06650971 0.06918508 0.06249666 0.0591792\n",
            " 0.05784151 0.05447054 0.05179517 0.04778212 0.05516614 0.05784151\n",
            " 0.05784151 0.05650383 0.05982129 0.05516614 0.06319225 0.06854299\n",
            " 0.07121836 0.06319225 0.06383434 0.06452994 0.06383434 0.06452994\n",
            " 0.06319225 0.06249666 0.06586762 0.07121836 0.06988068 0.06650971\n",
            " 0.0678474  0.0678474  0.06383434 0.0584836  0.0591792  0.05249077\n",
            " 0.05784151 0.0584836  0.06249666 0.06383434 0.06383434 0.06650971\n",
            " 0.06517203 0.06319225 0.06185457 0.06517203 0.06854299 0.06854299\n",
            " 0.07052277 0.07319814 0.07453582 0.07587351 0.07523142 0.07854888\n",
            " 0.08389962 0.07988656 0.07790679 0.07052277 0.07453582 0.07186045\n",
            " 0.07255605 0.07521631 0.07731027 0.07963932 0.08200026 0.08436286\n",
            " 0.08671791 0.08906331 0.09139885 0.0937246  0.09604067 0.09834755\n",
            " 0.10064656 0.10293981 0.10523003 0.1075203  0.10981371 0.11211313\n",
            " 0.11442102 0.11673935 0.11906955 0.12141263 0.12376916 0.12613934\n",
            " 0.12852316 0.13092044 0.1333309  0.13575418]\n",
            "27 day output [[0.13818999]]\n",
            "28 day input [0.08389962 0.07523142 0.07186045 0.06854299 0.06720531 0.07186045\n",
            " 0.07389373 0.0765691  0.07721119 0.07052277 0.06383434 0.06115897\n",
            " 0.06319225 0.06650971 0.06918508 0.06249666 0.0591792  0.05784151\n",
            " 0.05447054 0.05179517 0.04778212 0.05516614 0.05784151 0.05784151\n",
            " 0.05650383 0.05982129 0.05516614 0.06319225 0.06854299 0.07121836\n",
            " 0.06319225 0.06383434 0.06452994 0.06383434 0.06452994 0.06319225\n",
            " 0.06249666 0.06586762 0.07121836 0.06988068 0.06650971 0.0678474\n",
            " 0.0678474  0.06383434 0.0584836  0.0591792  0.05249077 0.05784151\n",
            " 0.0584836  0.06249666 0.06383434 0.06383434 0.06650971 0.06517203\n",
            " 0.06319225 0.06185457 0.06517203 0.06854299 0.06854299 0.07052277\n",
            " 0.07319814 0.07453582 0.07587351 0.07523142 0.07854888 0.08389962\n",
            " 0.07988656 0.07790679 0.07052277 0.07453582 0.07186045 0.07255605\n",
            " 0.07521631 0.07731027 0.07963932 0.08200026 0.08436286 0.08671791\n",
            " 0.08906331 0.09139885 0.0937246  0.09604067 0.09834755 0.10064656\n",
            " 0.10293981 0.10523003 0.1075203  0.10981371 0.11211313 0.11442102\n",
            " 0.11673935 0.11906955 0.12141263 0.12376916 0.12613934 0.12852316\n",
            " 0.13092044 0.1333309  0.13575418 0.13818999]\n",
            "28 day output [[0.14063801]]\n",
            "29 day input [0.07523142 0.07186045 0.06854299 0.06720531 0.07186045 0.07389373\n",
            " 0.0765691  0.07721119 0.07052277 0.06383434 0.06115897 0.06319225\n",
            " 0.06650971 0.06918508 0.06249666 0.0591792  0.05784151 0.05447054\n",
            " 0.05179517 0.04778212 0.05516614 0.05784151 0.05784151 0.05650383\n",
            " 0.05982129 0.05516614 0.06319225 0.06854299 0.07121836 0.06319225\n",
            " 0.06383434 0.06452994 0.06383434 0.06452994 0.06319225 0.06249666\n",
            " 0.06586762 0.07121836 0.06988068 0.06650971 0.0678474  0.0678474\n",
            " 0.06383434 0.0584836  0.0591792  0.05249077 0.05784151 0.0584836\n",
            " 0.06249666 0.06383434 0.06383434 0.06650971 0.06517203 0.06319225\n",
            " 0.06185457 0.06517203 0.06854299 0.06854299 0.07052277 0.07319814\n",
            " 0.07453582 0.07587351 0.07523142 0.07854888 0.08389962 0.07988656\n",
            " 0.07790679 0.07052277 0.07453582 0.07186045 0.07255605 0.07521631\n",
            " 0.07731027 0.07963932 0.08200026 0.08436286 0.08671791 0.08906331\n",
            " 0.09139885 0.0937246  0.09604067 0.09834755 0.10064656 0.10293981\n",
            " 0.10523003 0.1075203  0.10981371 0.11211313 0.11442102 0.11673935\n",
            " 0.11906955 0.12141263 0.12376916 0.12613934 0.12852316 0.13092044\n",
            " 0.1333309  0.13575418 0.13818999 0.14063801]\n",
            "29 day output [[0.14309797]]\n",
            "[[0.07521630823612213], [0.07731027156114578], [0.07963932305574417], [0.0820002630352974], [0.08436286449432373], [0.08671791106462479], [0.08906330913305283], [0.09139885008335114], [0.09372460097074509], [0.09604066610336304], [0.09834755212068558], [0.10064655542373657], [0.10293980687856674], [0.10523002594709396], [0.10752029716968536], [0.10981370508670807], [0.11211312562227249], [0.11442101746797562], [0.11673934757709503], [0.11906955391168594], [0.12141263484954834], [0.12376915663480759], [0.1261393427848816], [0.12852315604686737], [0.1309204399585724], [0.13333089649677277], [0.13575418293476105], [0.13818998634815216], [0.14063800871372223], [0.14309796690940857]]\n"
          ],
          "name": "stdout"
        }
      ]
    },
    {
      "cell_type": "code",
      "metadata": {
        "id": "i3kxkFsozejg"
      },
      "source": [
        "day_new = np.arange(1,101)\r\n",
        "day_pred = np.arange(101,131)"
      ],
      "execution_count": 95,
      "outputs": []
    },
    {
      "cell_type": "code",
      "metadata": {
        "id": "1zQuPkmUzdw9"
      },
      "source": [
        "import matplotlib.pyplot as plt"
      ],
      "execution_count": 96,
      "outputs": []
    },
    {
      "cell_type": "code",
      "metadata": {
        "colab": {
          "base_uri": "https://localhost:8080/"
        },
        "id": "nLwmgz6Ezc9Y",
        "outputId": "d60773ef-0d09-4ada-c613-3690e2d0408b"
      },
      "source": [
        "len(df1)"
      ],
      "execution_count": 97,
      "outputs": [
        {
          "output_type": "execute_result",
          "data": {
            "text/plain": [
              "6081"
            ]
          },
          "metadata": {
            "tags": []
          },
          "execution_count": 97
        }
      ]
    },
    {
      "cell_type": "code",
      "metadata": {
        "colab": {
          "base_uri": "https://localhost:8080/"
        },
        "id": "CfHvpgLQ2uPg",
        "outputId": "b7381a2d-53d1-4c80-c2db-b80981e93bcc"
      },
      "source": [
        "6081-100"
      ],
      "execution_count": 98,
      "outputs": [
        {
          "output_type": "execute_result",
          "data": {
            "text/plain": [
              "5981"
            ]
          },
          "metadata": {
            "tags": []
          },
          "execution_count": 98
        }
      ]
    },
    {
      "cell_type": "code",
      "metadata": {
        "colab": {
          "base_uri": "https://localhost:8080/",
          "height": 282
        },
        "id": "CGD1bVJNzbDB",
        "outputId": "3bc9fcc8-f498-4d00-a345-7214a07d9a14"
      },
      "source": [
        "plt.plot(day_new,scaler.inverse_transform(df1[5981:]))\r\n",
        "plt.plot(day_pred,scaler.inverse_transform(lst_output))"
      ],
      "execution_count": 99,
      "outputs": [
        {
          "output_type": "execute_result",
          "data": {
            "text/plain": [
              "[<matplotlib.lines.Line2D at 0x7fb037bf4f28>]"
            ]
          },
          "metadata": {
            "tags": []
          },
          "execution_count": 99
        },
        {
          "output_type": "display_data",
          "data": {
            "image/png": "[encoded data removed]",
            "text/plain": [
              "<Figure size 432x288 with 1 Axes>"
            ]
          },
          "metadata": {
            "tags": [],
            "needs_background": "light"
          }
        }
      ]
    },
    {
      "cell_type": "code",
      "metadata": {
        "colab": {
          "base_uri": "https://localhost:8080/",
          "height": 282
        },
        "id": "HzAcpTLrzaD1",
        "outputId": "695036a5-efc9-4c2c-e3de-3f10ea20d402"
      },
      "source": [
        "df3 = df1.tolist()\r\n",
        "df3.extend(lst_output)\r\n",
        "plt.plot(df3[1000:])"
      ],
      "execution_count": 100,
      "outputs": [
        {
          "output_type": "execute_result",
          "data": {
            "text/plain": [
              "[<matplotlib.lines.Line2D at 0x7fb037b57e10>]"
            ]
          },
          "metadata": {
            "tags": []
          },
          "execution_count": 100
        },
        {
          "output_type": "display_data",
          "data": {
            "image/png": "[encoded data removed]",
            "text/plain": [
              "<Figure size 432x288 with 1 Axes>"
            ]
          },
          "metadata": {
            "tags": [],
            "needs_background": "light"
          }
        }
      ]
    },
    {
      "cell_type": "code",
      "metadata": {
        "colab": {
          "base_uri": "https://localhost:8080/",
          "height": 282
        },
        "id": "kFcB04X44C1q",
        "outputId": "80a75a5b-e12e-48fe-96d0-8d59295f3312"
      },
      "source": [
        "plt.plot(df3[3000:])"
      ],
      "execution_count": 101,
      "outputs": [
        {
          "output_type": "execute_result",
          "data": {
            "text/plain": [
              "[<matplotlib.lines.Line2D at 0x7fb037b46ba8>]"
            ]
          },
          "metadata": {
            "tags": []
          },
          "execution_count": 101
        },
        {
          "output_type": "display_data",
          "data": {
            "image/png": "[encoded data removed]",
            "text/plain": [
              "<Figure size 432x288 with 1 Axes>"
            ]
          },
          "metadata": {
            "tags": [],
            "needs_background": "light"
          }
        }
      ]
    }
  ]
}