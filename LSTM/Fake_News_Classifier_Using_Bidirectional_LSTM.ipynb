{
  "nbformat": 4,
  "nbformat_minor": 0,
  "metadata": {
    "colab": {
      "name": "Fake_News_Classifier_Using_Bidirectional_LSTM.ipynb",
      "provenance": [],
      "collapsed_sections": []
    },
    "kernelspec": {
      "name": "python3",
      "display_name": "Python 3"
    },
    "accelerator": "GPU"
  },
  "cells": [
    {
      "cell_type": "markdown",
      "metadata": {
        "id": "S9PmGoAUa0nX"
      },
      "source": [
        "### **Fake News Classifier Using Bidirectional LSTM**\r\n",
        "\r\n",
        "Dataset: https://www.kaggle.com/c/fake-news/data#"
      ]
    },
    {
      "cell_type": "code",
      "metadata": {
        "colab": {
          "base_uri": "https://localhost:8080/"
        },
        "id": "HD7E6FD0px6p",
        "outputId": "fb66eecf-22f3-4d7c-8828-5841457fe0ec"
      },
      "source": [
        "from google.colab import drive\r\n",
        "drive.mount('/gdrive')"
      ],
      "execution_count": 1,
      "outputs": [
        {
          "output_type": "stream",
          "text": [
            "Mounted at /gdrive\n"
          ],
          "name": "stdout"
        }
      ]
    },
    {
      "cell_type": "code",
      "metadata": {
        "id": "dizAgyD8ayA_"
      },
      "source": [
        "import pandas as pd"
      ],
      "execution_count": 2,
      "outputs": []
    },
    {
      "cell_type": "code",
      "metadata": {
        "colab": {
          "base_uri": "https://localhost:8080/",
          "height": 340
        },
        "id": "mR8T3n3mp2SX",
        "outputId": "7bdad28c-40a9-449c-cf64-b7e7c306474d"
      },
      "source": [
        "df=pd.read_csv('/gdrive/My Drive/LSTM/train.csv')\r\n",
        "\r\n",
        "df.head()"
      ],
      "execution_count": 3,
      "outputs": [
        {
          "output_type": "execute_result",
          "data": {
            "text/html": [
              "<div>\n",
              "<style scoped>\n",
              "    .dataframe tbody tr th:only-of-type {\n",
              "        vertical-align: middle;\n",
              "    }\n",
              "\n",
              "    .dataframe tbody tr th {\n",
              "        vertical-align: top;\n",
              "    }\n",
              "\n",
              "    .dataframe thead th {\n",
              "        text-align: right;\n",
              "    }\n",
              "</style>\n",
              "<table border=\"1\" class=\"dataframe\">\n",
              "  <thead>\n",
              "    <tr style=\"text-align: right;\">\n",
              "      <th></th>\n",
              "      <th>id</th>\n",
              "      <th>title</th>\n",
              "      <th>author</th>\n",
              "      <th>text</th>\n",
              "      <th>label</th>\n",
              "    </tr>\n",
              "  </thead>\n",
              "  <tbody>\n",
              "    <tr>\n",
              "      <th>0</th>\n",
              "      <td>0</td>\n",
              "      <td>House Dem Aide: We Didn’t Even See Comey’s Let...</td>\n",
              "      <td>Darrell Lucus</td>\n",
              "      <td>House Dem Aide: We Didn’t Even See Comey’s Let...</td>\n",
              "      <td>1</td>\n",
              "    </tr>\n",
              "    <tr>\n",
              "      <th>1</th>\n",
              "      <td>1</td>\n",
              "      <td>FLYNN: Hillary Clinton, Big Woman on Campus - ...</td>\n",
              "      <td>Daniel J. Flynn</td>\n",
              "      <td>Ever get the feeling your life circles the rou...</td>\n",
              "      <td>0</td>\n",
              "    </tr>\n",
              "    <tr>\n",
              "      <th>2</th>\n",
              "      <td>2</td>\n",
              "      <td>Why the Truth Might Get You Fired</td>\n",
              "      <td>Consortiumnews.com</td>\n",
              "      <td>Why the Truth Might Get You Fired October 29, ...</td>\n",
              "      <td>1</td>\n",
              "    </tr>\n",
              "    <tr>\n",
              "      <th>3</th>\n",
              "      <td>3</td>\n",
              "      <td>15 Civilians Killed In Single US Airstrike Hav...</td>\n",
              "      <td>Jessica Purkiss</td>\n",
              "      <td>Videos 15 Civilians Killed In Single US Airstr...</td>\n",
              "      <td>1</td>\n",
              "    </tr>\n",
              "    <tr>\n",
              "      <th>4</th>\n",
              "      <td>4</td>\n",
              "      <td>Iranian woman jailed for fictional unpublished...</td>\n",
              "      <td>Howard Portnoy</td>\n",
              "      <td>Print \\nAn Iranian woman has been sentenced to...</td>\n",
              "      <td>1</td>\n",
              "    </tr>\n",
              "  </tbody>\n",
              "</table>\n",
              "</div>"
            ],
            "text/plain": [
              "   id  ... label\n",
              "0   0  ...     1\n",
              "1   1  ...     0\n",
              "2   2  ...     1\n",
              "3   3  ...     1\n",
              "4   4  ...     1\n",
              "\n",
              "[5 rows x 5 columns]"
            ]
          },
          "metadata": {
            "tags": []
          },
          "execution_count": 3
        }
      ]
    },
    {
      "cell_type": "code",
      "metadata": {
        "id": "ynrtlnmjqD_9"
      },
      "source": [
        "# Drop Nan Values\r\n",
        "\r\n",
        "df=df.dropna()"
      ],
      "execution_count": 4,
      "outputs": []
    },
    {
      "cell_type": "code",
      "metadata": {
        "id": "1w1Oz26wqDjl"
      },
      "source": [
        "# Get the Independent Features\r\n",
        "\r\n",
        "X=df.drop('label',axis=1)"
      ],
      "execution_count": 5,
      "outputs": []
    },
    {
      "cell_type": "code",
      "metadata": {
        "colab": {
          "base_uri": "https://localhost:8080/",
          "height": 289
        },
        "id": "q3SZGbMdJlTH",
        "outputId": "f842caae-bb0f-4349-8035-7de590fc9306"
      },
      "source": [
        "X.head()"
      ],
      "execution_count": 6,
      "outputs": [
        {
          "output_type": "execute_result",
          "data": {
            "text/html": [
              "<div>\n",
              "<style scoped>\n",
              "    .dataframe tbody tr th:only-of-type {\n",
              "        vertical-align: middle;\n",
              "    }\n",
              "\n",
              "    .dataframe tbody tr th {\n",
              "        vertical-align: top;\n",
              "    }\n",
              "\n",
              "    .dataframe thead th {\n",
              "        text-align: right;\n",
              "    }\n",
              "</style>\n",
              "<table border=\"1\" class=\"dataframe\">\n",
              "  <thead>\n",
              "    <tr style=\"text-align: right;\">\n",
              "      <th></th>\n",
              "      <th>id</th>\n",
              "      <th>title</th>\n",
              "      <th>author</th>\n",
              "      <th>text</th>\n",
              "    </tr>\n",
              "  </thead>\n",
              "  <tbody>\n",
              "    <tr>\n",
              "      <th>0</th>\n",
              "      <td>0</td>\n",
              "      <td>House Dem Aide: We Didn’t Even See Comey’s Let...</td>\n",
              "      <td>Darrell Lucus</td>\n",
              "      <td>House Dem Aide: We Didn’t Even See Comey’s Let...</td>\n",
              "    </tr>\n",
              "    <tr>\n",
              "      <th>1</th>\n",
              "      <td>1</td>\n",
              "      <td>FLYNN: Hillary Clinton, Big Woman on Campus - ...</td>\n",
              "      <td>Daniel J. Flynn</td>\n",
              "      <td>Ever get the feeling your life circles the rou...</td>\n",
              "    </tr>\n",
              "    <tr>\n",
              "      <th>2</th>\n",
              "      <td>2</td>\n",
              "      <td>Why the Truth Might Get You Fired</td>\n",
              "      <td>Consortiumnews.com</td>\n",
              "      <td>Why the Truth Might Get You Fired October 29, ...</td>\n",
              "    </tr>\n",
              "    <tr>\n",
              "      <th>3</th>\n",
              "      <td>3</td>\n",
              "      <td>15 Civilians Killed In Single US Airstrike Hav...</td>\n",
              "      <td>Jessica Purkiss</td>\n",
              "      <td>Videos 15 Civilians Killed In Single US Airstr...</td>\n",
              "    </tr>\n",
              "    <tr>\n",
              "      <th>4</th>\n",
              "      <td>4</td>\n",
              "      <td>Iranian woman jailed for fictional unpublished...</td>\n",
              "      <td>Howard Portnoy</td>\n",
              "      <td>Print \\nAn Iranian woman has been sentenced to...</td>\n",
              "    </tr>\n",
              "  </tbody>\n",
              "</table>\n",
              "</div>"
            ],
            "text/plain": [
              "   id  ...                                               text\n",
              "0   0  ...  House Dem Aide: We Didn’t Even See Comey’s Let...\n",
              "1   1  ...  Ever get the feeling your life circles the rou...\n",
              "2   2  ...  Why the Truth Might Get You Fired October 29, ...\n",
              "3   3  ...  Videos 15 Civilians Killed In Single US Airstr...\n",
              "4   4  ...  Print \\nAn Iranian woman has been sentenced to...\n",
              "\n",
              "[5 rows x 4 columns]"
            ]
          },
          "metadata": {
            "tags": []
          },
          "execution_count": 6
        }
      ]
    },
    {
      "cell_type": "code",
      "metadata": {
        "id": "zbmH1Hk-qDKM"
      },
      "source": [
        "## Get the Dependent features\r\n",
        "\r\n",
        "y=df['label']"
      ],
      "execution_count": 7,
      "outputs": []
    },
    {
      "cell_type": "code",
      "metadata": {
        "colab": {
          "base_uri": "https://localhost:8080/"
        },
        "id": "PXADEK0rJrJC",
        "outputId": "ced1c4bb-7baf-42fd-be54-c0dda1c1217b"
      },
      "source": [
        "y.head()"
      ],
      "execution_count": 8,
      "outputs": [
        {
          "output_type": "execute_result",
          "data": {
            "text/plain": [
              "0    1\n",
              "1    0\n",
              "2    1\n",
              "3    1\n",
              "4    1\n",
              "Name: label, dtype: int64"
            ]
          },
          "metadata": {
            "tags": []
          },
          "execution_count": 8
        }
      ]
    },
    {
      "cell_type": "code",
      "metadata": {
        "colab": {
          "base_uri": "https://localhost:8080/"
        },
        "id": "-gFWQ3tXP0R8",
        "outputId": "c5d532ca-0b6e-4afc-c222-cbd9ebca35f4"
      },
      "source": [
        "y.value_counts()"
      ],
      "execution_count": 9,
      "outputs": [
        {
          "output_type": "execute_result",
          "data": {
            "text/plain": [
              "0    10361\n",
              "1     7924\n",
              "Name: label, dtype: int64"
            ]
          },
          "metadata": {
            "tags": []
          },
          "execution_count": 9
        }
      ]
    },
    {
      "cell_type": "code",
      "metadata": {
        "colab": {
          "base_uri": "https://localhost:8080/"
        },
        "id": "2SjZRQs8qCk-",
        "outputId": "5fd7d997-1e99-4df1-fcf4-96409b59fcc5"
      },
      "source": [
        "X.shape"
      ],
      "execution_count": 10,
      "outputs": [
        {
          "output_type": "execute_result",
          "data": {
            "text/plain": [
              "(18285, 4)"
            ]
          },
          "metadata": {
            "tags": []
          },
          "execution_count": 10
        }
      ]
    },
    {
      "cell_type": "code",
      "metadata": {
        "colab": {
          "base_uri": "https://localhost:8080/"
        },
        "id": "iQHpDvEMqCZx",
        "outputId": "f6e5d198-f52a-415a-e551-fefc856fa7cd"
      },
      "source": [
        "y.shape"
      ],
      "execution_count": 11,
      "outputs": [
        {
          "output_type": "execute_result",
          "data": {
            "text/plain": [
              "(18285,)"
            ]
          },
          "metadata": {
            "tags": []
          },
          "execution_count": 11
        }
      ]
    },
    {
      "cell_type": "code",
      "metadata": {
        "id": "2jZcFzTkqCPe"
      },
      "source": [
        "import tensorflow as tf"
      ],
      "execution_count": 12,
      "outputs": []
    },
    {
      "cell_type": "code",
      "metadata": {
        "colab": {
          "base_uri": "https://localhost:8080/",
          "height": 35
        },
        "id": "rwObIugeqWHB",
        "outputId": "a984e6f2-2bd4-4bac-ccf4-2ad2728c742a"
      },
      "source": [
        "tf.__version__"
      ],
      "execution_count": 13,
      "outputs": [
        {
          "output_type": "execute_result",
          "data": {
            "application/vnd.google.colaboratory.intrinsic+json": {
              "type": "string"
            },
            "text/plain": [
              "'2.4.0'"
            ]
          },
          "metadata": {
            "tags": []
          },
          "execution_count": 13
        }
      ]
    },
    {
      "cell_type": "code",
      "metadata": {
        "id": "LRqF5aMfqXDm"
      },
      "source": [
        "from tensorflow.keras.layers import Embedding\r\n",
        "from tensorflow.keras.preprocessing.sequence import pad_sequences\r\n",
        "from tensorflow.keras.models import Sequential\r\n",
        "from tensorflow.keras.preprocessing.text import one_hot\r\n",
        "from tensorflow.keras.layers import LSTM\r\n",
        "from tensorflow.keras.layers import Dense\r\n",
        "from tensorflow.keras.layers import Bidirectional"
      ],
      "execution_count": 14,
      "outputs": []
    },
    {
      "cell_type": "code",
      "metadata": {
        "id": "w8RE6KbPqbD1"
      },
      "source": [
        "# Vocabulary size\r\n",
        "\r\n",
        "voc_size=5000"
      ],
      "execution_count": 15,
      "outputs": []
    },
    {
      "cell_type": "markdown",
      "metadata": {
        "id": "M2IE1cWBqn2g"
      },
      "source": [
        "#### **Onehot Representation**"
      ]
    },
    {
      "cell_type": "code",
      "metadata": {
        "id": "GAUY6qD1qlvn"
      },
      "source": [
        "messages=X.copy()"
      ],
      "execution_count": 16,
      "outputs": []
    },
    {
      "cell_type": "code",
      "metadata": {
        "colab": {
          "base_uri": "https://localhost:8080/",
          "height": 35
        },
        "id": "855mgoqrqlb7",
        "outputId": "47609a2d-110b-427b-b5df-bbc0f0df9011"
      },
      "source": [
        "messages['title'][1]"
      ],
      "execution_count": 17,
      "outputs": [
        {
          "output_type": "execute_result",
          "data": {
            "application/vnd.google.colaboratory.intrinsic+json": {
              "type": "string"
            },
            "text/plain": [
              "'FLYNN: Hillary Clinton, Big Woman on Campus - Breitbart'"
            ]
          },
          "metadata": {
            "tags": []
          },
          "execution_count": 17
        }
      ]
    },
    {
      "cell_type": "code",
      "metadata": {
        "id": "bIhwrh6eqlFJ"
      },
      "source": [
        "messages.reset_index(inplace=True)"
      ],
      "execution_count": 18,
      "outputs": []
    },
    {
      "cell_type": "code",
      "metadata": {
        "id": "FckNyrK-qk87"
      },
      "source": [
        "import nltk\r\n",
        "import re\r\n",
        "from nltk.corpus import stopwords"
      ],
      "execution_count": 19,
      "outputs": []
    },
    {
      "cell_type": "code",
      "metadata": {
        "colab": {
          "base_uri": "https://localhost:8080/"
        },
        "id": "7FQcPXW-q5r_",
        "outputId": "dc7b4278-8414-492c-f8d9-c001341ebeee"
      },
      "source": [
        "nltk.download('stopwords')"
      ],
      "execution_count": 20,
      "outputs": [
        {
          "output_type": "stream",
          "text": [
            "[nltk_data] Downloading package stopwords to /root/nltk_data...\n",
            "[nltk_data]   Unzipping corpora/stopwords.zip.\n"
          ],
          "name": "stdout"
        },
        {
          "output_type": "execute_result",
          "data": {
            "text/plain": [
              "True"
            ]
          },
          "metadata": {
            "tags": []
          },
          "execution_count": 20
        }
      ]
    },
    {
      "cell_type": "code",
      "metadata": {
        "id": "5JrZqB8Eq5gf"
      },
      "source": [
        "### Dataset Preprocessing\r\n",
        "from nltk.stem.porter import PorterStemmer\r\n",
        "ps = PorterStemmer()\r\n",
        "corpus = []\r\n",
        "for i in range(0, len(messages)):\r\n",
        "    #print(i)\r\n",
        "    review = re.sub('[^a-zA-Z]', ' ', messages['title'][i])\r\n",
        "    review = review.lower()\r\n",
        "    review = review.split()\r\n",
        "    \r\n",
        "    review = [ps.stem(word) for word in review if not word in stopwords.words('english')]\r\n",
        "    review = ' '.join(review)\r\n",
        "    corpus.append(review)"
      ],
      "execution_count": 21,
      "outputs": []
    },
    {
      "cell_type": "code",
      "metadata": {
        "colab": {
          "base_uri": "https://localhost:8080/"
        },
        "id": "SOm3CG84q5Vi",
        "outputId": "27b58247-a0b6-42d2-f7cd-ebb5537f398d"
      },
      "source": [
        "corpus[0:5]"
      ],
      "execution_count": 22,
      "outputs": [
        {
          "output_type": "execute_result",
          "data": {
            "text/plain": [
              "['hous dem aid even see comey letter jason chaffetz tweet',\n",
              " 'flynn hillari clinton big woman campu breitbart',\n",
              " 'truth might get fire',\n",
              " 'civilian kill singl us airstrik identifi',\n",
              " 'iranian woman jail fiction unpublish stori woman stone death adulteri']"
            ]
          },
          "metadata": {
            "tags": []
          },
          "execution_count": 22
        }
      ]
    },
    {
      "cell_type": "code",
      "metadata": {
        "colab": {
          "base_uri": "https://localhost:8080/"
        },
        "id": "Lf1C9yMSq5Os",
        "outputId": "2f71e611-390e-4470-9d82-d1bde78e52c2"
      },
      "source": [
        "onehot_repr=[one_hot(words,voc_size)for words in corpus] \r\n",
        "onehot_repr[0:5]"
      ],
      "execution_count": 23,
      "outputs": [
        {
          "output_type": "execute_result",
          "data": {
            "text/plain": [
              "[[1447, 939, 3505, 164, 2525, 888, 4917, 4896, 4369, 293],\n",
              " [1797, 589, 2697, 1755, 2696, 3260, 2831],\n",
              " [637, 3633, 3676, 1529],\n",
              " [3300, 4445, 1065, 4761, 927, 2189],\n",
              " [3847, 2696, 353, 920, 3933, 4973, 2696, 1119, 3297, 2490]]"
            ]
          },
          "metadata": {
            "tags": []
          },
          "execution_count": 23
        }
      ]
    },
    {
      "cell_type": "markdown",
      "metadata": {
        "id": "AqbdK6t_rnP5"
      },
      "source": [
        "### **Embedding Representation**"
      ]
    },
    {
      "cell_type": "code",
      "metadata": {
        "colab": {
          "base_uri": "https://localhost:8080/"
        },
        "id": "SKvux4J_q5FH",
        "outputId": "53571795-bf2c-42dc-9864-3fc6ed98d833"
      },
      "source": [
        "sent_length=20\r\n",
        "embedded_docs=pad_sequences(onehot_repr,padding='pre',maxlen=sent_length)\r\n",
        "print(embedded_docs)"
      ],
      "execution_count": 24,
      "outputs": [
        {
          "output_type": "stream",
          "text": [
            "[[   0    0    0 ... 4896 4369  293]\n",
            " [   0    0    0 ... 2696 3260 2831]\n",
            " [   0    0    0 ... 3633 3676 1529]\n",
            " ...\n",
            " [   0    0    0 ... 1598 4302 1098]\n",
            " [   0    0    0 ...  891 2233  965]\n",
            " [   0    0    0 ... 2238  238  918]]\n"
          ],
          "name": "stdout"
        }
      ]
    },
    {
      "cell_type": "code",
      "metadata": {
        "colab": {
          "base_uri": "https://localhost:8080/"
        },
        "id": "esLTfeoXruAU",
        "outputId": "fc02aa13-b63a-4aa3-856c-2e154569d9c8"
      },
      "source": [
        "embedded_docs[0]"
      ],
      "execution_count": 25,
      "outputs": [
        {
          "output_type": "execute_result",
          "data": {
            "text/plain": [
              "array([   0,    0,    0,    0,    0,    0,    0,    0,    0,    0, 1447,\n",
              "        939, 3505,  164, 2525,  888, 4917, 4896, 4369,  293], dtype=int32)"
            ]
          },
          "metadata": {
            "tags": []
          },
          "execution_count": 25
        }
      ]
    },
    {
      "cell_type": "code",
      "metadata": {
        "colab": {
          "base_uri": "https://localhost:8080/"
        },
        "id": "HzOnlAMgrtsP",
        "outputId": "8e620a40-f069-49b5-a301-cbf5de5db2a1"
      },
      "source": [
        "## Creating model\r\n",
        "embedding_vector_features=40\r\n",
        "model=Sequential()\r\n",
        "model.add(Embedding(voc_size,embedding_vector_features,input_length=sent_length))\r\n",
        "model.add(Bidirectional(LSTM(100)))\r\n",
        "model.add(Dense(1,activation='sigmoid'))\r\n",
        "model.compile(loss='binary_crossentropy',optimizer='adam',metrics=['accuracy'])\r\n",
        "print(model.summary())"
      ],
      "execution_count": 27,
      "outputs": [
        {
          "output_type": "stream",
          "text": [
            "Model: \"sequential\"\n",
            "_________________________________________________________________\n",
            "Layer (type)                 Output Shape              Param #   \n",
            "=================================================================\n",
            "embedding (Embedding)        (None, 20, 40)            200000    \n",
            "_________________________________________________________________\n",
            "bidirectional (Bidirectional (None, 200)               112800    \n",
            "_________________________________________________________________\n",
            "dense (Dense)                (None, 1)                 201       \n",
            "=================================================================\n",
            "Total params: 313,001\n",
            "Trainable params: 313,001\n",
            "Non-trainable params: 0\n",
            "_________________________________________________________________\n",
            "None\n"
          ],
          "name": "stdout"
        }
      ]
    },
    {
      "cell_type": "code",
      "metadata": {
        "colab": {
          "base_uri": "https://localhost:8080/"
        },
        "id": "zOeua1V0rtkr",
        "outputId": "66e4cffe-9f03-4614-80b4-8ab6ddf6f2f0"
      },
      "source": [
        "len(embedded_docs),y.shape"
      ],
      "execution_count": 28,
      "outputs": [
        {
          "output_type": "execute_result",
          "data": {
            "text/plain": [
              "(18285, (18285,))"
            ]
          },
          "metadata": {
            "tags": []
          },
          "execution_count": 28
        }
      ]
    },
    {
      "cell_type": "code",
      "metadata": {
        "id": "i8IcRlWFr5L1"
      },
      "source": [
        "import numpy as np\r\n",
        "X_final=np.array(embedded_docs)\r\n",
        "y_final=np.array(y)"
      ],
      "execution_count": 29,
      "outputs": []
    },
    {
      "cell_type": "code",
      "metadata": {
        "colab": {
          "base_uri": "https://localhost:8080/"
        },
        "id": "bXX-o3uTr5C1",
        "outputId": "32dfa778-94ce-4e2a-ac47-e144422c25a3"
      },
      "source": [
        "X_final.shape,y_final.shape"
      ],
      "execution_count": 30,
      "outputs": [
        {
          "output_type": "execute_result",
          "data": {
            "text/plain": [
              "((18285, 20), (18285,))"
            ]
          },
          "metadata": {
            "tags": []
          },
          "execution_count": 30
        }
      ]
    },
    {
      "cell_type": "code",
      "metadata": {
        "id": "zVz0S3LPr4uZ"
      },
      "source": [
        "from sklearn.model_selection import train_test_split\r\n",
        "X_train, X_test, y_train, y_test = train_test_split(X_final, y_final, test_size=0.33, random_state=42)"
      ],
      "execution_count": 31,
      "outputs": []
    },
    {
      "cell_type": "markdown",
      "metadata": {
        "id": "ze2fZpc8sEmk"
      },
      "source": [
        "### **Model Training**"
      ]
    },
    {
      "cell_type": "code",
      "metadata": {
        "colab": {
          "base_uri": "https://localhost:8080/"
        },
        "id": "Wz7KeXwzr4l9",
        "outputId": "b5f304af-8f13-412a-add5-d68c4888893b"
      },
      "source": [
        "# Finally Training\r\n",
        "model.fit(X_train,y_train,validation_data=(X_test,y_test),epochs=10,batch_size=64)"
      ],
      "execution_count": 32,
      "outputs": [
        {
          "output_type": "stream",
          "text": [
            "Epoch 1/10\n",
            "192/192 [==============================] - 12s 15ms/step - loss: 0.4432 - accuracy: 0.7618 - val_loss: 0.1987 - val_accuracy: 0.9185\n",
            "Epoch 2/10\n",
            "192/192 [==============================] - 2s 11ms/step - loss: 0.1382 - accuracy: 0.9498 - val_loss: 0.2029 - val_accuracy: 0.9181\n",
            "Epoch 3/10\n",
            "192/192 [==============================] - 2s 10ms/step - loss: 0.0835 - accuracy: 0.9712 - val_loss: 0.2223 - val_accuracy: 0.9150\n",
            "Epoch 4/10\n",
            "192/192 [==============================] - 2s 10ms/step - loss: 0.0572 - accuracy: 0.9818 - val_loss: 0.2953 - val_accuracy: 0.9125\n",
            "Epoch 5/10\n",
            "192/192 [==============================] - 2s 10ms/step - loss: 0.0508 - accuracy: 0.9826 - val_loss: 0.3293 - val_accuracy: 0.9099\n",
            "Epoch 6/10\n",
            "192/192 [==============================] - 2s 11ms/step - loss: 0.0338 - accuracy: 0.9901 - val_loss: 0.4151 - val_accuracy: 0.9079\n",
            "Epoch 7/10\n",
            "192/192 [==============================] - 2s 10ms/step - loss: 0.0220 - accuracy: 0.9942 - val_loss: 0.4121 - val_accuracy: 0.9064\n",
            "Epoch 8/10\n",
            "192/192 [==============================] - 2s 10ms/step - loss: 0.0142 - accuracy: 0.9959 - val_loss: 0.5185 - val_accuracy: 0.9104\n",
            "Epoch 9/10\n",
            "192/192 [==============================] - 2s 10ms/step - loss: 0.0104 - accuracy: 0.9969 - val_loss: 0.5147 - val_accuracy: 0.9125\n",
            "Epoch 10/10\n",
            "192/192 [==============================] - 2s 10ms/step - loss: 0.0096 - accuracy: 0.9981 - val_loss: 0.5300 - val_accuracy: 0.9099\n"
          ],
          "name": "stdout"
        },
        {
          "output_type": "execute_result",
          "data": {
            "text/plain": [
              "<tensorflow.python.keras.callbacks.History at 0x7fb4002e01d0>"
            ]
          },
          "metadata": {
            "tags": []
          },
          "execution_count": 32
        }
      ]
    },
    {
      "cell_type": "markdown",
      "metadata": {
        "id": "Txs7nD5SsRc_"
      },
      "source": [
        "### **Adding Dropout**\r\n",
        "\r\n",
        "You can add this code for dropout\r\n",
        "\r\n",
        "from tensorflow.keras.layers import Dropout\r\n",
        "## Creating model\r\n",
        "embedding_vector_features=40\r\n",
        "model=Sequential()\r\n",
        "model.add(Embedding(voc_size,embedding_vector_features,input_length=sent_length))\r\n",
        "model.add(Dropout(0.3))\r\n",
        "model.add(LSTM(100))\r\n",
        "model.add(Dropout(0.3))\r\n",
        "model.add(Dense(1,activation='sigmoid'))\r\n",
        "model.compile(loss='binary_crossentropy',optimizer='adam',metrics=['accuracy'])"
      ]
    },
    {
      "cell_type": "markdown",
      "metadata": {
        "id": "FNV4ZUrOsbL9"
      },
      "source": [
        "### **Performance Metrics And Accuracy**"
      ]
    },
    {
      "cell_type": "code",
      "metadata": {
        "id": "gPfewDXgsVlw"
      },
      "source": [
        "#y_pred=model.predict_classes(X_test)\r\n",
        "y_pred = (model.predict(X_test) > 0.5).astype(\"int32\")"
      ],
      "execution_count": 33,
      "outputs": []
    },
    {
      "cell_type": "code",
      "metadata": {
        "id": "PnoHXfmGsVR7"
      },
      "source": [
        "from sklearn.metrics import confusion_matrix"
      ],
      "execution_count": 34,
      "outputs": []
    },
    {
      "cell_type": "code",
      "metadata": {
        "colab": {
          "base_uri": "https://localhost:8080/"
        },
        "id": "5AkMdQ0BsVJY",
        "outputId": "e4fca4f4-f511-4913-c1ce-79b5583395d8"
      },
      "source": [
        "confusion_matrix(y_test,y_pred)"
      ],
      "execution_count": 35,
      "outputs": [
        {
          "output_type": "execute_result",
          "data": {
            "text/plain": [
              "array([[3130,  289],\n",
              "       [ 255, 2361]])"
            ]
          },
          "metadata": {
            "tags": []
          },
          "execution_count": 35
        }
      ]
    },
    {
      "cell_type": "code",
      "metadata": {
        "colab": {
          "base_uri": "https://localhost:8080/"
        },
        "id": "DJIdtG8OsoEL",
        "outputId": "0982f2d9-08d4-4742-ee3e-1f2a258bae3e"
      },
      "source": [
        "from sklearn.metrics import accuracy_score\r\n",
        "accuracy_score(y_test,y_pred)"
      ],
      "execution_count": 36,
      "outputs": [
        {
          "output_type": "execute_result",
          "data": {
            "text/plain": [
              "0.9098591549295775"
            ]
          },
          "metadata": {
            "tags": []
          },
          "execution_count": 36
        }
      ]
    },
    {
      "cell_type": "code",
      "metadata": {
        "colab": {
          "base_uri": "https://localhost:8080/"
        },
        "id": "1VEjJuecTjCw",
        "outputId": "9a3ab9af-9db8-4b8b-dccd-ac161f64e903"
      },
      "source": [
        "from sklearn.metrics import classification_report\r\n",
        "print(classification_report(y_test,y_pred))"
      ],
      "execution_count": 38,
      "outputs": [
        {
          "output_type": "stream",
          "text": [
            "              precision    recall  f1-score   support\n",
            "\n",
            "           0       0.92      0.92      0.92      3419\n",
            "           1       0.89      0.90      0.90      2616\n",
            "\n",
            "    accuracy                           0.91      6035\n",
            "   macro avg       0.91      0.91      0.91      6035\n",
            "weighted avg       0.91      0.91      0.91      6035\n",
            "\n"
          ],
          "name": "stdout"
        }
      ]
    }
  ]
}